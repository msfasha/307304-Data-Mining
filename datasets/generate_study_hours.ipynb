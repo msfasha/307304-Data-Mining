{
 "cells": [
  {
   "cell_type": "code",
   "execution_count": null,
   "id": "e194c562-e7ce-43c2-ab80-5c359293af74",
   "metadata": {},
   "outputs": [],
   "source": [
    "# Recreate the dataset with a clearer linear relation:\n",
    "# Lower study hours (around 1) should yield marks closer to 40,\n",
    "# while higher study hours (around 6) should yield marks closer to 100.\n",
    "\n",
    "# Generate 30 random values for study hours (ranging from 1 to 6 hours for this linear relationship)\n",
    "study_hours_linear = np.round(np.random.uniform(1, 6, 30), 1)\n",
    "\n",
    "# Set up a linear relation where each hour approximately adds around 10-12 marks to the base score\n",
    "# Adding some noise while keeping the range between 35 and 100\n",
    "marks_linear = np.clip(np.round(40 + study_hours_linear * 12 + np.random.normal(0, 3, 30), 1), 35, 100)\n",
    "\n",
    "# Create the updated DataFrame\n",
    "study_marks_linear_data = pd.DataFrame({\n",
    "    'Study Hours': study_hours_linear,\n",
    "    'Marks': marks_linear\n",
    "})\n",
    "\n",
    "tools.display_dataframe_to_user(name=\"Improved Study Hours vs Marks Dataset\", dataframe=study_marks_linear_data)\n"
   ]
  }
 ],
 "metadata": {
  "kernelspec": {
   "display_name": "Python 3 (ipykernel)",
   "language": "python",
   "name": "python3"
  },
  "language_info": {
   "codemirror_mode": {
    "name": "ipython",
    "version": 3
   },
   "file_extension": ".py",
   "mimetype": "text/x-python",
   "name": "python",
   "nbconvert_exporter": "python",
   "pygments_lexer": "ipython3",
   "version": "3.11.2"
  }
 },
 "nbformat": 4,
 "nbformat_minor": 5
}
