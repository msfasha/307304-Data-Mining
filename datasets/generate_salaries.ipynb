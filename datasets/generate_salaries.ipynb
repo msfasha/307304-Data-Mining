{
 "cells": [
  {
   "cell_type": "code",
   "execution_count": 1,
   "id": "fd5a5187-e59b-4921-96c4-99857d1b2a3c",
   "metadata": {},
   "outputs": [
    {
     "ename": "NameError",
     "evalue": "name 'np' is not defined",
     "output_type": "error",
     "traceback": [
      "\u001b[0;31m---------------------------------------------------------------------------\u001b[0m",
      "\u001b[0;31mNameError\u001b[0m                                 Traceback (most recent call last)",
      "Cell \u001b[0;32mIn[1], line 6\u001b[0m\n\u001b[1;32m      1\u001b[0m \u001b[38;5;66;03m# Recreate the \"Years of Experience vs Salary\" dataset with specified constraints:\u001b[39;00m\n\u001b[1;32m      2\u001b[0m \u001b[38;5;66;03m# - Minimum salary of 350 for 0 years of experience\u001b[39;00m\n\u001b[1;32m      3\u001b[0m \u001b[38;5;66;03m# - Salary increases with experience up to a maximum of 2000 at 20 years\u001b[39;00m\n\u001b[1;32m      4\u001b[0m \n\u001b[1;32m      5\u001b[0m \u001b[38;5;66;03m# Generate 40 random values for years of experience (ranging from 0 to 20 years)\u001b[39;00m\n\u001b[0;32m----> 6\u001b[0m years_experience_fixed \u001b[38;5;241m=\u001b[39m \u001b[43mnp\u001b[49m\u001b[38;5;241m.\u001b[39mround(np\u001b[38;5;241m.\u001b[39mrandom\u001b[38;5;241m.\u001b[39muniform(\u001b[38;5;241m0\u001b[39m, \u001b[38;5;241m20\u001b[39m, \u001b[38;5;241m30\u001b[39m), \u001b[38;5;241m1\u001b[39m)\n\u001b[1;32m      8\u001b[0m \u001b[38;5;66;03m# Create a linear relationship with a base salary of 350, increasing with experience\u001b[39;00m\n\u001b[1;32m      9\u001b[0m \u001b[38;5;66;03m# Add some noise and ensure salaries range between 350 and 2000\u001b[39;00m\n\u001b[1;32m     10\u001b[0m salary_fixed \u001b[38;5;241m=\u001b[39m np\u001b[38;5;241m.\u001b[39mclip(np\u001b[38;5;241m.\u001b[39mround(\u001b[38;5;241m350\u001b[39m \u001b[38;5;241m+\u001b[39m years_experience_fixed \u001b[38;5;241m*\u001b[39m \u001b[38;5;241m80\u001b[39m \u001b[38;5;241m+\u001b[39m np\u001b[38;5;241m.\u001b[39mrandom\u001b[38;5;241m.\u001b[39mnormal(\u001b[38;5;241m0\u001b[39m, \u001b[38;5;241m50\u001b[39m, \u001b[38;5;241m40\u001b[39m), \u001b[38;5;241m2\u001b[39m), \u001b[38;5;241m350\u001b[39m, \u001b[38;5;241m2000\u001b[39m)\n",
      "\u001b[0;31mNameError\u001b[0m: name 'np' is not defined"
     ]
    }
   ],
   "source": [
    "# Recreate the \"Years of Experience vs Salary\" dataset with specified constraints:\n",
    "# - Minimum salary of 350 for 0 years of experience\n",
    "# - Salary increases with experience up to a maximum of 2000 at 20 years\n",
    "\n",
    "# Generate 40 random values for years of experience (ranging from 0 to 20 years)\n",
    "years_experience_fixed = np.round(np.random.uniform(0, 20, 30), 1)\n",
    "\n",
    "# Create a linear relationship with a base salary of 350, increasing with experience\n",
    "# Add some noise and ensure salaries range between 350 and 2000\n",
    "salary_fixed = np.clip(np.round(350 + years_experience_fixed * 80 + np.random.normal(0, 50, 40), 2), 350, 2000)\n",
    "\n",
    "# Create the updated DataFrame\n",
    "experience_salary_fixed_data = pd.DataFrame({\n",
    "    'Years of Experience': years_experience_fixed,\n",
    "    'Salary': salary_fixed\n",
    "})\n",
    "\n",
    "tools.display_dataframe_to_user(name=\"Adjusted Years of Experience vs Salary Dataset\", dataframe=experience_salary_fixed_data)\n"
   ]
  },
  {
   "cell_type": "code",
   "execution_count": null,
   "id": "0e37ade3-9025-4bfb-926e-dd67f58f1f51",
   "metadata": {},
   "outputs": [],
   "source": []
  }
 ],
 "metadata": {
  "kernelspec": {
   "display_name": "Python 3 (ipykernel)",
   "language": "python",
   "name": "python3"
  },
  "language_info": {
   "codemirror_mode": {
    "name": "ipython",
    "version": 3
   },
   "file_extension": ".py",
   "mimetype": "text/x-python",
   "name": "python",
   "nbconvert_exporter": "python",
   "pygments_lexer": "ipython3",
   "version": "3.11.2"
  }
 },
 "nbformat": 4,
 "nbformat_minor": 5
}
