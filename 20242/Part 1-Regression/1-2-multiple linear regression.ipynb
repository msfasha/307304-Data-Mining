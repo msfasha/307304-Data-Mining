{
 "cells": [
  {
   "attachments": {},
   "cell_type": "markdown",
   "metadata": {},
   "source": [
    "<!-- ![Alt Text](https://raw.githubusercontent.com/msfasha/307304-Data-Mining/main/images/header.png) -->"
   ]
  },
  {
   "cell_type": "markdown",
   "metadata": {},
   "source": [
    "<div style=\"display: flex; justify-content: flex-start; align-items: center;\">\n",
    "   <a href=\"https://colab.research.google.com/github/msfasha/307304-Data-Mining/blob/main/20242/Part%201-Regression/1-2-multiple%20linear%20regression.ipynb\" target=\"_parent\"><img src=\"https://colab.research.google.com/assets/colab-badge.svg\" alt=\"Open In Colab\"/></a>\n",
    "    <a href=\"https://youtu.be/7ArmBVF2dCs?si=5ZBRqn9V9SXZaoPL&t=730\" target=\"_blank\">\n",
    "        <img src=\"https://raw.githubusercontent.com/msfasha/307304-Data-Mining/main/images/youtube.png\" alt=\"Multiple Linear Regression\" style=\"height: 40px;margin-left:20px\">\n",
    "    </a>\n",
    "    <a href=\"https://uopstdedu-my.sharepoint.com/:v:/g/personal/mohammed_fasha_uop_edu_jo/EcZsjT1cv7ZDkJMLJjw2N-oBr6RMalflCCvtarAbBCFBow?nav=eyJyZWZlcnJhbEluZm8iOnsicmVmZXJyYWxBcHAiOiJPbmVEcml2ZUZvckJ1c2luZXNzIiwicmVmZXJyYWxBcHBQbGF0Zm9ybSI6IldlYiIsInJlZmVycmFsTW9kZSI6InZpZXciLCJyZWZlcnJhbFZpZXciOiJNeUZpbGVzTGlua0NvcHkifX0&e=bp3yeM\" target=\"_blank\">\n",
    "        <img src=\"https://raw.githubusercontent.com/msfasha/307304-Data-Mining/main/images/video_icon.png\" alt=\"Recorded Video Lecture\" style=\"height: 75px;margin-left:20px;\">\n",
    "    </a>\n",
    "</div>"
   ]
  },
  {
   "cell_type": "markdown",
   "metadata": {},
   "source": [
    "# Introduction To Multiple Linear Regression"
   ]
  },
  {
   "cell_type": "markdown",
   "metadata": {},
   "source": [
    "### Topics and Outcomes\n",
    "- Introduce Multiple Regression."
   ]
  },
  {
   "cell_type": "markdown",
   "metadata": {},
   "source": [
    "### What is multiple Linear Regression?\n",
    "Multiple Linear Regression is an **extension** of simple linear regression that allows for predicting a dependent variable based on multiple independent variables. The general form of the model is expressed as:\n",
    "\n",
    "$$\n",
    "y = \\beta_0 + \\beta_1 X_1 + \\beta_2 X_2 + \\cdots + \\beta_n X_n\n",
    "$$\n",
    "\n",
    "Where:\n",
    "- $ y \\in Y $ is the dependent variable (the value we aim to predict).\n",
    "- $ \\beta_0 $ is the intercept (constant term).\n",
    "- $ \\beta_1, \\beta_2, \\dots, \\beta_n $ are the coefficients for the independent variables.\n",
    "- $ X_1, X_2, \\dots, X_n $ are the independent variables (features that influence $ y $).\n",
    "\n",
    "The model gets the best regression fit line by finding the best values for $ \\beta_0 $, $ \\beta_1 $ and so on."
   ]
  },
  {
   "cell_type": "markdown",
   "metadata": {},
   "source": [
    "### Process Steps:\n",
    "1. Import the required Libraries\n",
    "2. Import the Dataset\n",
    "3. Scrub the Dataset, correct any errors in the data, make need transformations\n",
    "4. Split the Dataset into training and testing datasets\n",
    "5. Select a Machine Learning algorithm and configure its parameters\n",
    "6. Fit/Train the Model\n",
    "7. Make Predictions\n",
    "8. Evaluate the results and the accuracy of the model"
   ]
  },
  {
   "cell_type": "markdown",
   "metadata": {},
   "source": [
    "## **Practical Example**\n",
    "## **Predicting Apartment Price based on Appartment Features**\n",
    "\n",
    "In this example, we’ll predict **price** of an apartment based on its area size, number of rooms, age of the building, floor number.<br>\n",
    "\n",
    "#### **Step 1: Import Libraries**"
   ]
  },
  {
   "cell_type": "code",
   "execution_count": 1,
   "metadata": {},
   "outputs": [],
   "source": [
    "import numpy as np\n",
    "import pandas as pd\n",
    "from sklearn.model_selection import train_test_split\n",
    "from sklearn.linear_model import LinearRegression\n",
    "import matplotlib.pyplot as plt"
   ]
  },
  {
   "cell_type": "markdown",
   "metadata": {},
   "source": [
    "#### **Step 2: Open Dataset**\n",
    "We will use the house/apartment prices dataset to demonstrate multiple linear regression"
   ]
  },
  {
   "cell_type": "code",
   "execution_count": 2,
   "metadata": {},
   "outputs": [
    {
     "data": {
      "application/vnd.microsoft.datawrangler.viewer.v0+json": {
       "columns": [
        {
         "name": "index",
         "rawType": "int64",
         "type": "integer"
        },
        {
         "name": "Square_Area",
         "rawType": "int64",
         "type": "integer"
        },
        {
         "name": "Num_Rooms",
         "rawType": "int64",
         "type": "integer"
        },
        {
         "name": "Age_of_Building",
         "rawType": "int64",
         "type": "integer"
        },
        {
         "name": "Floor_Level",
         "rawType": "int64",
         "type": "integer"
        },
        {
         "name": "City",
         "rawType": "object",
         "type": "string"
        },
        {
         "name": "Price",
         "rawType": "float64",
         "type": "float"
        }
       ],
       "conversionMethod": "pd.DataFrame",
       "ref": "f691c22d-d8eb-470f-86c6-5566a7b2741d",
       "rows": [
        [
         "0",
         "162",
         "1",
         "15",
         "12",
         "Amman",
         "74900.0"
        ],
        [
         "1",
         "152",
         "5",
         "8",
         "8",
         "Aqaba",
         "79720.0"
        ],
        [
         "2",
         "74",
         "3",
         "2",
         "8",
         "Irbid",
         "43200.0"
        ],
        [
         "3",
         "166",
         "1",
         "3",
         "18",
         "Irbid",
         "69800.0"
        ],
        [
         "4",
         "131",
         "3",
         "14",
         "15",
         "Aqaba",
         "63160.0"
        ],
        [
         "5",
         "80",
         "4",
         "14",
         "7",
         "Aqaba",
         "41800.0"
        ],
        [
         "6",
         "162",
         "2",
         "11",
         "11",
         "Aqaba",
         "68320.0"
        ],
        [
         "7",
         "181",
         "4",
         "16",
         "16",
         "Aqaba",
         "85160.0"
        ],
        [
         "8",
         "134",
         "4",
         "4",
         "4",
         "Amman",
         "80300.0"
        ],
        [
         "9",
         "147",
         "5",
         "5",
         "6",
         "Aqaba",
         "78920.0"
        ],
        [
         "10",
         "176",
         "2",
         "14",
         "3",
         "Irbid",
         "51800.0"
        ],
        [
         "11",
         "159",
         "4",
         "16",
         "9",
         "Irbid",
         "60700.0"
        ],
        [
         "12",
         "163",
         "4",
         "18",
         "10",
         "Amman",
         "85350.0"
        ],
        [
         "13",
         "190",
         "2",
         "7",
         "14",
         "Irbid",
         "74000.0"
        ],
        [
         "14",
         "112",
         "2",
         "10",
         "11",
         "Irbid",
         "44600.0"
        ],
        [
         "15",
         "61",
         "4",
         "7",
         "18",
         "Aqaba",
         "52960.0"
        ],
        [
         "16",
         "147",
         "2",
         "1",
         "12",
         "Irbid",
         "65100.0"
        ],
        [
         "17",
         "97",
         "4",
         "19",
         "12",
         "Amman",
         "56650.0"
        ],
        [
         "18",
         "189",
         "4",
         "16",
         "13",
         "Aqaba",
         "85040.0"
        ],
        [
         "19",
         "80",
         "5",
         "19",
         "13",
         "Aqaba",
         "47800.0"
        ],
        [
         "20",
         "117",
         "1",
         "4",
         "19",
         "Amman",
         "72650.0"
        ],
        [
         "21",
         "81",
         "4",
         "18",
         "19",
         "Aqaba",
         "50160.0"
        ],
        [
         "22",
         "148",
         "3",
         "2",
         "14",
         "Aqaba",
         "80280.0"
        ],
        [
         "23",
         "108",
         "1",
         "1",
         "4",
         "Amman",
         "56600.0"
        ],
        [
         "24",
         "118",
         "1",
         "15",
         "13",
         "Aqaba",
         "45480.0"
        ],
        [
         "25",
         "74",
         "1",
         "5",
         "8",
         "Amman",
         "41300.0"
        ],
        [
         "26",
         "110",
         "5",
         "11",
         "19",
         "Amman",
         "82500.0"
        ],
        [
         "27",
         "167",
         "4",
         "10",
         "12",
         "Irbid",
         "72100.0"
        ],
        [
         "28",
         "114",
         "5",
         "2",
         "18",
         "Irbid",
         "75200.0"
        ],
        [
         "29",
         "123",
         "4",
         "3",
         "6",
         "Aqaba",
         "67280.0"
        ],
        [
         "30",
         "190",
         "5",
         "12",
         "18",
         "Aqaba",
         "99400.0"
        ],
        [
         "31",
         "110",
         "5",
         "5",
         "19",
         "Amman",
         "88500.0"
        ],
        [
         "32",
         "194",
         "3",
         "5",
         "5",
         "Aqaba",
         "84840.0"
        ],
        [
         "33",
         "80",
         "5",
         "6",
         "9",
         "Amman",
         "64000.0"
        ],
        [
         "34",
         "132",
         "2",
         "9",
         "3",
         "Amman",
         "63400.0"
        ],
        [
         "35",
         "77",
         "3",
         "2",
         "10",
         "Aqaba",
         "50720.0"
        ],
        [
         "36",
         "191",
         "5",
         "12",
         "19",
         "Amman",
         "117950.0"
        ],
        [
         "37",
         "148",
         "1",
         "3",
         "3",
         "Irbid",
         "49400.0"
        ],
        [
         "38",
         "119",
         "2",
         "12",
         "15",
         "Aqaba",
         "55840.0"
        ],
        [
         "39",
         "73",
         "2",
         "17",
         "1",
         "Irbid",
         "15900.0"
        ],
        [
         "40",
         "68",
         "2",
         "10",
         "7",
         "Aqaba",
         "31480.0"
        ],
        [
         "41",
         "149",
         "3",
         "14",
         "12",
         "Amman",
         "80050.0"
        ],
        [
         "42",
         "112",
         "5",
         "17",
         "17",
         "Aqaba",
         "65320.0"
        ],
        [
         "43",
         "189",
         "5",
         "18",
         "5",
         "Irbid",
         "68700.0"
        ],
        [
         "44",
         "143",
         "1",
         "19",
         "4",
         "Amman",
         "54350.0"
        ],
        [
         "45",
         "151",
         "1",
         "17",
         "12",
         "Aqaba",
         "54360.0"
        ],
        [
         "46",
         "170",
         "2",
         "14",
         "18",
         "Aqaba",
         "75200.0"
        ],
        [
         "47",
         "67",
         "1",
         "9",
         "17",
         "Aqaba",
         "37120.0"
        ],
        [
         "48",
         "94",
         "3",
         "8",
         "19",
         "Irbid",
         "54200.0"
        ],
        [
         "49",
         "140",
         "5",
         "2",
         "9",
         "Irbid",
         "74000.0"
        ]
       ],
       "shape": {
        "columns": 6,
        "rows": 500
       }
      },
      "text/html": [
       "<div>\n",
       "<style scoped>\n",
       "    .dataframe tbody tr th:only-of-type {\n",
       "        vertical-align: middle;\n",
       "    }\n",
       "\n",
       "    .dataframe tbody tr th {\n",
       "        vertical-align: top;\n",
       "    }\n",
       "\n",
       "    .dataframe thead th {\n",
       "        text-align: right;\n",
       "    }\n",
       "</style>\n",
       "<table border=\"1\" class=\"dataframe\">\n",
       "  <thead>\n",
       "    <tr style=\"text-align: right;\">\n",
       "      <th></th>\n",
       "      <th>Square_Area</th>\n",
       "      <th>Num_Rooms</th>\n",
       "      <th>Age_of_Building</th>\n",
       "      <th>Floor_Level</th>\n",
       "      <th>City</th>\n",
       "      <th>Price</th>\n",
       "    </tr>\n",
       "  </thead>\n",
       "  <tbody>\n",
       "    <tr>\n",
       "      <th>0</th>\n",
       "      <td>162</td>\n",
       "      <td>1</td>\n",
       "      <td>15</td>\n",
       "      <td>12</td>\n",
       "      <td>Amman</td>\n",
       "      <td>74900.0</td>\n",
       "    </tr>\n",
       "    <tr>\n",
       "      <th>1</th>\n",
       "      <td>152</td>\n",
       "      <td>5</td>\n",
       "      <td>8</td>\n",
       "      <td>8</td>\n",
       "      <td>Aqaba</td>\n",
       "      <td>79720.0</td>\n",
       "    </tr>\n",
       "    <tr>\n",
       "      <th>2</th>\n",
       "      <td>74</td>\n",
       "      <td>3</td>\n",
       "      <td>2</td>\n",
       "      <td>8</td>\n",
       "      <td>Irbid</td>\n",
       "      <td>43200.0</td>\n",
       "    </tr>\n",
       "    <tr>\n",
       "      <th>3</th>\n",
       "      <td>166</td>\n",
       "      <td>1</td>\n",
       "      <td>3</td>\n",
       "      <td>18</td>\n",
       "      <td>Irbid</td>\n",
       "      <td>69800.0</td>\n",
       "    </tr>\n",
       "    <tr>\n",
       "      <th>4</th>\n",
       "      <td>131</td>\n",
       "      <td>3</td>\n",
       "      <td>14</td>\n",
       "      <td>15</td>\n",
       "      <td>Aqaba</td>\n",
       "      <td>63160.0</td>\n",
       "    </tr>\n",
       "    <tr>\n",
       "      <th>...</th>\n",
       "      <td>...</td>\n",
       "      <td>...</td>\n",
       "      <td>...</td>\n",
       "      <td>...</td>\n",
       "      <td>...</td>\n",
       "      <td>...</td>\n",
       "    </tr>\n",
       "    <tr>\n",
       "      <th>495</th>\n",
       "      <td>177</td>\n",
       "      <td>1</td>\n",
       "      <td>6</td>\n",
       "      <td>12</td>\n",
       "      <td>Irbid</td>\n",
       "      <td>64100.0</td>\n",
       "    </tr>\n",
       "    <tr>\n",
       "      <th>496</th>\n",
       "      <td>79</td>\n",
       "      <td>5</td>\n",
       "      <td>9</td>\n",
       "      <td>13</td>\n",
       "      <td>Irbid</td>\n",
       "      <td>52700.0</td>\n",
       "    </tr>\n",
       "    <tr>\n",
       "      <th>497</th>\n",
       "      <td>106</td>\n",
       "      <td>3</td>\n",
       "      <td>7</td>\n",
       "      <td>14</td>\n",
       "      <td>Aqaba</td>\n",
       "      <td>60160.0</td>\n",
       "    </tr>\n",
       "    <tr>\n",
       "      <th>498</th>\n",
       "      <td>108</td>\n",
       "      <td>3</td>\n",
       "      <td>9</td>\n",
       "      <td>18</td>\n",
       "      <td>Amman</td>\n",
       "      <td>72600.0</td>\n",
       "    </tr>\n",
       "    <tr>\n",
       "      <th>499</th>\n",
       "      <td>73</td>\n",
       "      <td>1</td>\n",
       "      <td>18</td>\n",
       "      <td>6</td>\n",
       "      <td>Aqaba</td>\n",
       "      <td>19280.0</td>\n",
       "    </tr>\n",
       "  </tbody>\n",
       "</table>\n",
       "<p>500 rows × 6 columns</p>\n",
       "</div>"
      ],
      "text/plain": [
       "     Square_Area  Num_Rooms  Age_of_Building  Floor_Level   City    Price\n",
       "0            162          1               15           12  Amman  74900.0\n",
       "1            152          5                8            8  Aqaba  79720.0\n",
       "2             74          3                2            8  Irbid  43200.0\n",
       "3            166          1                3           18  Irbid  69800.0\n",
       "4            131          3               14           15  Aqaba  63160.0\n",
       "..           ...        ...              ...          ...    ...      ...\n",
       "495          177          1                6           12  Irbid  64100.0\n",
       "496           79          5                9           13  Irbid  52700.0\n",
       "497          106          3                7           14  Aqaba  60160.0\n",
       "498          108          3                9           18  Amman  72600.0\n",
       "499           73          1               18            6  Aqaba  19280.0\n",
       "\n",
       "[500 rows x 6 columns]"
      ]
     },
     "execution_count": 2,
     "metadata": {},
     "output_type": "execute_result"
    }
   ],
   "source": [
    "df = pd.read_csv(\"https://raw.githubusercontent.com/msfasha/307304-Data-Mining/refs/heads/main/datasets/apartment_prices.csv\")\n",
    "df"
   ]
  },
  {
   "cell_type": "markdown",
   "metadata": {},
   "source": [
    "#### **Step 3: Define Features and Target**\n",
    "We use **Square_Area**, **Num_Rooms**, **Age_of_Building** and **Floor_Level** as features and **Price** as the target."
   ]
  },
  {
   "cell_type": "code",
   "execution_count": 3,
   "metadata": {},
   "outputs": [],
   "source": [
    "# Features and Target\n",
    "X = df[['Square_Area', 'Num_Rooms', 'Age_of_Building','Floor_Level']]  # Independent variables\n",
    "y = df['Price']  # Dependent variable (Sales)\n",
    "\n",
    "# Split the data into training and testing sets (80% train, 20% test)\n",
    "X_train, X_test, y_train, y_test = train_test_split(X, y, test_size=0.2, random_state=42)"
   ]
  },
  {
   "cell_type": "markdown",
   "metadata": {},
   "source": [
    "#### **Step 4: Train the Model**\n"
   ]
  },
  {
   "cell_type": "code",
   "execution_count": 4,
   "metadata": {},
   "outputs": [
    {
     "name": "stdout",
     "output_type": "stream",
     "text": [
      "Coefficients: [ 364.36926791 5064.2938487  -925.54218137  951.56065025]\n",
      "Intercept: 461.2702038561838\n"
     ]
    }
   ],
   "source": [
    "# Initialize the Linear Regression model\n",
    "model = LinearRegression()\n",
    "\n",
    "# Train the model on the training data\n",
    "model.fit(X_train, y_train)\n",
    "\n",
    "# Coefficients and Intercept\n",
    "print(\"Coefficients:\", model.coef_)\n",
    "print(\"Intercept:\", model.intercept_)"
   ]
  },
  {
   "cell_type": "markdown",
   "metadata": {},
   "source": [
    "#### **Step 5: Make Predictions**"
   ]
  },
  {
   "cell_type": "code",
   "execution_count": 5,
   "metadata": {},
   "outputs": [
    {
     "data": {
      "application/vnd.microsoft.datawrangler.viewer.v0+json": {
       "columns": [
        {
         "name": "index",
         "rawType": "int64",
         "type": "integer"
        },
        {
         "name": "Actual",
         "rawType": "float64",
         "type": "float"
        },
        {
         "name": "Predicted",
         "rawType": "float64",
         "type": "float"
        },
        {
         "name": "Residual",
         "rawType": "float64",
         "type": "float"
        }
       ],
       "conversionMethod": "pd.DataFrame",
       "ref": "343b42e1-fb16-40da-b5a6-3ee87f1626bd",
       "rows": [
        [
         "361",
         "102550.0",
         "89530.89",
         "13019.11"
        ],
        [
         "73",
         "54200.0",
         "62947.21",
         "8747.21"
        ],
        [
         "374",
         "44000.0",
         "44989.04",
         "989.04"
        ],
        [
         "155",
         "67000.0",
         "77635.12",
         "10635.12"
        ],
        [
         "104",
         "63700.0",
         "57098.21",
         "6601.79"
        ],
        [
         "394",
         "84040.0",
         "86474.76",
         "2434.76"
        ],
        [
         "377",
         "39450.0",
         "35208.12",
         "4241.88"
        ],
        [
         "124",
         "99850.0",
         "84080.03",
         "15769.97"
        ],
        [
         "68",
         "50880.0",
         "52349.24",
         "1469.24"
        ],
        [
         "450",
         "89400.0",
         "73945.6",
         "15454.4"
        ],
        [
         "9",
         "78920.0",
         "80426.67",
         "1506.67"
        ],
        [
         "194",
         "70550.0",
         "60662.76",
         "9887.24"
        ],
        [
         "406",
         "95300.0",
         "84279.94",
         "11020.06"
        ],
        [
         "84",
         "56120.0",
         "56508.14",
         "388.14"
        ],
        [
         "371",
         "36600.0",
         "38187.06",
         "1587.06"
        ],
        [
         "388",
         "53600.0",
         "60536.38",
         "6936.38"
        ],
        [
         "495",
         "64100.0",
         "75884.4",
         "11784.4"
        ],
        [
         "30",
         "99400.0",
         "101034.49",
         "1634.49"
        ],
        [
         "316",
         "68900.0",
         "79347.64",
         "10447.64"
        ],
        [
         "408",
         "68000.0",
         "61416.81",
         "6583.19"
        ],
        [
         "490",
         "41120.0",
         "42655.55",
         "1535.55"
        ],
        [
         "491",
         "44350.0",
         "36680.88",
         "7669.12"
        ],
        [
         "280",
         "100100.0",
         "87471.55",
         "12628.45"
        ],
        [
         "356",
         "80600.0",
         "70753.05",
         "9846.95"
        ],
        [
         "76",
         "36600.0",
         "31592.48",
         "5007.52"
        ],
        [
         "461",
         "51600.0",
         "61919.39",
         "10319.39"
        ],
        [
         "497",
         "60160.0",
         "61120.35",
         "960.35"
        ],
        [
         "211",
         "69480.0",
         "70437.24",
         "957.24"
        ],
        [
         "101",
         "32000.0",
         "28084.49",
         "3915.51"
        ],
        [
         "334",
         "64960.0",
         "67718.64",
         "2758.64"
        ],
        [
         "475",
         "31080.0",
         "32583.9",
         "1503.9"
        ],
        [
         "336",
         "123550.0",
         "106601.82",
         "16948.18"
        ],
        [
         "440",
         "77400.0",
         "88267.0",
         "10867.0"
        ],
        [
         "173",
         "66100.0",
         "77643.61",
         "11543.61"
        ],
        [
         "2",
         "43200.0",
         "48378.88",
         "5178.88"
        ],
        [
         "333",
         "39520.0",
         "40956.76",
         "1436.76"
        ],
        [
         "409",
         "77100.0",
         "89754.65",
         "12654.65"
        ],
        [
         "70",
         "66000.0",
         "58725.65",
         "7274.35"
        ],
        [
         "209",
         "48600.0",
         "60844.78",
         "12244.78"
        ],
        [
         "63",
         "30640.0",
         "31641.4",
         "1001.4"
        ],
        [
         "384",
         "30560.0",
         "31988.48",
         "1428.48"
        ],
        [
         "93",
         "41520.0",
         "42792.08",
         "1272.08"
        ],
        [
         "485",
         "68360.0",
         "70419.12",
         "2059.12"
        ],
        [
         "185",
         "72760.0",
         "74746.44",
         "1986.44"
        ],
        [
         "33",
         "64000.0",
         "57943.07",
         "6056.93"
        ],
        [
         "77",
         "66150.0",
         "54512.17",
         "11637.83"
        ],
        [
         "0",
         "74900.0",
         "62088.98",
         "12811.02"
        ],
        [
         "11",
         "60700.0",
         "72408.53",
         "11708.53"
        ],
        [
         "415",
         "32560.0",
         "33741.22",
         "1181.22"
        ],
        [
         "22",
         "80280.0",
         "81051.57",
         "771.57"
        ]
       ],
       "shape": {
        "columns": 3,
        "rows": 100
       }
      },
      "text/html": [
       "<div>\n",
       "<style scoped>\n",
       "    .dataframe tbody tr th:only-of-type {\n",
       "        vertical-align: middle;\n",
       "    }\n",
       "\n",
       "    .dataframe tbody tr th {\n",
       "        vertical-align: top;\n",
       "    }\n",
       "\n",
       "    .dataframe thead th {\n",
       "        text-align: right;\n",
       "    }\n",
       "</style>\n",
       "<table border=\"1\" class=\"dataframe\">\n",
       "  <thead>\n",
       "    <tr style=\"text-align: right;\">\n",
       "      <th></th>\n",
       "      <th>Actual</th>\n",
       "      <th>Predicted</th>\n",
       "      <th>Residual</th>\n",
       "    </tr>\n",
       "  </thead>\n",
       "  <tbody>\n",
       "    <tr>\n",
       "      <th>361</th>\n",
       "      <td>102550.0</td>\n",
       "      <td>89530.89</td>\n",
       "      <td>13019.11</td>\n",
       "    </tr>\n",
       "    <tr>\n",
       "      <th>73</th>\n",
       "      <td>54200.0</td>\n",
       "      <td>62947.21</td>\n",
       "      <td>8747.21</td>\n",
       "    </tr>\n",
       "    <tr>\n",
       "      <th>374</th>\n",
       "      <td>44000.0</td>\n",
       "      <td>44989.04</td>\n",
       "      <td>989.04</td>\n",
       "    </tr>\n",
       "    <tr>\n",
       "      <th>155</th>\n",
       "      <td>67000.0</td>\n",
       "      <td>77635.12</td>\n",
       "      <td>10635.12</td>\n",
       "    </tr>\n",
       "    <tr>\n",
       "      <th>104</th>\n",
       "      <td>63700.0</td>\n",
       "      <td>57098.21</td>\n",
       "      <td>6601.79</td>\n",
       "    </tr>\n",
       "    <tr>\n",
       "      <th>...</th>\n",
       "      <td>...</td>\n",
       "      <td>...</td>\n",
       "      <td>...</td>\n",
       "    </tr>\n",
       "    <tr>\n",
       "      <th>347</th>\n",
       "      <td>73360.0</td>\n",
       "      <td>75233.49</td>\n",
       "      <td>1873.49</td>\n",
       "    </tr>\n",
       "    <tr>\n",
       "      <th>86</th>\n",
       "      <td>36800.0</td>\n",
       "      <td>32110.44</td>\n",
       "      <td>4689.56</td>\n",
       "    </tr>\n",
       "    <tr>\n",
       "      <th>75</th>\n",
       "      <td>85500.0</td>\n",
       "      <td>75366.09</td>\n",
       "      <td>10133.91</td>\n",
       "    </tr>\n",
       "    <tr>\n",
       "      <th>438</th>\n",
       "      <td>89200.0</td>\n",
       "      <td>74516.43</td>\n",
       "      <td>14683.57</td>\n",
       "    </tr>\n",
       "    <tr>\n",
       "      <th>15</th>\n",
       "      <td>52960.0</td>\n",
       "      <td>53594.27</td>\n",
       "      <td>634.27</td>\n",
       "    </tr>\n",
       "  </tbody>\n",
       "</table>\n",
       "<p>100 rows × 3 columns</p>\n",
       "</div>"
      ],
      "text/plain": [
       "       Actual  Predicted  Residual\n",
       "361  102550.0   89530.89  13019.11\n",
       "73    54200.0   62947.21   8747.21\n",
       "374   44000.0   44989.04    989.04\n",
       "155   67000.0   77635.12  10635.12\n",
       "104   63700.0   57098.21   6601.79\n",
       "..        ...        ...       ...\n",
       "347   73360.0   75233.49   1873.49\n",
       "86    36800.0   32110.44   4689.56\n",
       "75    85500.0   75366.09  10133.91\n",
       "438   89200.0   74516.43  14683.57\n",
       "15    52960.0   53594.27    634.27\n",
       "\n",
       "[100 rows x 3 columns]"
      ]
     },
     "execution_count": 5,
     "metadata": {},
     "output_type": "execute_result"
    }
   ],
   "source": [
    "# Predict the target variable for the test set\n",
    "y_pred = model.predict(X_test)\n",
    "\n",
    "# Display the predictions alongside the actual values\n",
    "df = pd.DataFrame({'Actual': np.round(y_test,2), 'Predicted': np.round(y_pred,2),'Residual': np.round(np.abs(y_test - y_pred),2)})\n",
    "df"
   ]
  },
  {
   "cell_type": "markdown",
   "metadata": {},
   "source": [
    "#### **Step 6: Evaluate the Model**\n",
    "We evaluate the model using **MSE**, **MAE**, and **R-squared**."
   ]
  },
  {
   "cell_type": "code",
   "execution_count": 6,
   "metadata": {},
   "outputs": [
    {
     "name": "stdout",
     "output_type": "stream",
     "text": [
      "R-squared (R²): 0.84\n"
     ]
    }
   ],
   "source": [
    "# R-squared (R²)\n",
    "print(\"R-squared (R²):\", round(model.score(X_test,y_test),2))"
   ]
  },
  {
   "cell_type": "markdown",
   "metadata": {},
   "source": [
    "#### **Step 7: Plotting the Performance**\n",
    "\n",
    "We visualize the predicted vs actual sales values to assess model performance."
   ]
  },
  {
   "cell_type": "code",
   "execution_count": 7,
   "metadata": {},
   "outputs": [
    {
     "data": {
      "image/png": "[encoded data removed]",
      "text/plain": [
       "<Figure size 640x480 with 1 Axes>"
      ]
     },
     "metadata": {},
     "output_type": "display_data"
    }
   ],
   "source": [
    "# Plot actual vs predicted values\n",
    "plt.scatter(y_test, y_pred, color='blue')\n",
    "plt.plot([min(y_test), max(y_test)], [min(y_test), max(y_test)], color='red', linewidth=2)  # Line of perfect fit\n",
    "plt.xlabel('Actual Sales')\n",
    "plt.ylabel('Predicted Sales')\n",
    "plt.title('Actual vs Predicted Sales')\n",
    "plt.show()"
   ]
  },
  {
   "cell_type": "markdown",
   "metadata": {
    "jp-MarkdownHeadingCollapsed": true
   },
   "source": [
    "### Comments on the Performance Plot\n",
    "This plot is a scatter plot of **actual sales** values versus **predicted sales** values, with a red line representing the line of perfect fit (where actual equals predicted). Here are some thoughts based on the shape and distribution of the points:\n",
    "\n",
    "1. **General Alignment with Perfect Fit**:\n",
    "   - The data points generally align along the red line, indicating that the model is making reasonably accurate predictions.\n",
    "   - Points closely clustered around the line suggest good model performance.\n",
    "\n",
    "2. **Variance and Spread**:\n",
    "   - <span style=\"color: red;\">The spread of points widens slightly as sales values increase, indicating that the model may be slightly less accurate for higher sales values. This pattern can be common in regression models if there’s more variability in the data at higher ranges, potentially due to heteroscedasticity (non-constant variance of residuals).</span>"
   ]
  },
  {
   "cell_type": "markdown",
   "metadata": {},
   "source": [
    "### Check the Variance Heteroscedasticity\n",
    "To check for heteroscedasticity (non-constant variance of residuals) in our linear regression model, we can create a residual plot. In this plot, we plot the residuals (differences between actual and predicted values) against the predicted values. If the residuals show a random pattern with constant spread, it suggests homoscedasticity. However, if the spread of the residuals increases or decreases with the predicted values, it suggests heteroscedasticity."
   ]
  },
  {
   "cell_type": "code",
   "execution_count": 8,
   "metadata": {},
   "outputs": [
    {
     "data": {
      "image/png": "[encoded data removed]",
      "text/plain": [
       "<Figure size 640x480 with 1 Axes>"
      ]
     },
     "metadata": {},
     "output_type": "display_data"
    }
   ],
   "source": [
    "import matplotlib.pyplot as plt\n",
    "import numpy as np\n",
    "\n",
    "# Predict the target variable for the training set\n",
    "y_train_pred = model.predict(X_train)\n",
    "\n",
    "# Calculate residuals\n",
    "residuals = y_train - y_train_pred\n",
    "\n",
    "# Plot residuals vs. predicted values\n",
    "plt.scatter(y_train_pred, residuals, color='blue', alpha=0.5)\n",
    "plt.axhline(y=0, color='red', linestyle='--', linewidth=2)\n",
    "plt.xlabel(\"Predicted Values\")\n",
    "plt.ylabel(\"Residuals\")\n",
    "plt.title(\"Residual Plot (Homoscedasticity Check)\")\n",
    "plt.show()"
   ]
  },
  {
   "cell_type": "markdown",
   "metadata": {},
   "source": [
    "From the residual plot, it appears that there is a **fanning-out pattern** in the residuals, where the variance of the residuals increases as the predicted values increase. This pattern is indicative of **heteroscedasticity**.\n",
    "\n",
    "In the next lesson, we will try to enhance the performance by introducing more features."
   ]
  },
  {
   "cell_type": "markdown",
   "metadata": {},
   "source": [
    "---"
   ]
  },
  {
   "cell_type": "markdown",
   "metadata": {},
   "source": [
    "## Complete Model Code"
   ]
  },
  {
   "cell_type": "code",
   "execution_count": 9,
   "metadata": {},
   "outputs": [
    {
     "name": "stdout",
     "output_type": "stream",
     "text": [
      "Coefficients: [ 364.36926791 5064.2938487  -925.54218137  951.56065025]\n",
      "Intercept: 461.2702038561838\n",
      "R^2 Score: 0.84\n"
     ]
    }
   ],
   "source": [
    "import pandas as pd\n",
    "from sklearn.model_selection import train_test_split\n",
    "from sklearn.linear_model import LinearRegression\n",
    "\n",
    "# Load the dataset\n",
    "df = pd.read_csv('https://raw.githubusercontent.com/msfasha/307304-Data-Mining/refs/heads/main/datasets/apartment_prices.csv')\n",
    "\n",
    "# Features and Target\n",
    "X = df[['Square_Area', 'Num_Rooms', 'Age_of_Building','Floor_Level']]  # Independent variables\n",
    "y = df['Price']  # Dependent variable (Sales)\n",
    "\n",
    "# Split the data into training and testing sets (80% train, 20% test)\n",
    "X_train, X_test, y_train, y_test = train_test_split(X, y, test_size=0.2, random_state=42)\n",
    "\n",
    "# Initialize the Linear Regression model\n",
    "model = LinearRegression()\n",
    "\n",
    "# Train the model on the training data\n",
    "model.fit(X_train, y_train)\n",
    "\n",
    "# Coefficients and Intercept\n",
    "print(\"Coefficients:\", model.coef_)\n",
    "print(\"Intercept:\", model.intercept_)\n",
    "print(\"R^2 Score:\", round(model.score(X_test, y_test),2))  # Corrected"
   ]
  }
 ],
 "metadata": {
  "kernelspec": {
   "display_name": "Python 3",
   "language": "python",
   "name": "python3"
  },
  "language_info": {
   "codemirror_mode": {
    "name": "ipython",
    "version": 3
   },
   "file_extension": ".py",
   "mimetype": "text/x-python",
   "name": "python",
   "nbconvert_exporter": "python",
   "pygments_lexer": "ipython3",
   "version": "3.10.0"
  }
 },
 "nbformat": 4,
 "nbformat_minor": 4
}
