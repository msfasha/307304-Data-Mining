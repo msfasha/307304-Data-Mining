{
 "cells": [
  {
   "cell_type": "markdown",
   "metadata": {},
   "source": [
    "<!-- ![Alt Text](https://raw.githubusercontent.com/msfasha/307304-Data-Mining/main/images/header.png) -->"
   ]
  },
  {
   "cell_type": "markdown",
   "metadata": {},
   "source": [
    "<div style=\"display: flex; justify-content: flex-start; align-items: center;\">\n",
    "   <a href=\"https://colab.research.google.com/github/msfasha/307304-Data-Mining/blob/main/20242/Part%201-Regression/1-3-converting%20categorical%20to%20numerical.ipynb\" target=\"_parent\"><img src=\"https://colab.research.google.com/assets/colab-badge.svg\" alt=\"Open In Colab\"/></a>\n",
    "   <a href=\"https://uopstdedu-my.sharepoint.com/:v:/g/personal/mohammed_fasha_uop_edu_jo/EZs7kLSUJypIvr5l9qM0fvkB0BOn-d99Fw-4JXdonCvSzw?nav=eyJyZWZlcnJhbEluZm8iOnsicmVmZXJyYWxBcHAiOiJPbmVEcml2ZUZvckJ1c2luZXNzIiwicmVmZXJyYWxBcHBQbGF0Zm9ybSI6IldlYiIsInJlZmVycmFsTW9kZSI6InZpZXciLCJyZWZlcnJhbFZpZXciOiJNeUZpbGVzTGlua0NvcHkifX0&e=pEhpuW\" target=\"_blank\">\n",
    "   <img src=\"https://raw.githubusercontent.com/msfasha/307304-Data-Mining/main/images/video_icon.png\" alt=\"Recorded Video Lecture\" style=\"height: 75px;margin-left:20px;\">\n",
    "    </a>\n",
    "</div>"
   ]
  },
  {
   "cell_type": "markdown",
   "metadata": {},
   "source": [
    "# Converting Categorical Values into Numerical ones\n",
    "## Topics and Outcomes\n",
    "- Converting categorical values into numerical values\n"
   ]
  },
  {
   "cell_type": "markdown",
   "metadata": {},
   "source": [
    "## Introduction\n",
    "When working with machine learning models, especially linear regression or most algorithms, **categorical variables** need to be converted into **numerical** ones because models usually require numeric input to compute distances, apply mathematical transformations, etc.\n",
    "\n",
    "We present belowe some common techniques to convert categorical variables into numerical ones, along with examples using `scikit-learn`.\n",
    "\n",
    "### 1. **One-Hot Encoding**\n",
    "Converts each category into a new binary column (0 or 1), with a column for each unique category in the original variable.\n",
    "   \n",
    "**Example with Scikit-Learn**"
   ]
  },
  {
   "cell_type": "code",
   "execution_count": 1,
   "metadata": {},
   "outputs": [
    {
     "name": "stdout",
     "output_type": "stream",
     "text": [
      "[[0. 0. 1.]\n",
      " [1. 0. 0.]\n",
      " [0. 1. 0.]\n",
      " [1. 0. 0.]\n",
      " [0. 0. 1.]]\n"
     ]
    }
   ],
   "source": [
    "import pandas as pd\n",
    "from sklearn.preprocessing import OneHotEncoder\n",
    "\n",
    "# Sample dataset\n",
    "df = pd.DataFrame({'Color': ['Red', 'Blue', 'Green', 'Blue', 'Red']})\n",
    "\n",
    "# One-Hot Encoding using scikit-learn\n",
    "encoder = OneHotEncoder(sparse_output=False)\n",
    "one_hot_encoded = encoder.fit_transform(df[['Color']])\n",
    "print(one_hot_encoded)"
   ]
  },
  {
   "cell_type": "markdown",
   "metadata": {},
   "source": [
    "Notes:\n",
    "- **Use Case**: Best for nominal (unordered) categorical variables with a limited number of unique values.\n",
    "- **Pros**: Captures categorical relationships without implying any order.\n",
    "- **Cons**: Increases dimensionality significantly, especially with high-cardinality features (many unique categories)."
   ]
  },
  {
   "cell_type": "markdown",
   "metadata": {},
   "source": [
    "### 2. **Label Encoding**\n",
    "Assigns each unique category an integer. Categories are replaced with integer values, but the encoding does not imply order.\n",
    "\n",
    "**Example with Scikit-Learn**"
   ]
  },
  {
   "cell_type": "code",
   "execution_count": 2,
   "metadata": {},
   "outputs": [
    {
     "name": "stdout",
     "output_type": "stream",
     "text": [
      "     Size  Size_Label_Encoded\n",
      "0   Small                   2\n",
      "1  Medium                   1\n",
      "2   Large                   0\n",
      "3  Medium                   1\n",
      "4   Small                   2\n"
     ]
    }
   ],
   "source": [
    "from sklearn.preprocessing import LabelEncoder\n",
    "\n",
    "# Sample dataset\n",
    "df = pd.DataFrame({'Size': ['Small', 'Medium', 'Large', 'Medium', 'Small']})\n",
    "\n",
    "# Label Encoding using scikit-learn\n",
    "label_encoder = LabelEncoder()\n",
    "df['Size_Label_Encoded'] = label_encoder.fit_transform(df['Size'])\n",
    "print(df)"
   ]
  },
  {
   "cell_type": "markdown",
   "metadata": {},
   "source": [
    "Notes:\n",
    "   - **Use Case**: Primarily for nominal categorical variables, especially when high cardinality makes one-hot encoding impractical.\n",
    "   - **Pros**: Simple and does not increase dimensionality.\n",
    "   - **Cons**: Can mislead models that interpret integers as ordered, potentially creating a false sense of order."
   ]
  },
  {
   "cell_type": "markdown",
   "metadata": {},
   "source": [
    "### 3. **Ordinal Encoding**\n",
    "Assigns each category an integer while preserving the order. Typically requires an explicit ordering of the categories.\n",
    "\n",
    "**Example with Scikit-Learn**"
   ]
  },
  {
   "cell_type": "code",
   "execution_count": 3,
   "metadata": {},
   "outputs": [
    {
     "name": "stdout",
     "output_type": "stream",
     "text": [
      "  Education_Level  Education_Level_Encoded\n",
      "0     High School                      0.0\n",
      "1        Bachelor                      1.0\n",
      "2          Master                      2.0\n",
      "3             PhD                      3.0\n"
     ]
    }
   ],
   "source": [
    "from sklearn.preprocessing import OrdinalEncoder\n",
    "\n",
    "# Sample dataset with ordinal categories\n",
    "df = pd.DataFrame({'Education_Level': ['High School', 'Bachelor', 'Master', 'PhD']})\n",
    "\n",
    "# Define the order of categories\n",
    "education_order = [['High School', 'Bachelor', 'Master', 'PhD']]\n",
    "\n",
    "# Ordinal Encoding using scikit-learn\n",
    "ordinal_encoder = OrdinalEncoder(categories=education_order)\n",
    "df['Education_Level_Encoded'] = ordinal_encoder.fit_transform(df[['Education_Level']])\n",
    "print(df)"
   ]
  },
  {
   "cell_type": "markdown",
   "metadata": {},
   "source": [
    "Notes:\n",
    "   - **Use Case**: Best for ordinal (ordered) categorical variables, where categories have a meaningful progression.\n",
    "   - **Pros**: Encodes the natural order of categories without inflating dimensionality.\n",
    "   - **Cons**: Assumes a linear relationship between categories, which may not always be appropriate."
   ]
  },
  {
   "cell_type": "markdown",
   "metadata": {},
   "source": [
    "### 4. **Target Encoding (Mean Encoding)**\n",
    "Replaces each category with the mean of the target variable for that category. Often used with cross-validation to avoid data leakage.\n",
    "\n",
    "**Example (Manual Implementation)**"
   ]
  },
  {
   "cell_type": "code",
   "execution_count": 4,
   "metadata": {},
   "outputs": [
    {
     "name": "stdout",
     "output_type": "stream",
     "text": [
      "  City  Price  City_Target_Encoded\n",
      "0    A    300           256.666667\n",
      "1    B    200           275.000000\n",
      "2    A    250           256.666667\n",
      "3    C    400           400.000000\n",
      "4    B    350           275.000000\n",
      "5    A    220           256.666667\n"
     ]
    }
   ],
   "source": [
    "# Sample dataset with a target variable\n",
    "df = pd.DataFrame({'City': ['A', 'B', 'A', 'C', 'B', 'A'],\n",
    "                   'Price': [300, 200, 250, 400, 350, 220]})\n",
    "\n",
    "# Calculate mean encoding\n",
    "city_mean = df.groupby('City')['Price'].mean()\n",
    "df['City_Target_Encoded'] = df['City'].map(city_mean)\n",
    "print(df)"
   ]
  },
  {
   "cell_type": "markdown",
   "metadata": {},
   "source": [
    "   Notes:\n",
    "   - **Use Case**: For categorical variables with a significant relationship to the target variable (often used in regression tasks).\n",
    "   - **Pros**: Captures complex relationships between the category and the target variable.\n",
    "   - **Cons**: Prone to overfitting and data leakage if not implemented carefully."
   ]
  },
  {
   "cell_type": "markdown",
   "metadata": {},
   "source": [
    "### 5. **Frequency/Count Encoding**\n",
    "Replaces each category with the frequency or count of occurrences in the dataset.\n",
    "\n",
    "**Example (Manual Implementation)**"
   ]
  },
  {
   "cell_type": "code",
   "execution_count": 5,
   "metadata": {},
   "outputs": [
    {
     "name": "stdout",
     "output_type": "stream",
     "text": [
      "  City  City_Frequency_Encoded\n",
      "0    A                       3\n",
      "1    B                       2\n",
      "2    A                       3\n",
      "3    C                       1\n",
      "4    B                       2\n",
      "5    A                       3\n"
     ]
    }
   ],
   "source": [
    "# Sample dataset\n",
    "df = pd.DataFrame({'City': ['A', 'B', 'A', 'C', 'B', 'A']})\n",
    "\n",
    "# Frequency Encoding\n",
    "df['City_Frequency_Encoded'] = df['City'].map(df['City'].value_counts())\n",
    "print(df)"
   ]
  },
  {
   "cell_type": "markdown",
   "metadata": {},
   "source": [
    "Notes:\n",
    "   - **Use Case**: Useful for high-cardinality variables to reduce dimensionality and add information about the distribution of categories.\n",
    "   - **Pros**: Reduces dimensionality while retaining some information about category prevalence.\n",
    "   - **Cons**: Does not capture any inherent relationship between the category and target variable."
   ]
  },
  {
   "cell_type": "markdown",
   "metadata": {},
   "source": [
    "----"
   ]
  },
  {
   "cell_type": "markdown",
   "metadata": {},
   "source": [
    "## **Predicting Apartment Price based on Appartment Features**"
   ]
  },
  {
   "cell_type": "markdown",
   "metadata": {},
   "source": [
    "<a href=\"https://uopstdedu-my.sharepoint.com/personal/mohammed_fasha_uop_edu_jo/_layouts/15/stream.aspx?id=%2Fpersonal%2Fmohammed%5Ffasha%5Fuop%5Fedu%5Fjo%2FDocuments%2FPetra%2FSupport%20Material%2FRecorded%20Videos%2F307304%20Data%20Mining%2FRegression%2F14%5Fusing%20city%20in%20predicting%20appartment%20prices%2Emp4&referrer=StreamWebApp%2EWeb&referrerScenario=AddressBarCopied%2Eview%2E3996a361%2Dc304%2D427f%2Db5ce%2D843ed0cc7b98\" target=\"_blank\">\n",
    "<img src=\"https://raw.githubusercontent.com/msfasha/307304-Data-Mining/main/images/video_icon.png\" alt=\"Recorded Video Lecture\" style=\"height: 75px;margin-left:20px;\">\n",
    "</a>"
   ]
  },
  {
   "cell_type": "markdown",
   "metadata": {},
   "source": [
    "In this example, we’ll predict **price** of an apartment based on its area size, number of rooms, age of the building, floor number.<br>\n",
    "<span style=\"color: red;\">**We will convert the city from categorical into numerical value using one hot encoding method.**</span>"
   ]
  },
  {
   "cell_type": "markdown",
   "metadata": {},
   "source": [
    "#### **Step 1: Import Libraries and Open the dataset**"
   ]
  },
  {
   "cell_type": "code",
   "execution_count": 6,
   "metadata": {},
   "outputs": [
    {
     "data": {
      "application/vnd.microsoft.datawrangler.viewer.v0+json": {
       "columns": [
        {
         "name": "index",
         "rawType": "int64",
         "type": "integer"
        },
        {
         "name": "Square_Area",
         "rawType": "int64",
         "type": "integer"
        },
        {
         "name": "Num_Rooms",
         "rawType": "int64",
         "type": "integer"
        },
        {
         "name": "Age_of_Building",
         "rawType": "int64",
         "type": "integer"
        },
        {
         "name": "Floor_Level",
         "rawType": "int64",
         "type": "integer"
        },
        {
         "name": "City",
         "rawType": "object",
         "type": "string"
        },
        {
         "name": "Price",
         "rawType": "float64",
         "type": "float"
        }
       ],
       "conversionMethod": "pd.DataFrame",
       "ref": "97817646-8555-4657-83b0-11074bd21330",
       "rows": [
        [
         "0",
         "162",
         "1",
         "15",
         "12",
         "Amman",
         "74900.0"
        ],
        [
         "1",
         "152",
         "5",
         "8",
         "8",
         "Aqaba",
         "79720.0"
        ],
        [
         "2",
         "74",
         "3",
         "2",
         "8",
         "Irbid",
         "43200.0"
        ],
        [
         "3",
         "166",
         "1",
         "3",
         "18",
         "Irbid",
         "69800.0"
        ],
        [
         "4",
         "131",
         "3",
         "14",
         "15",
         "Aqaba",
         "63160.0"
        ],
        [
         "5",
         "80",
         "4",
         "14",
         "7",
         "Aqaba",
         "41800.0"
        ],
        [
         "6",
         "162",
         "2",
         "11",
         "11",
         "Aqaba",
         "68320.0"
        ],
        [
         "7",
         "181",
         "4",
         "16",
         "16",
         "Aqaba",
         "85160.0"
        ],
        [
         "8",
         "134",
         "4",
         "4",
         "4",
         "Amman",
         "80300.0"
        ],
        [
         "9",
         "147",
         "5",
         "5",
         "6",
         "Aqaba",
         "78920.0"
        ],
        [
         "10",
         "176",
         "2",
         "14",
         "3",
         "Irbid",
         "51800.0"
        ],
        [
         "11",
         "159",
         "4",
         "16",
         "9",
         "Irbid",
         "60700.0"
        ],
        [
         "12",
         "163",
         "4",
         "18",
         "10",
         "Amman",
         "85350.0"
        ],
        [
         "13",
         "190",
         "2",
         "7",
         "14",
         "Irbid",
         "74000.0"
        ],
        [
         "14",
         "112",
         "2",
         "10",
         "11",
         "Irbid",
         "44600.0"
        ],
        [
         "15",
         "61",
         "4",
         "7",
         "18",
         "Aqaba",
         "52960.0"
        ],
        [
         "16",
         "147",
         "2",
         "1",
         "12",
         "Irbid",
         "65100.0"
        ],
        [
         "17",
         "97",
         "4",
         "19",
         "12",
         "Amman",
         "56650.0"
        ],
        [
         "18",
         "189",
         "4",
         "16",
         "13",
         "Aqaba",
         "85040.0"
        ],
        [
         "19",
         "80",
         "5",
         "19",
         "13",
         "Aqaba",
         "47800.0"
        ],
        [
         "20",
         "117",
         "1",
         "4",
         "19",
         "Amman",
         "72650.0"
        ],
        [
         "21",
         "81",
         "4",
         "18",
         "19",
         "Aqaba",
         "50160.0"
        ],
        [
         "22",
         "148",
         "3",
         "2",
         "14",
         "Aqaba",
         "80280.0"
        ],
        [
         "23",
         "108",
         "1",
         "1",
         "4",
         "Amman",
         "56600.0"
        ],
        [
         "24",
         "118",
         "1",
         "15",
         "13",
         "Aqaba",
         "45480.0"
        ],
        [
         "25",
         "74",
         "1",
         "5",
         "8",
         "Amman",
         "41300.0"
        ],
        [
         "26",
         "110",
         "5",
         "11",
         "19",
         "Amman",
         "82500.0"
        ],
        [
         "27",
         "167",
         "4",
         "10",
         "12",
         "Irbid",
         "72100.0"
        ],
        [
         "28",
         "114",
         "5",
         "2",
         "18",
         "Irbid",
         "75200.0"
        ],
        [
         "29",
         "123",
         "4",
         "3",
         "6",
         "Aqaba",
         "67280.0"
        ],
        [
         "30",
         "190",
         "5",
         "12",
         "18",
         "Aqaba",
         "99400.0"
        ],
        [
         "31",
         "110",
         "5",
         "5",
         "19",
         "Amman",
         "88500.0"
        ],
        [
         "32",
         "194",
         "3",
         "5",
         "5",
         "Aqaba",
         "84840.0"
        ],
        [
         "33",
         "80",
         "5",
         "6",
         "9",
         "Amman",
         "64000.0"
        ],
        [
         "34",
         "132",
         "2",
         "9",
         "3",
         "Amman",
         "63400.0"
        ],
        [
         "35",
         "77",
         "3",
         "2",
         "10",
         "Aqaba",
         "50720.0"
        ],
        [
         "36",
         "191",
         "5",
         "12",
         "19",
         "Amman",
         "117950.0"
        ],
        [
         "37",
         "148",
         "1",
         "3",
         "3",
         "Irbid",
         "49400.0"
        ],
        [
         "38",
         "119",
         "2",
         "12",
         "15",
         "Aqaba",
         "55840.0"
        ],
        [
         "39",
         "73",
         "2",
         "17",
         "1",
         "Irbid",
         "15900.0"
        ],
        [
         "40",
         "68",
         "2",
         "10",
         "7",
         "Aqaba",
         "31480.0"
        ],
        [
         "41",
         "149",
         "3",
         "14",
         "12",
         "Amman",
         "80050.0"
        ],
        [
         "42",
         "112",
         "5",
         "17",
         "17",
         "Aqaba",
         "65320.0"
        ],
        [
         "43",
         "189",
         "5",
         "18",
         "5",
         "Irbid",
         "68700.0"
        ],
        [
         "44",
         "143",
         "1",
         "19",
         "4",
         "Amman",
         "54350.0"
        ],
        [
         "45",
         "151",
         "1",
         "17",
         "12",
         "Aqaba",
         "54360.0"
        ],
        [
         "46",
         "170",
         "2",
         "14",
         "18",
         "Aqaba",
         "75200.0"
        ],
        [
         "47",
         "67",
         "1",
         "9",
         "17",
         "Aqaba",
         "37120.0"
        ],
        [
         "48",
         "94",
         "3",
         "8",
         "19",
         "Irbid",
         "54200.0"
        ],
        [
         "49",
         "140",
         "5",
         "2",
         "9",
         "Irbid",
         "74000.0"
        ]
       ],
       "shape": {
        "columns": 6,
        "rows": 500
       }
      },
      "text/html": [
       "<div>\n",
       "<style scoped>\n",
       "    .dataframe tbody tr th:only-of-type {\n",
       "        vertical-align: middle;\n",
       "    }\n",
       "\n",
       "    .dataframe tbody tr th {\n",
       "        vertical-align: top;\n",
       "    }\n",
       "\n",
       "    .dataframe thead th {\n",
       "        text-align: right;\n",
       "    }\n",
       "</style>\n",
       "<table border=\"1\" class=\"dataframe\">\n",
       "  <thead>\n",
       "    <tr style=\"text-align: right;\">\n",
       "      <th></th>\n",
       "      <th>Square_Area</th>\n",
       "      <th>Num_Rooms</th>\n",
       "      <th>Age_of_Building</th>\n",
       "      <th>Floor_Level</th>\n",
       "      <th>City</th>\n",
       "      <th>Price</th>\n",
       "    </tr>\n",
       "  </thead>\n",
       "  <tbody>\n",
       "    <tr>\n",
       "      <th>0</th>\n",
       "      <td>162</td>\n",
       "      <td>1</td>\n",
       "      <td>15</td>\n",
       "      <td>12</td>\n",
       "      <td>Amman</td>\n",
       "      <td>74900.0</td>\n",
       "    </tr>\n",
       "    <tr>\n",
       "      <th>1</th>\n",
       "      <td>152</td>\n",
       "      <td>5</td>\n",
       "      <td>8</td>\n",
       "      <td>8</td>\n",
       "      <td>Aqaba</td>\n",
       "      <td>79720.0</td>\n",
       "    </tr>\n",
       "    <tr>\n",
       "      <th>2</th>\n",
       "      <td>74</td>\n",
       "      <td>3</td>\n",
       "      <td>2</td>\n",
       "      <td>8</td>\n",
       "      <td>Irbid</td>\n",
       "      <td>43200.0</td>\n",
       "    </tr>\n",
       "    <tr>\n",
       "      <th>3</th>\n",
       "      <td>166</td>\n",
       "      <td>1</td>\n",
       "      <td>3</td>\n",
       "      <td>18</td>\n",
       "      <td>Irbid</td>\n",
       "      <td>69800.0</td>\n",
       "    </tr>\n",
       "    <tr>\n",
       "      <th>4</th>\n",
       "      <td>131</td>\n",
       "      <td>3</td>\n",
       "      <td>14</td>\n",
       "      <td>15</td>\n",
       "      <td>Aqaba</td>\n",
       "      <td>63160.0</td>\n",
       "    </tr>\n",
       "    <tr>\n",
       "      <th>...</th>\n",
       "      <td>...</td>\n",
       "      <td>...</td>\n",
       "      <td>...</td>\n",
       "      <td>...</td>\n",
       "      <td>...</td>\n",
       "      <td>...</td>\n",
       "    </tr>\n",
       "    <tr>\n",
       "      <th>495</th>\n",
       "      <td>177</td>\n",
       "      <td>1</td>\n",
       "      <td>6</td>\n",
       "      <td>12</td>\n",
       "      <td>Irbid</td>\n",
       "      <td>64100.0</td>\n",
       "    </tr>\n",
       "    <tr>\n",
       "      <th>496</th>\n",
       "      <td>79</td>\n",
       "      <td>5</td>\n",
       "      <td>9</td>\n",
       "      <td>13</td>\n",
       "      <td>Irbid</td>\n",
       "      <td>52700.0</td>\n",
       "    </tr>\n",
       "    <tr>\n",
       "      <th>497</th>\n",
       "      <td>106</td>\n",
       "      <td>3</td>\n",
       "      <td>7</td>\n",
       "      <td>14</td>\n",
       "      <td>Aqaba</td>\n",
       "      <td>60160.0</td>\n",
       "    </tr>\n",
       "    <tr>\n",
       "      <th>498</th>\n",
       "      <td>108</td>\n",
       "      <td>3</td>\n",
       "      <td>9</td>\n",
       "      <td>18</td>\n",
       "      <td>Amman</td>\n",
       "      <td>72600.0</td>\n",
       "    </tr>\n",
       "    <tr>\n",
       "      <th>499</th>\n",
       "      <td>73</td>\n",
       "      <td>1</td>\n",
       "      <td>18</td>\n",
       "      <td>6</td>\n",
       "      <td>Aqaba</td>\n",
       "      <td>19280.0</td>\n",
       "    </tr>\n",
       "  </tbody>\n",
       "</table>\n",
       "<p>500 rows × 6 columns</p>\n",
       "</div>"
      ],
      "text/plain": [
       "     Square_Area  Num_Rooms  Age_of_Building  Floor_Level   City    Price\n",
       "0            162          1               15           12  Amman  74900.0\n",
       "1            152          5                8            8  Aqaba  79720.0\n",
       "2             74          3                2            8  Irbid  43200.0\n",
       "3            166          1                3           18  Irbid  69800.0\n",
       "4            131          3               14           15  Aqaba  63160.0\n",
       "..           ...        ...              ...          ...    ...      ...\n",
       "495          177          1                6           12  Irbid  64100.0\n",
       "496           79          5                9           13  Irbid  52700.0\n",
       "497          106          3                7           14  Aqaba  60160.0\n",
       "498          108          3                9           18  Amman  72600.0\n",
       "499           73          1               18            6  Aqaba  19280.0\n",
       "\n",
       "[500 rows x 6 columns]"
      ]
     },
     "execution_count": 6,
     "metadata": {},
     "output_type": "execute_result"
    }
   ],
   "source": [
    "import numpy as np\n",
    "import pandas as pd\n",
    "from sklearn.model_selection import train_test_split\n",
    "from sklearn.linear_model import LinearRegression\n",
    "import matplotlib.pyplot as plt\n",
    "\n",
    "df = pd.read_csv(\"https://raw.githubusercontent.com/msfasha/307304-Data-Mining/refs/heads/main/datasets/apartment_prices.csv\")\n",
    "df"
   ]
  },
  {
   "cell_type": "markdown",
   "metadata": {},
   "source": [
    "#### **Step 2: One-Hot Encoding the Categorical Variable**\n",
    "\n",
    "To properly include the categorical **'Region'** feature, we need to convert it to a numerical format using **One-Hot Encoding**."
   ]
  },
  {
   "cell_type": "code",
   "execution_count": 7,
   "metadata": {},
   "outputs": [
    {
     "data": {
      "application/vnd.microsoft.datawrangler.viewer.v0+json": {
       "columns": [
        {
         "name": "index",
         "rawType": "int64",
         "type": "integer"
        },
        {
         "name": "Square_Area",
         "rawType": "int64",
         "type": "integer"
        },
        {
         "name": "Num_Rooms",
         "rawType": "int64",
         "type": "integer"
        },
        {
         "name": "Age_of_Building",
         "rawType": "int64",
         "type": "integer"
        },
        {
         "name": "Floor_Level",
         "rawType": "int64",
         "type": "integer"
        },
        {
         "name": "Price",
         "rawType": "float64",
         "type": "float"
        },
        {
         "name": "City_Amman",
         "rawType": "float64",
         "type": "float"
        },
        {
         "name": "City_Aqaba",
         "rawType": "float64",
         "type": "float"
        },
        {
         "name": "City_Irbid",
         "rawType": "float64",
         "type": "float"
        }
       ],
       "conversionMethod": "pd.DataFrame",
       "ref": "8ef9c255-615c-43e2-a829-50373f145818",
       "rows": [
        [
         "0",
         "162",
         "1",
         "15",
         "12",
         "74900.0",
         "1.0",
         "0.0",
         "0.0"
        ],
        [
         "1",
         "152",
         "5",
         "8",
         "8",
         "79720.0",
         "0.0",
         "1.0",
         "0.0"
        ],
        [
         "2",
         "74",
         "3",
         "2",
         "8",
         "43200.0",
         "0.0",
         "0.0",
         "1.0"
        ],
        [
         "3",
         "166",
         "1",
         "3",
         "18",
         "69800.0",
         "0.0",
         "0.0",
         "1.0"
        ],
        [
         "4",
         "131",
         "3",
         "14",
         "15",
         "63160.0",
         "0.0",
         "1.0",
         "0.0"
        ],
        [
         "5",
         "80",
         "4",
         "14",
         "7",
         "41800.0",
         "0.0",
         "1.0",
         "0.0"
        ],
        [
         "6",
         "162",
         "2",
         "11",
         "11",
         "68320.0",
         "0.0",
         "1.0",
         "0.0"
        ],
        [
         "7",
         "181",
         "4",
         "16",
         "16",
         "85160.0",
         "0.0",
         "1.0",
         "0.0"
        ],
        [
         "8",
         "134",
         "4",
         "4",
         "4",
         "80300.0",
         "1.0",
         "0.0",
         "0.0"
        ],
        [
         "9",
         "147",
         "5",
         "5",
         "6",
         "78920.0",
         "0.0",
         "1.0",
         "0.0"
        ],
        [
         "10",
         "176",
         "2",
         "14",
         "3",
         "51800.0",
         "0.0",
         "0.0",
         "1.0"
        ],
        [
         "11",
         "159",
         "4",
         "16",
         "9",
         "60700.0",
         "0.0",
         "0.0",
         "1.0"
        ],
        [
         "12",
         "163",
         "4",
         "18",
         "10",
         "85350.0",
         "1.0",
         "0.0",
         "0.0"
        ],
        [
         "13",
         "190",
         "2",
         "7",
         "14",
         "74000.0",
         "0.0",
         "0.0",
         "1.0"
        ],
        [
         "14",
         "112",
         "2",
         "10",
         "11",
         "44600.0",
         "0.0",
         "0.0",
         "1.0"
        ],
        [
         "15",
         "61",
         "4",
         "7",
         "18",
         "52960.0",
         "0.0",
         "1.0",
         "0.0"
        ],
        [
         "16",
         "147",
         "2",
         "1",
         "12",
         "65100.0",
         "0.0",
         "0.0",
         "1.0"
        ],
        [
         "17",
         "97",
         "4",
         "19",
         "12",
         "56650.0",
         "1.0",
         "0.0",
         "0.0"
        ],
        [
         "18",
         "189",
         "4",
         "16",
         "13",
         "85040.0",
         "0.0",
         "1.0",
         "0.0"
        ],
        [
         "19",
         "80",
         "5",
         "19",
         "13",
         "47800.0",
         "0.0",
         "1.0",
         "0.0"
        ],
        [
         "20",
         "117",
         "1",
         "4",
         "19",
         "72650.0",
         "1.0",
         "0.0",
         "0.0"
        ],
        [
         "21",
         "81",
         "4",
         "18",
         "19",
         "50160.0",
         "0.0",
         "1.0",
         "0.0"
        ],
        [
         "22",
         "148",
         "3",
         "2",
         "14",
         "80280.0",
         "0.0",
         "1.0",
         "0.0"
        ],
        [
         "23",
         "108",
         "1",
         "1",
         "4",
         "56600.0",
         "1.0",
         "0.0",
         "0.0"
        ],
        [
         "24",
         "118",
         "1",
         "15",
         "13",
         "45480.0",
         "0.0",
         "1.0",
         "0.0"
        ],
        [
         "25",
         "74",
         "1",
         "5",
         "8",
         "41300.0",
         "1.0",
         "0.0",
         "0.0"
        ],
        [
         "26",
         "110",
         "5",
         "11",
         "19",
         "82500.0",
         "1.0",
         "0.0",
         "0.0"
        ],
        [
         "27",
         "167",
         "4",
         "10",
         "12",
         "72100.0",
         "0.0",
         "0.0",
         "1.0"
        ],
        [
         "28",
         "114",
         "5",
         "2",
         "18",
         "75200.0",
         "0.0",
         "0.0",
         "1.0"
        ],
        [
         "29",
         "123",
         "4",
         "3",
         "6",
         "67280.0",
         "0.0",
         "1.0",
         "0.0"
        ],
        [
         "30",
         "190",
         "5",
         "12",
         "18",
         "99400.0",
         "0.0",
         "1.0",
         "0.0"
        ],
        [
         "31",
         "110",
         "5",
         "5",
         "19",
         "88500.0",
         "1.0",
         "0.0",
         "0.0"
        ],
        [
         "32",
         "194",
         "3",
         "5",
         "5",
         "84840.0",
         "0.0",
         "1.0",
         "0.0"
        ],
        [
         "33",
         "80",
         "5",
         "6",
         "9",
         "64000.0",
         "1.0",
         "0.0",
         "0.0"
        ],
        [
         "34",
         "132",
         "2",
         "9",
         "3",
         "63400.0",
         "1.0",
         "0.0",
         "0.0"
        ],
        [
         "35",
         "77",
         "3",
         "2",
         "10",
         "50720.0",
         "0.0",
         "1.0",
         "0.0"
        ],
        [
         "36",
         "191",
         "5",
         "12",
         "19",
         "117950.0",
         "1.0",
         "0.0",
         "0.0"
        ],
        [
         "37",
         "148",
         "1",
         "3",
         "3",
         "49400.0",
         "0.0",
         "0.0",
         "1.0"
        ],
        [
         "38",
         "119",
         "2",
         "12",
         "15",
         "55840.0",
         "0.0",
         "1.0",
         "0.0"
        ],
        [
         "39",
         "73",
         "2",
         "17",
         "1",
         "15900.0",
         "0.0",
         "0.0",
         "1.0"
        ],
        [
         "40",
         "68",
         "2",
         "10",
         "7",
         "31480.0",
         "0.0",
         "1.0",
         "0.0"
        ],
        [
         "41",
         "149",
         "3",
         "14",
         "12",
         "80050.0",
         "1.0",
         "0.0",
         "0.0"
        ],
        [
         "42",
         "112",
         "5",
         "17",
         "17",
         "65320.0",
         "0.0",
         "1.0",
         "0.0"
        ],
        [
         "43",
         "189",
         "5",
         "18",
         "5",
         "68700.0",
         "0.0",
         "0.0",
         "1.0"
        ],
        [
         "44",
         "143",
         "1",
         "19",
         "4",
         "54350.0",
         "1.0",
         "0.0",
         "0.0"
        ],
        [
         "45",
         "151",
         "1",
         "17",
         "12",
         "54360.0",
         "0.0",
         "1.0",
         "0.0"
        ],
        [
         "46",
         "170",
         "2",
         "14",
         "18",
         "75200.0",
         "0.0",
         "1.0",
         "0.0"
        ],
        [
         "47",
         "67",
         "1",
         "9",
         "17",
         "37120.0",
         "0.0",
         "1.0",
         "0.0"
        ],
        [
         "48",
         "94",
         "3",
         "8",
         "19",
         "54200.0",
         "0.0",
         "0.0",
         "1.0"
        ],
        [
         "49",
         "140",
         "5",
         "2",
         "9",
         "74000.0",
         "0.0",
         "0.0",
         "1.0"
        ]
       ],
       "shape": {
        "columns": 8,
        "rows": 500
       }
      },
      "text/html": [
       "<div>\n",
       "<style scoped>\n",
       "    .dataframe tbody tr th:only-of-type {\n",
       "        vertical-align: middle;\n",
       "    }\n",
       "\n",
       "    .dataframe tbody tr th {\n",
       "        vertical-align: top;\n",
       "    }\n",
       "\n",
       "    .dataframe thead th {\n",
       "        text-align: right;\n",
       "    }\n",
       "</style>\n",
       "<table border=\"1\" class=\"dataframe\">\n",
       "  <thead>\n",
       "    <tr style=\"text-align: right;\">\n",
       "      <th></th>\n",
       "      <th>Square_Area</th>\n",
       "      <th>Num_Rooms</th>\n",
       "      <th>Age_of_Building</th>\n",
       "      <th>Floor_Level</th>\n",
       "      <th>Price</th>\n",
       "      <th>City_Amman</th>\n",
       "      <th>City_Aqaba</th>\n",
       "      <th>City_Irbid</th>\n",
       "    </tr>\n",
       "  </thead>\n",
       "  <tbody>\n",
       "    <tr>\n",
       "      <th>0</th>\n",
       "      <td>162</td>\n",
       "      <td>1</td>\n",
       "      <td>15</td>\n",
       "      <td>12</td>\n",
       "      <td>74900.0</td>\n",
       "      <td>1.0</td>\n",
       "      <td>0.0</td>\n",
       "      <td>0.0</td>\n",
       "    </tr>\n",
       "    <tr>\n",
       "      <th>1</th>\n",
       "      <td>152</td>\n",
       "      <td>5</td>\n",
       "      <td>8</td>\n",
       "      <td>8</td>\n",
       "      <td>79720.0</td>\n",
       "      <td>0.0</td>\n",
       "      <td>1.0</td>\n",
       "      <td>0.0</td>\n",
       "    </tr>\n",
       "    <tr>\n",
       "      <th>2</th>\n",
       "      <td>74</td>\n",
       "      <td>3</td>\n",
       "      <td>2</td>\n",
       "      <td>8</td>\n",
       "      <td>43200.0</td>\n",
       "      <td>0.0</td>\n",
       "      <td>0.0</td>\n",
       "      <td>1.0</td>\n",
       "    </tr>\n",
       "    <tr>\n",
       "      <th>3</th>\n",
       "      <td>166</td>\n",
       "      <td>1</td>\n",
       "      <td>3</td>\n",
       "      <td>18</td>\n",
       "      <td>69800.0</td>\n",
       "      <td>0.0</td>\n",
       "      <td>0.0</td>\n",
       "      <td>1.0</td>\n",
       "    </tr>\n",
       "    <tr>\n",
       "      <th>4</th>\n",
       "      <td>131</td>\n",
       "      <td>3</td>\n",
       "      <td>14</td>\n",
       "      <td>15</td>\n",
       "      <td>63160.0</td>\n",
       "      <td>0.0</td>\n",
       "      <td>1.0</td>\n",
       "      <td>0.0</td>\n",
       "    </tr>\n",
       "    <tr>\n",
       "      <th>...</th>\n",
       "      <td>...</td>\n",
       "      <td>...</td>\n",
       "      <td>...</td>\n",
       "      <td>...</td>\n",
       "      <td>...</td>\n",
       "      <td>...</td>\n",
       "      <td>...</td>\n",
       "      <td>...</td>\n",
       "    </tr>\n",
       "    <tr>\n",
       "      <th>495</th>\n",
       "      <td>177</td>\n",
       "      <td>1</td>\n",
       "      <td>6</td>\n",
       "      <td>12</td>\n",
       "      <td>64100.0</td>\n",
       "      <td>0.0</td>\n",
       "      <td>0.0</td>\n",
       "      <td>1.0</td>\n",
       "    </tr>\n",
       "    <tr>\n",
       "      <th>496</th>\n",
       "      <td>79</td>\n",
       "      <td>5</td>\n",
       "      <td>9</td>\n",
       "      <td>13</td>\n",
       "      <td>52700.0</td>\n",
       "      <td>0.0</td>\n",
       "      <td>0.0</td>\n",
       "      <td>1.0</td>\n",
       "    </tr>\n",
       "    <tr>\n",
       "      <th>497</th>\n",
       "      <td>106</td>\n",
       "      <td>3</td>\n",
       "      <td>7</td>\n",
       "      <td>14</td>\n",
       "      <td>60160.0</td>\n",
       "      <td>0.0</td>\n",
       "      <td>1.0</td>\n",
       "      <td>0.0</td>\n",
       "    </tr>\n",
       "    <tr>\n",
       "      <th>498</th>\n",
       "      <td>108</td>\n",
       "      <td>3</td>\n",
       "      <td>9</td>\n",
       "      <td>18</td>\n",
       "      <td>72600.0</td>\n",
       "      <td>1.0</td>\n",
       "      <td>0.0</td>\n",
       "      <td>0.0</td>\n",
       "    </tr>\n",
       "    <tr>\n",
       "      <th>499</th>\n",
       "      <td>73</td>\n",
       "      <td>1</td>\n",
       "      <td>18</td>\n",
       "      <td>6</td>\n",
       "      <td>19280.0</td>\n",
       "      <td>0.0</td>\n",
       "      <td>1.0</td>\n",
       "      <td>0.0</td>\n",
       "    </tr>\n",
       "  </tbody>\n",
       "</table>\n",
       "<p>500 rows × 8 columns</p>\n",
       "</div>"
      ],
      "text/plain": [
       "     Square_Area  Num_Rooms  Age_of_Building  Floor_Level    Price  \\\n",
       "0            162          1               15           12  74900.0   \n",
       "1            152          5                8            8  79720.0   \n",
       "2             74          3                2            8  43200.0   \n",
       "3            166          1                3           18  69800.0   \n",
       "4            131          3               14           15  63160.0   \n",
       "..           ...        ...              ...          ...      ...   \n",
       "495          177          1                6           12  64100.0   \n",
       "496           79          5                9           13  52700.0   \n",
       "497          106          3                7           14  60160.0   \n",
       "498          108          3                9           18  72600.0   \n",
       "499           73          1               18            6  19280.0   \n",
       "\n",
       "     City_Amman  City_Aqaba  City_Irbid  \n",
       "0           1.0         0.0         0.0  \n",
       "1           0.0         1.0         0.0  \n",
       "2           0.0         0.0         1.0  \n",
       "3           0.0         0.0         1.0  \n",
       "4           0.0         1.0         0.0  \n",
       "..          ...         ...         ...  \n",
       "495         0.0         0.0         1.0  \n",
       "496         0.0         0.0         1.0  \n",
       "497         0.0         1.0         0.0  \n",
       "498         1.0         0.0         0.0  \n",
       "499         0.0         1.0         0.0  \n",
       "\n",
       "[500 rows x 8 columns]"
      ]
     },
     "execution_count": 7,
     "metadata": {},
     "output_type": "execute_result"
    }
   ],
   "source": [
    "from sklearn.preprocessing import OneHotEncoder\n",
    "\n",
    "# Initialize OneHotEncoder\n",
    "encoder = OneHotEncoder(sparse_output=False)\n",
    "\n",
    "# Apply the encoder to the 'City' column\n",
    "encoded_city = encoder.fit_transform(df[['City']])\n",
    "\n",
    "# Get the new column names for the encoded 'Region' variable\n",
    "city_encoded_df = pd.DataFrame(encoded_city, columns=encoder.get_feature_names_out(['City']))\n",
    "\n",
    "# Combine the original dataset with the encoded 'Region' variable\n",
    "df = pd.concat([df, city_encoded_df], axis=1)\n",
    "\n",
    "# Drop the original 'Region' column as it's now encoded\n",
    "df = df.drop('City', axis=1)\n",
    "\n",
    "# Display the updated DataFrame with one-hot encoded regions\n",
    "df"
   ]
  },
  {
   "cell_type": "markdown",
   "metadata": {},
   "source": [
    "#### **Step 3: Define the Independent Features (Including the Encoded Variables), and the Dependent Feature**\n",
    "\n",
    "Now, the dataset includes the **one-hot encoded** region columns along with the original advertising spend features. We will include these encoded columns in our feature set for the model."
   ]
  },
  {
   "cell_type": "code",
   "execution_count": 8,
   "metadata": {},
   "outputs": [],
   "source": [
    "# Features and Target\n",
    "X = df[['Square_Area', 'Num_Rooms', 'Age_of_Building','Floor_Level','City_Amman','City_Irbid','City_Aqaba']]  # Independent variables\n",
    "y = df['Price']  # Dependent variable (Sales)\n",
    "\n",
    "# Split the data into training and testing sets (80% train, 20% test)\n",
    "X_train, X_test, y_train, y_test = train_test_split(X, y, test_size=0.2, random_state=42)"
   ]
  },
  {
   "cell_type": "markdown",
   "metadata": {},
   "source": [
    "#### **Step 4: Train the Model**\n",
    "\n",
    "We can now train the model using the expanded feature set, which includes both numerical and the one-hot encoded categorical variables."
   ]
  },
  {
   "cell_type": "code",
   "execution_count": 9,
   "metadata": {},
   "outputs": [
    {
     "name": "stdout",
     "output_type": "stream",
     "text": [
      "Coefficients: [  369.64551574  4891.1740262  -1000.59967602  1014.15716143\n",
      " 10548.74529181 -9284.9810215  -1263.76427031]\n",
      "Intercept: 168.2401616557545\n"
     ]
    }
   ],
   "source": [
    "# Initialize the Linear Regression model\n",
    "model = LinearRegression()\n",
    "\n",
    "# Train the model on the training data\n",
    "model.fit(X_train, y_train)\n",
    "\n",
    "# Coefficients and Intercept\n",
    "print(\"Coefficients:\", model.coef_)\n",
    "print(\"Intercept:\", model.intercept_)"
   ]
  },
  {
   "cell_type": "markdown",
   "metadata": {},
   "source": [
    "#### **Step 5: Evaluate the Model using R² and Scatter Plots**\n",
    "\n",
    "Evaluate the model's performance using the test set."
   ]
  },
  {
   "cell_type": "code",
   "execution_count": 10,
   "metadata": {},
   "outputs": [
    {
     "name": "stdout",
     "output_type": "stream",
     "text": [
      "R-squared (R²): 0.99\n"
     ]
    }
   ],
   "source": [
    "# Predict the target variable for the test set\n",
    "\n",
    "print(\"R-squared (R²):\", round(model.score(X_test,y_test),2))"
   ]
  },
  {
   "cell_type": "markdown",
   "metadata": {},
   "source": [
    "Plot the actual vs predicted values to visualize the model's accuracy."
   ]
  },
  {
   "cell_type": "code",
   "execution_count": 11,
   "metadata": {},
   "outputs": [
    {
     "data": {
      "image/png": "[encoded data removed]",
      "text/plain": [
       "<Figure size 640x480 with 1 Axes>"
      ]
     },
     "metadata": {},
     "output_type": "display_data"
    }
   ],
   "source": [
    "# Plot actual vs predicted values\n",
    "y_pred = model.predict(X_test)\n",
    "\n",
    "plt.scatter(y_test, y_pred, color='blue')\n",
    "plt.plot([min(y_test), max(y_test)], [min(y_test), max(y_test)], color='red', linewidth=2)  # Line of perfect fit\n",
    "plt.xlabel('Actual Sales')\n",
    "plt.ylabel('Predicted Sales')\n",
    "plt.title('Actual vs Predicted Sales')\n",
    "plt.show()"
   ]
  },
  {
   "cell_type": "markdown",
   "metadata": {},
   "source": [
    "#### The Impact of Including the City Variable\n",
    "The inclusion of the **city** variable improved the model’s performance, as prices are affected by the geographical location. By **one-hot encoding** the city, we allowed the model to account for differences in prices patterns across regions.\n",
    "\n",
    "### Examine the Residuals\n",
    "#### Homoscedasticity Testing"
   ]
  },
  {
   "cell_type": "code",
   "execution_count": 12,
   "metadata": {},
   "outputs": [
    {
     "data": {
      "image/png": "[encoded data removed]",
      "text/plain": [
       "<Figure size 640x480 with 1 Axes>"
      ]
     },
     "metadata": {},
     "output_type": "display_data"
    }
   ],
   "source": [
    "import matplotlib.pyplot as plt\n",
    "import numpy as np\n",
    "\n",
    "# Predict the target variable for the training set\n",
    "y_train_pred = model.predict(X_train)\n",
    "\n",
    "# Calculate residuals\n",
    "residuals = y_train - y_train_pred\n",
    "\n",
    "# Plot residuals vs. predicted values\n",
    "plt.scatter(y_train_pred, residuals, color='blue', alpha=0.5)\n",
    "plt.axhline(y=0, color='red', linestyle='--', linewidth=2)\n",
    "plt.xlabel(\"Predicted Values\")\n",
    "plt.ylabel(\"Residuals\")\n",
    "plt.title(\"Residual Plot (Homoscedasticity Check)\")\n",
    "plt.show()"
   ]
  },
  {
   "cell_type": "markdown",
   "metadata": {},
   "source": [
    "#### Normality Testing"
   ]
  },
  {
   "cell_type": "code",
   "execution_count": 13,
   "metadata": {},
   "outputs": [
    {
     "data": {
      "image/png": "[encoded data removed]",
      "text/plain": [
       "<Figure size 640x480 with 1 Axes>"
      ]
     },
     "metadata": {},
     "output_type": "display_data"
    },
    {
     "data": {
      "image/png": "[encoded data removed]",
      "text/plain": [
       "<Figure size 640x480 with 1 Axes>"
      ]
     },
     "metadata": {},
     "output_type": "display_data"
    }
   ],
   "source": [
    "import scipy.stats as stats\n",
    "\n",
    "# Histogram of residuals\n",
    "plt.hist(residuals, bins=20, edgecolor='black')\n",
    "plt.xlabel(\"Residuals\")\n",
    "plt.ylabel(\"Frequency\")\n",
    "plt.title(\"Histogram of Residuals (Normality Check)\")\n",
    "plt.show()\n",
    "\n",
    "# Q-Q plot\n",
    "stats.probplot(residuals, dist=\"norm\", plot=plt)\n",
    "plt.title(\"Q-Q Plot of Residuals (Normality Check)\")\n",
    "plt.show()"
   ]
  },
  {
   "cell_type": "markdown",
   "metadata": {},
   "source": [
    "#### Some Procedures to Enahnce Performce:\n",
    "1. **Verify Data Quality**:\n",
    "   - Check for missing values, outliers, and feature scaling.\n",
    "\n",
    "2. **Examine Residual Patterns**:\n",
    "   - Analyze residual vs. fitted plots, QQ plots, and check for autocorrelation.\n",
    "\n",
    "3. **Check Model Fit and Complexity**:\n",
    "   - Ensure the model form matches the data, add interaction or polynomial terms for non-linearity, or simplify to address overfitting.\n",
    "\n",
    "4. **Address Multicollinearity**:\n",
    "   - Use correlation matrices and Variance Inflation Factor (VIF) to detect and mitigate multicollinearity.\n",
    "\n",
    "5. **Transform Variables**:\n",
    "   - Apply log, square root, or Box-Cox transformations for non-linearity or variance instability.\n",
    "\n",
    "6. **Diagnose and Handle Variance Instability**:\n",
    "   - Use Weighted Least Squares (WLS) or Generalized Linear Models (GLMs) for heteroscedasticity.\n",
    "\n",
    "7. **Evaluate Model Performance**:\n",
    "   - Perform train/test split or cross-validation and use metrics like R², RMSE, or adjusted R².\n",
    "\n",
    "8. **Validate Feature Importance**:\n",
    "   - Select relevant features using statistical tests, domain knowledge, or techniques like Lasso regression.\n",
    "\n",
    "9. **Explore Alternative Models**:\n",
    "   - Try non-linear models (e.g., Random Forest, XGBoost), ensemble models, or regularized models like Ridge or Lasso regression.\n",
    "\n",
    "10. **Test Assumptions**:\n",
    "    - Validate linearity, normality of residuals, and independence of errors.\n",
    "\n",
    "11. **Iterate and Reassess**:\n",
    "    - Repeat diagnostics after each adjustment and validate on unseen data."
   ]
  }
 ],
 "metadata": {
  "kernelspec": {
   "display_name": "Python 3",
   "language": "python",
   "name": "python3"
  },
  "language_info": {
   "codemirror_mode": {
    "name": "ipython",
    "version": 3
   },
   "file_extension": ".py",
   "mimetype": "text/x-python",
   "name": "python",
   "nbconvert_exporter": "python",
   "pygments_lexer": "ipython3",
   "version": "3.10.0"
  }
 },
 "nbformat": 4,
 "nbformat_minor": 4
}
