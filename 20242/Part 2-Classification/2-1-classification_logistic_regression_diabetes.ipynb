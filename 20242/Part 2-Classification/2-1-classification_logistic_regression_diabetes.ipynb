{
 "cells": [
  {
   "cell_type": "markdown",
   "metadata": {
    "id": "fTLkji25b3TH"
   },
   "source": [
    "<!-- ![Alt Text](https://raw.githubusercontent.com/msfasha/307304-Data-Mining/main/images/header.png) -->"
   ]
  },
  {
   "cell_type": "markdown",
   "metadata": {},
   "source": [
    "<div style=\"display: flex; justify-content: flex-start; align-items: center;\">\n",
    "   <a href=\"https://colab.research.google.com/github/msfasha/307304-Data-Mining/blob/main/20242/Part%202-Classification/2-1-classification_logistic_regression_diabetes.ipynb\" target=\"_parent\">\n",
    "        <img src=\"https://colab.research.google.com/assets/colab-badge.svg\" alt=\"Open In Colab\" style=\"height: 25px; margin-right: 20px;\">\n",
    "    <a href=\"https://www.youtube.com/watch?v=CuvIc8C3EDI\" target=\"_blank\">\n",
    "        <img src=\"https://raw.githubusercontent.com/msfasha/307304-Data-Mining/main/images/youtube.png\" alt=\"Logistic Regression Youtube Video\" style=\"height: 40px;\">\n",
    "    </a>\n",
    "    <a href=\"https://uopstdedu-my.sharepoint.com/:v:/g/personal/mohammed_fasha_uop_edu_jo/EYHHBqUnAE5Au4Ad6mWt_4IBXuEvplinsscuwGashgg-XQ?nav=eyJyZWZlcnJhbEluZm8iOnsicmVmZXJyYWxBcHAiOiJPbmVEcml2ZUZvckJ1c2luZXNzIiwicmVmZXJyYWxBcHBQbGF0Zm9ybSI6IldlYiIsInJlZmVycmFsTW9kZSI6InZpZXciLCJyZWZlcnJhbFZpZXciOiJNeUZpbGVzTGlua0NvcHkifX0&e=IqOiPS\" target=\"_blank\">\n",
    "        <img src=\"https://raw.githubusercontent.com/msfasha/307304-Data-Mining/main/images/video_icon.png\" alt=\"Recorded Video Lecture\" style=\"height: 100px;margin-left:20px;\"\">\n",
    "    </a>\n",
    "</div>"
   ]
  },
  {
   "cell_type": "markdown",
   "metadata": {
    "id": "s1zGjiNFb3TJ"
   },
   "source": [
    "# Introduction to Classification\n",
    "\n",
    "Classification is a type of supervised learning where the goal is to predict a categorical label (like \"yes\" or \"no\") instead of a continuous value. For example, predicting if an email is spam or not, or if a customer will make a purchase.\n",
    "\n"
   ]
  },
  {
   "cell_type": "markdown",
   "metadata": {
    "id": "sCtoOFR-b-Bo"
   },
   "source": [
    "## Binary Classification Examples\n",
    "\n",
    "| **Problem**            | **Example Features**                              | **Binary Outcome**               |\n",
    "|-------------------------|--------------------------------------------------|-----------------------------------|\n",
    "| **Churn Prediction**    | Customer tenure, monthly charges, contract type, number of support calls, payment method | Churn (1) / Retain (0)           |\n",
    "| **Spam Detection**      | Email subject length, presence of \"urgent\", sender reputation, email contains link, word frequency of common spam terms | Spam (1) / Not Spam (0)          |\n",
    "| **Loan Approval**       | Applicant income, credit score, loan amount, employment status, debt-to-income ratio | Approved (1) / Denied (0)        |\n",
    "| **Fraud Detection**     | Transaction amount, location mismatch, card usage frequency, time of transaction, device used | Fraudulent (1) / Legitimate (0)  |\n",
    "| **Disease Diagnosis**   | Age, symptoms present (e.g., fever, cough), test result values, exposure history | Disease Present (1) / Absent (0) |\n",
    "| **Customer Satisfaction** | Product rating, delivery time, customer service response time, product return | Satisfied (1) / Unsatisfied (0)  |\n",
    "| **Ad Click Prediction** | Ad type, user device, time of day, user demographics, previous interaction with ads | Clicked (1) / Not Clicked (0)    |\n",
    "| **Credit Card Default** | Payment history, total balance, age of account, income level, missed payments count | Default (1) / No Default (0)     |\n",
    "| **Employee Attrition**  | Age, years at company, job satisfaction score, promotion in last 2 years, average working hours | Left (1) / Stayed (0)            |\n",
    "| **Sentiment Analysis**  | Text length, presence of positive/negative words, punctuation usage, time posted | Positive (1) / Negative (0)      |"
   ]
  },
  {
   "cell_type": "markdown",
   "metadata": {
    "id": "DtJkI-2lcwVE"
   },
   "source": [
    "<div style=\"text-align: center;\">\n",
    "    <img src=\"https://raw.githubusercontent.com/msfasha/307304-Data-Mining/main/images/sample_churn_dataset.png\" alt=\"Sampel Churn Dataset\" width=\"1200\"/>\n",
    "</div>"
   ]
  },
  {
   "cell_type": "markdown",
   "metadata": {
    "id": "Aa8nm490b6ED"
   },
   "source": [
    "## Logistic Regression: The First Step in Classification\n",
    "\n",
    "**Why Not Use Linear Regression for Classification?**  \n",
    "Linear regression is great for predicting continuous numbers (like prices) but struggles with binary outcomes (e.g., yes/no, spam/not spam). Logistic regression is designed specifically for binary classification.\n",
    "\n",
    "**What is Logistic Regression?**  \n",
    "Logistic regression predicts the probability that an instance belongs to a certain class. The core of logistic regression is the **sigmoid function**, which takes any input value and squeezes it between 0 and 1. This makes it perfect for probability predictions.\n",
    "\n",
    "**The Sigmoid Function:**  \n",
    "Here’s the formula for the sigmoid function:\n",
    "$\n",
    "\\sigma(x) = \\frac{1}{1 + e^{-x}}\n",
    "$\n",
    "This function converts any input into a value between 0 and 1. In logistic regression:\n",
    "- If the probability (output) is above 0.5, the model predicts “yes” (or class 1).\n",
    "- If it’s below 0.5, it predicts “no” (or class 0)."
   ]
  },
  {
   "cell_type": "markdown",
   "metadata": {
    "id": "MS8JdozPb3TJ"
   },
   "source": [
    "<div style=\"text-align: center;\">\n",
    "    <img src=\"https://raw.githubusercontent.com/msfasha/307304-Data-Mining/main/images/sigmoid.png\" alt=\"Logistic Regression and the Sigmoid Function\" width=\"600\"/>\n",
    "</div>"
   ]
  },
  {
   "cell_type": "markdown",
   "metadata": {
    "id": "JYC6m0UQb3TJ"
   },
   "source": [
    "## Practical Example using Python"
   ]
  },
  {
   "cell_type": "markdown",
   "metadata": {},
   "source": [
    "<a href=\"https://uopstdedu-my.sharepoint.com/:v:/g/personal/mohammed_fasha_uop_edu_jo/EeoS5enxo-xPhr4xwPiHeAcBONGAs6OyUJXgzwBuYLiZHw?nav=eyJyZWZlcnJhbEluZm8iOnsicmVmZXJyYWxBcHAiOiJPbmVEcml2ZUZvckJ1c2luZXNzIiwicmVmZXJyYWxBcHBQbGF0Zm9ybSI6IldlYiIsInJlZmVycmFsTW9kZSI6InZpZXciLCJyZWZlcnJhbFZpZXciOiJNeUZpbGVzTGlua0NvcHkifX0&e=xWPtkf\" target=\"_blank\">\n",
    "<img src=\"https://raw.githubusercontent.com/msfasha/307304-Data-Mining/main/images/video_icon.png\" alt=\"Recorded Video Lecture\" style=\"height: 100px;margin-left:20px;\"\">\n",
    "</a>"
   ]
  },
  {
   "cell_type": "markdown",
   "metadata": {
    "id": "s8Wgr_AUb3TJ"
   },
   "source": [
    "We will use a using [Diabetes Dataset](https://www.kaggle.com/datasets/mathchi/diabetes-data-set) dataset to demonstrate classification using scikit Learn Library.<br>\n",
    "\n",
    "**Dataset Card: Diabetes Prediction Dataset**\n",
    "\n",
    "**Context**<br>\n",
    "This dataset is originally from the National Institute of Diabetes and Digestive and Kidney Diseases. The objective is to predict based on diagnostic measurements whether a patient has diabetes.\n",
    "\n",
    "**Content**<br>\n",
    "Several constraints were placed on the selection of these instances from a larger database. In particular, all patients here are females at least 21 years old of Pima Indian heritage.\n",
    "\n",
    "- Pregnancies: Number of times pregnant\n",
    "- Glucose: Plasma glucose concentration a 2 hours in an oral glucose tolerance test\n",
    "- BloodPressure: Diastolic blood pressure (mm Hg)\n",
    "- SkinThickness: Triceps skin fold thickness (mm)\n",
    "- Insulin: 2-Hour serum insulin (mu U/ml)\n",
    "- BMI: Body mass index (weight in kg/(height in m)^2)\n",
    "- DiabetesPedigreeFunction: Diabetes pedigree function\n",
    "- Age: Age (years)\n",
    "- Outcome: Class variable (0 or 1)"
   ]
  },
  {
   "cell_type": "markdown",
   "metadata": {
    "id": "h6GbGu1Cb3TK"
   },
   "source": [
    "### Solution Steps\n",
    "1. Load the Data.\n",
    "2. Split the data intro training and testing datasets.\n",
    "3. Define the classification model.\n",
    "4. Fit the model.\n",
    "5. Make predictions and test performance."
   ]
  },
  {
   "cell_type": "code",
   "execution_count": 2,
   "metadata": {
    "colab": {
     "base_uri": "https://localhost:8080/"
    },
    "id": "j83f1A1Ab3TK",
    "outputId": "c9e3355d-a46e-4eeb-8bde-14b33bbc5250"
   },
   "outputs": [
    {
     "name": "stdout",
     "output_type": "stream",
     "text": [
      "Predictions: [1 0 1 0 0 0 0 0 0 1 0 0 1 0 1 1 1 1 1 1 0 1 1 0 1 1 1 1 1 0 0 1 0 0 0 0 0\n",
      " 0 0 0 0 0 0 0 1 0 1 1 0 1 0 0 0 0 0 1 1 0 0 0 0 0 0 1 0 0 0 0 0 0 0 0 1 0\n",
      " 1 1 0 1 0 0 0 0 1 0 0 0 0 0 0 0 0 0 1 1 1 0 0 0 0 0 1 1 0 0 0 1 0 1 0 0 1\n",
      " 0 0 0 1 0 0 0 0 0 0 0 1 0 0 1 0 1 1 0 0 1 1 1 0 0 0 0 1 0 0 1 1 1 0 1 0 0\n",
      " 0 0 0 0 0 1]\n"
     ]
    }
   ],
   "source": [
    "import pandas as pd\n",
    "from sklearn.model_selection import train_test_split\n",
    "from sklearn.linear_model import LogisticRegression\n",
    "\n",
    "# Load the dataset from the URL\n",
    "url = \"https://raw.githubusercontent.com/msfasha/307304-Data-Mining/main/datasets/diabetes.csv\"\n",
    "data = pd.read_csv(url)\n",
    "\n",
    "# Define features (X) and target (y)\n",
    "X = data[['Pregnancies', 'Glucose', 'BloodPressure', 'SkinThickness', 'Insulin', 'BMI','DiabetesPedigreeFunction','Age']]\n",
    "y = data['Outcome']\n",
    "\n",
    "# Split the data\n",
    "X_train, X_test, y_train, y_test = train_test_split(X, y, test_size=0.2)\n",
    "\n",
    "# Train logistic regression model\n",
    "model = LogisticRegression(max_iter=200)  # Increase iterations to 200\n",
    "model.fit(X_train, y_train)\n",
    "\n",
    "# Predict on test data\n",
    "predictions = model.predict(X_test)\n",
    "print(\"Predictions:\", predictions)"
   ]
  },
  {
   "cell_type": "markdown",
   "metadata": {
    "id": "uS7oE2yf6Znx"
   },
   "source": [
    "### **Evaluating Classification Performance**\n",
    "\n",
    "### 1. **Confusion Matrix**"
   ]
  },
  {
   "cell_type": "markdown",
   "metadata": {},
   "source": [
    "<a href=\"https://uopstdedu-my.sharepoint.com/:v:/g/personal/mohammed_fasha_uop_edu_jo/Ee6bPjBe_fJEuBrFr9Gj-SkB4krBML7o8R1fkpHyko-OtA?nav=eyJyZWZlcnJhbEluZm8iOnsicmVmZXJyYWxBcHAiOiJPbmVEcml2ZUZvckJ1c2luZXNzIiwicmVmZXJyYWxBcHBQbGF0Zm9ybSI6IldlYiIsInJlZmVycmFsTW9kZSI6InZpZXciLCJyZWZlcnJhbFZpZXciOiJNeUZpbGVzTGlua0NvcHkifX0&e=Q9lUdi\" target=\"_blank\">\n",
    "<img src=\"https://raw.githubusercontent.com/msfasha/307304-Data-Mining/main/images/video_icon.png\" alt=\"Recorded Video Lecture\" style=\"height: 100px;margin-left:20px;\"\">\n",
    "</a>"
   ]
  },
  {
   "cell_type": "markdown",
   "metadata": {},
   "source": [
    "- **Definition**: A table summarizing the counts of true positives, false positives, true negatives, and false negatives.\n",
    "- **Structure**:\n",
    "\n",
    "|                  | Predicted Diabetic | Predicted Non-Diabetic |\n",
    "|------------------|--------------------|-------------------------|\n",
    "| Actual Diabetic  | True Positive (TP) | False Negative (FN)    |\n",
    "| Actual Non-Diabetic | False Positive (FP) | True Negative (TN)    |\n",
    "\n",
    "- **Purpose**: Provides a detailed breakdown of predictions, enabling the calculation of key metrics and insights into where the model errs.\n",
    "\n",
    "### Example: Diabetes Prediction\n",
    "- **True Positive (TP)**: Correctly predicts a diabetic patient.\n",
    "- **False Positive (FP)**: Misdiagnoses a non-diabetic patient as diabetic.\n",
    "- **True Negative (TN)**: Correctly predicts a non-diabetic patient.\n",
    "- **False Negative (FN)**: Misses a diabetic patient."
   ]
  },
  {
   "cell_type": "markdown",
   "metadata": {
    "id": "reJ72lyT9Vzf"
   },
   "source": [
    "***Manullay Compute the Accuracy Measures***"
   ]
  },
  {
   "cell_type": "code",
   "execution_count": null,
   "metadata": {
    "colab": {
     "base_uri": "https://localhost:8080/"
    },
    "id": "JP1llcni9OnM",
    "outputId": "5d7387f1-b015-4bdf-a2d8-38accd40827d"
   },
   "outputs": [
    {
     "name": "stdout",
     "output_type": "stream",
     "text": [
      "     Actual  Probability = 1  Predicted Result\n",
      "348       0         0.053203          0     TN\n",
      "549       0         0.752083          1     FP\n",
      "46        0         0.402713          0     TN\n",
      "326       1         0.314981          0     FN\n",
      "267       0         0.637411          1     FP\n",
      "89        0         0.076621          0     TN\n",
      "508       0         0.116035          0     TN\n",
      "115       1         0.545304          1     TP\n",
      "258       0         0.597213          1     FP\n",
      "566       0         0.182246          0     TN\n",
      "199       1         0.336597          0     FN\n",
      "445       1         0.993349          1     TP\n",
      "647       1         0.751586          1     TP\n",
      "224       0         0.069773          0     TN\n",
      "483       0         0.071390          0     TN\n",
      "595       1         0.650903          1     TP\n",
      "588       1         0.836159          1     TP\n",
      "418       0         0.024633          0     TN\n",
      "546       1         0.956899          1     TP\n",
      "208       0         0.095534          0     TN\n",
      "----------------------------------------------\n",
      "  Result  Count\n",
      "0     FN     21\n",
      "1     FP      9\n",
      "2     TN     82\n",
      "3     TP     42\n"
     ]
    }
   ],
   "source": [
    "probabilities = model.predict_proba(X_test)[:,1]\n",
    "resultdf = pd.DataFrame({'Actual': y_test, 'Probability = 1': probabilities, 'Predicted': predictions})\n",
    "\n",
    "# Add a column 'Result' to classify each row as TP, TN, FP, FN\n",
    "resultdf['Result'] = resultdf.apply(\n",
    "    lambda row: 'TP' if row['Actual'] == 1 and row['Predicted'] == 1 else\n",
    "                'TN' if row['Actual'] == 0 and row['Predicted'] == 0 else\n",
    "                'FP' if row['Actual'] == 0 and row['Predicted'] == 1 else\n",
    "                'FN',\n",
    "    axis=1\n",
    ")\n",
    "print(resultdf.head(20))\n",
    "print(\"----------------------------------------------\")\n",
    "# sum the values\n",
    "count_df = resultdf.groupby('Result').size().reset_index(name='Count')\n",
    "print(count_df)\n",
    "\n",
    "# 1. .size():\n",
    "# Purpose: It counts the number of rows in each group.\n",
    "# Result: Returns a Series where the index corresponds to the group (e.g., Result column values like TP, TN, etc.), and the value is the count of rows in that group.\n",
    "# Without .size(): You can't directly count rows in a groupby() operation because methods like .sum() and .mean() aggregate numerical columns, not counts. If you're looking for row counts, .size() is necessary.\n",
    "\n",
    "# 2. .reset_index():\n",
    "# Purpose: Converts the group labels (from the groupby() index) back into regular columns of a new DataFrame.\n",
    "# Result: Gives you a DataFrame where the group labels (e.g., TP, TN, etc.) appear as regular data in a column."
   ]
  },
  {
   "cell_type": "markdown",
   "metadata": {
    "id": "fj7WiuTy6Znx"
   },
   "source": [
    "**Use the confusion_matrix function from sklearn to get the accuracy measures**"
   ]
  },
  {
   "cell_type": "code",
   "execution_count": null,
   "metadata": {
    "colab": {
     "base_uri": "https://localhost:8080/"
    },
    "id": "nKi7S0sR6Znx",
    "outputId": "298ca995-8daf-4964-9ba4-e6055c6cf2fd"
   },
   "outputs": [
    {
     "name": "stdout",
     "output_type": "stream",
     "text": [
      "Confusion Matrix:\n",
      " [[82  9]\n",
      " [21 42]]\n",
      "True Negatives (TN): 82\n",
      "False Positives (FP): 9\n",
      "False Negatives (FN): 21\n",
      "True Positives (TP): 42\n"
     ]
    }
   ],
   "source": [
    "from sklearn.metrics import confusion_matrix\n",
    "\n",
    "# Enhanced display of the confusion matrix\n",
    "cm = confusion_matrix(y_test, predictions)\n",
    "print(\"Confusion Matrix:\\n\", cm)\n",
    "\n",
    "# The ravel() function in this context is used to \"flatten\" the confusion matrix array, making it a 1-dimensional array instead of a 2x2 matrix.\n",
    "# When you call cm.ravel() on a 2x2 confusion matrix, it returns the values in the order [TN, FP, FN, TP]. This allows you to directly assign these values to the variables tn, fp, fn, and tp,\n",
    "tn, fp, fn, tp = cm.ravel()\n",
    "print(f\"True Negatives (TN): {tn}\")\n",
    "print(f\"False Positives (FP): {fp}\")\n",
    "print(f\"False Negatives (FN): {fn}\")\n",
    "print(f\"True Positives (TP): {tp}\")"
   ]
  },
  {
   "cell_type": "markdown",
   "metadata": {
    "id": "3KE2iywg6Zny"
   },
   "source": [
    "**Display an Enhanced Confusion Matrix**"
   ]
  },
  {
   "cell_type": "code",
   "execution_count": null,
   "metadata": {
    "colab": {
     "base_uri": "https://localhost:8080/",
     "height": 410
    },
    "id": "EDXZu8LY6Zny",
    "outputId": "2f2129c5-883e-486a-ae57-b20016943736"
   },
   "outputs": [
    {
     "data": {
      "image/png": "[encoded data removed]",
      "text/plain": [
       "<Figure size 600x400 with 2 Axes>"
      ]
     },
     "metadata": {},
     "output_type": "display_data"
    }
   ],
   "source": [
    "import seaborn as sns\n",
    "import matplotlib.pyplot as plt\n",
    "\n",
    "# Plot the confusion matrix with updated labels\n",
    "plt.figure(figsize=(6, 4))\n",
    "sns.heatmap(\n",
    "    cm,\n",
    "    annot=[[f\"TN={tn}\", f\"FP={fp}\"], [f\"FN={fn}\", f\"TP={tp}\"]],\n",
    "    fmt=\"\",\n",
    "    cmap='Blues',\n",
    "    xticklabels=['Predicted Non-Diabetic', 'Predicted Diabetic'],\n",
    "    yticklabels=['Actual Non-Diabetic', 'Actual Diabetic']\n",
    ")\n",
    "plt.xlabel('Predicted Label')\n",
    "plt.ylabel('True Label')\n",
    "plt.title('Confusion Matrix')\n",
    "plt.show()"
   ]
  },
  {
   "cell_type": "markdown",
   "metadata": {
    "id": "J5l6jih_xX_D"
   },
   "source": [
    "### 2. **Accuracy**\n"
   ]
  },
  {
   "cell_type": "markdown",
   "metadata": {},
   "source": [
    "<a href=\"https://uopstdedu-my.sharepoint.com/:v:/g/personal/mohammed_fasha_uop_edu_jo/EdA1zu4vnD9Jg9SRvMHuBskBFZKZUJipM_7rnXNQmS7wig?nav=eyJyZWZlcnJhbEluZm8iOnsicmVmZXJyYWxBcHAiOiJPbmVEcml2ZUZvckJ1c2luZXNzIiwicmVmZXJyYWxBcHBQbGF0Zm9ybSI6IldlYiIsInJlZmVycmFsTW9kZSI6InZpZXciLCJyZWZlcnJhbFZpZXciOiJNeUZpbGVzTGlua0NvcHkifX0&e=jfvmju\" target=\"_blank\">\n",
    "<img src=\"https://raw.githubusercontent.com/msfasha/307304-Data-Mining/main/images/video_icon.png\" alt=\"Recorded Video Lecture\" style=\"height: 100px;margin-left:20px;\"\">\n",
    "</a>"
   ]
  },
  {
   "cell_type": "markdown",
   "metadata": {},
   "source": [
    "Accuracy is the most basic metric for evaluating classification models, measuring the proportion of correct predictions.<br>\n",
    "- **Definition**: The ratio of correct predictions to total predictions.\n",
    "- **Formula**:\n",
    "\n",
    "  $\n",
    "  \\text{Accuracy} = \\frac{\\text{Number of Correct Predictions}}{\\text{Total Predictions}}\n",
    "  $\n",
    "\n",
    "- **Limitation**: Accuracy can be misleading with imbalanced data. For example, if only 10% of patients have diabetes, predicting all as \"non-diabetic\" yields 90% accuracy but fails to identify any diabetic cases."
   ]
  },
  {
   "cell_type": "code",
   "execution_count": null,
   "metadata": {
    "colab": {
     "base_uri": "https://localhost:8080/"
    },
    "id": "i1sSV7pgxYv0",
    "outputId": "b388a644-726c-450e-dc5c-43df66d3d79f"
   },
   "outputs": [
    {
     "name": "stdout",
     "output_type": "stream",
     "text": [
      "Accuracy: 0.81\n"
     ]
    }
   ],
   "source": [
    "from sklearn.metrics import accuracy_score\n",
    "\n",
    "accuracy = round(accuracy_score(y_test, predictions),2)\n",
    "print(\"Accuracy:\", accuracy)"
   ]
  },
  {
   "cell_type": "markdown",
   "metadata": {
    "id": "lWA5njOoxiZK"
   },
   "source": [
    "### 3. **Precision and Recall**\n"
   ]
  },
  {
   "cell_type": "markdown",
   "metadata": {},
   "source": [
    "<div style=\"display: flex; justify-content: flex-start; align-items: center;\">\n",
    "   <a href=\"https://uopstdedu-my.sharepoint.com/:v:/g/personal/mohammed_fasha_uop_edu_jo/EY5d7aowhchGgcGrgKouwlsBa7BBgW6GSEkKaX244TTiMg?nav=eyJyZWZlcnJhbEluZm8iOnsicmVmZXJyYWxBcHAiOiJPbmVEcml2ZUZvckJ1c2luZXNzIiwicmVmZXJyYWxBcHBQbGF0Zm9ybSI6IldlYiIsInJlZmVycmFsTW9kZSI6InZpZXciLCJyZWZlcnJhbFZpZXciOiJNeUZpbGVzTGlua0NvcHkifX0&e=jFyWZ2\" target=\"_blank\">\n",
    "   <img src=\"https://raw.githubusercontent.com/msfasha/307304-Data-Mining/main/images/video_icon.png\" alt=\"Recorded Video Lecture\" style=\"height: 100px;\">\n",
    "    </a>\n",
    "    <a href=\"https://uopstdedu-my.sharepoint.com/:v:/g/personal/mohammed_fasha_uop_edu_jo/EWXxb-J08f5IlhLHeYduuzUBw_ofDrExakRsRNXg5iA58w?nav=eyJyZWZlcnJhbEluZm8iOnsicmVmZXJyYWxBcHAiOiJPbmVEcml2ZUZvckJ1c2luZXNzIiwicmVmZXJyYWxBcHBQbGF0Zm9ybSI6IldlYiIsInJlZmVycmFsTW9kZSI6InZpZXciLCJyZWZlcnJhbFZpZXciOiJNeUZpbGVzTGlua0NvcHkifX0&e=7dv2P1\" target=\"_blank\">\n",
    "    <img src=\"https://raw.githubusercontent.com/msfasha/307304-Data-Mining/main/images/video_icon.png\" alt=\"Recorded Video Lecture\" style=\"height: 100px;margin-left:20px;\">\n",
    "    </a>\n",
    "    <a href=\"https://uopstdedu-my.sharepoint.com/:v:/g/personal/mohammed_fasha_uop_edu_jo/EU8ITtagtupCrZAFzCN1Og8BGatoaJooFE16KJDvT7XnoQ?nav=eyJyZWZlcnJhbEluZm8iOnsicmVmZXJyYWxBcHAiOiJPbmVEcml2ZUZvckJ1c2luZXNzIiwicmVmZXJyYWxBcHBQbGF0Zm9ybSI6IldlYiIsInJlZmVycmFsTW9kZSI6InZpZXciLCJyZWZlcnJhbFZpZXciOiJNeUZpbGVzTGlua0NvcHkifX0&e=qXAMNx\" target=\"_blank\">\n",
    "    <img src=\"https://raw.githubusercontent.com/msfasha/307304-Data-Mining/main/images/video_icon.png\" alt=\"Recorded Video Lecture\" style=\"height: 100px;margin-left:20px;\">\n",
    "    </a>\n",
    "</div>"
   ]
  },
  {
   "cell_type": "markdown",
   "metadata": {},
   "source": [
    "### 3.1 **Precision**\n",
    "- **Definition**: The proportion of correctly predicted positives (diabetic) out of all predicted positives.\n",
    "- **Formula**:\n",
    "\n",
    "  $\n",
    "  \\text{Precision} = \\frac{\\text{True Positives}}{\\text{True Positives} + \\text{False Positives}}\n",
    "  $\n",
    "\n",
    "- **When Useful**: Precision matters when false positives (e.g., diagnosing non-diabetic patients as diabetic) need to be minimized, reducing unnecessary interventions or stress."
   ]
  },
  {
   "cell_type": "code",
   "execution_count": null,
   "metadata": {
    "colab": {
     "base_uri": "https://localhost:8080/"
    },
    "id": "926MeFaBxigC",
    "outputId": "5a17f1f3-007a-4636-ac21-ca349a7916b8"
   },
   "outputs": [
    {
     "name": "stdout",
     "output_type": "stream",
     "text": [
      "Precision: 0.82\n"
     ]
    }
   ],
   "source": [
    "from sklearn.metrics import precision_score\n",
    "\n",
    "precision = round(precision_score(y_test, predictions),2)\n",
    "print(\"Precision:\", precision)"
   ]
  },
  {
   "cell_type": "markdown",
   "metadata": {
    "id": "MEmPYoAexrF7"
   },
   "source": [
    "### 3.2. **Recall** (Sensitivity or True Positive Rate)\n",
    "- **Definition**: The proportion of correctly identified positives out of all actual positives.\n",
    "- **Formula**:\n",
    "\n",
    "  $\n",
    "  \\text{Recall} = \\frac{\\text{True Positives}}{\\text{True Positives} + \\text{False Negatives}}\n",
    "  $\n",
    "\n",
    "- **When Useful**: Recall is critical when missing positive cases (e.g., undiagnosed diabetic patients) is costly, ensuring timely intervention for high-risk individuals."
   ]
  },
  {
   "cell_type": "code",
   "execution_count": null,
   "metadata": {
    "colab": {
     "base_uri": "https://localhost:8080/"
    },
    "id": "48tU7MPAxrMd",
    "outputId": "207f67d4-614b-4b47-d0ba-c859e5ffd53b"
   },
   "outputs": [
    {
     "name": "stdout",
     "output_type": "stream",
     "text": [
      "Recall: 0.67\n"
     ]
    }
   ],
   "source": [
    "from sklearn.metrics import recall_score, f1_score\n",
    "\n",
    "recall = round(recall_score(y_test, predictions),2)\n",
    "print(\"Recall:\", recall)"
   ]
  },
  {
   "cell_type": "markdown",
   "metadata": {
    "id": "Ekfi9S6fx0R5"
   },
   "source": [
    "#### **Why Both Metrics Matter**\n",
    "- **High Precision**: Ensures fewer non-diabetic patients are misdiagnosed as diabetic.\n",
    "- **High Recall**: Ensures most diabetic patients are identified.\n",
    "- The trade-off depends on the specific goal: reducing unnecessary diagnoses (precision) or minimizing missed diagnoses (recall)."
   ]
  },
  {
   "cell_type": "markdown",
   "metadata": {
    "id": "Ya4ZnTtrx6Dk"
   },
   "source": [
    "### 4. **F1 Score**\n",
    "- **Definition**: The harmonic mean of precision and recall, balancing the two metrics.<br>\n",
    "- **When Useful**: Ideal for imbalanced datasets when both false positives and false negatives are costly.\n",
    "- Higher F1 Scores are better, as they indicate a good balance between precision (low false positives) and recall (low false negatives).<br>\n",
    "- A perfect score of 1 is ideal but rare in real-world applications.<br>\n",
    "- **Threshold for \"good\" F1 scores depends on the context:**<br>\n",
    "  -  In many cases, an F1 score above 0.7 is considered good.\n",
    "  -  In highly challenging tasks or imbalanced datasets, even 0.5–0.6 might be acceptable.\n",
    "- **Formula**:\n",
    "  $\n",
    "  \\text{F1 Score} = 2 \\times \\frac{\\text{Precision} \\times \\text{Recall}}{\\text{Precision} + \\text{Recall}}\n",
    "  $\n",
    "\n"
   ]
  },
  {
   "cell_type": "code",
   "execution_count": null,
   "metadata": {
    "colab": {
     "base_uri": "https://localhost:8080/"
    },
    "id": "-R5JZMwpx0ZJ",
    "outputId": "8f1ebc98-6f1d-47d6-80ba-15ecd8996dee"
   },
   "outputs": [
    {
     "name": "stdout",
     "output_type": "stream",
     "text": [
      "F1-Score: 0.74\n"
     ]
    }
   ],
   "source": [
    "from sklearn.metrics import f1_score\n",
    "\n",
    "f1 = round(f1_score(y_test, predictions),2)\n",
    "print(\"F1-Score:\", f1)"
   ]
  },
  {
   "cell_type": "markdown",
   "metadata": {
    "id": "dvHSc7S6b3TL"
   },
   "source": [
    "### **Choosing Metrics**\n",
    "- **High Precision**: Prioritize to reduce unnecessary treatments.\n",
    "- **High Recall**: Prioritize to minimize undiagnosed diabetes.\n",
    "- **F1 Score**: Best for balancing precision and recall, especially in imbalanced datasets.\n",
    "\n",
    "By carefully analyzing these metrics, we can optimize the model's performance to meet healthcare goals, ensuring both effective and efficient predictions for diabetes diagnosis."
   ]
  },
  {
   "cell_type": "markdown",
   "metadata": {
    "id": "DXlMJKMPyG5W"
   },
   "source": [
    "---"
   ]
  },
  {
   "cell_type": "markdown",
   "metadata": {
    "id": "ZS0KZ0aEb3TM"
   },
   "source": [
    "### ROC Curve and AUC (Area Under the Curve)"
   ]
  },
  {
   "cell_type": "markdown",
   "metadata": {},
   "source": [
    "<a href=\"https://uopstdedu-my.sharepoint.com/:v:/g/personal/mohammed_fasha_uop_edu_jo/EVBgtEbEmPhEhhhq_YRvxdgBB2Xb5bTnP1YUfygpStW_AA?nav=eyJyZWZlcnJhbEluZm8iOnsicmVmZXJyYWxBcHAiOiJPbmVEcml2ZUZvckJ1c2luZXNzIiwicmVmZXJyYWxBcHBQbGF0Zm9ybSI6IldlYiIsInJlZmVycmFsTW9kZSI6InZpZXciLCJyZWZlcnJhbFZpZXciOiJNeUZpbGVzTGlua0NvcHkifX0&e=hVvtZY\" target=\"_blank\">\n",
    "<img src=\"https://raw.githubusercontent.com/msfasha/307304-Data-Mining/main/images/video_icon.png\" alt=\"Recorded Video Lecture\" style=\"height: 100px;margin-left:20px;\">"
   ]
  },
  {
   "cell_type": "markdown",
   "metadata": {},
   "source": [
    "After evaluating a classification model with accuracy, precision, recall, F1 score, and the confusion matrix, another valuable tool is the **ROC Curve** and the **AUC-ROC score**.\n",
    "\n",
    "**What is the ROC Curve?**\n",
    "\n",
    "The **Receiver Operating Characteristic (ROC) Curve** shows the performance of a classification model by plotting two metrics:\n",
    "- **True Positive Rate (TPR)** (or **Recall**): The proportion of actual positive cases that the model correctly identifies.\n",
    "- **False Positive Rate (FPR)**: The proportion of actual negative cases that the model incorrectly identifies as positive.\n",
    "\n",
    "On the ROC curve:\n",
    "- **X-axis** represents the **False Positive Rate** (FPR).\n",
    "- **Y-axis** represents the **True Positive Rate** (TPR).\n",
    "\n",
    "The ROC curve shows the trade-off between TPR and FPR across different threshold levels, allowing us to see how well the model distinguishes between the two classes (e.g., defaulters and non-defaulters) at various thresholds.\n",
    "\n",
    "**What is AUC (Area Under the Curve)?**\n",
    "\n",
    "The **AUC-ROC score** summarizes the ROC curve by calculating the total area under it:\n",
    "- An AUC of **1.0** represents a perfect model that separates the two classes perfectly.\n",
    "- An AUC of **0.5** indicates a model with no predictive power, equivalent to random guessing.\n",
    "- Higher AUC values indicate a stronger model with better class separation.\n",
    "\n",
    "### Applying the ROC Curve and AUC in Our Code\n",
    "\n",
    "Since our model uses logistic regression, we can calculate and plot the ROC curve to assess its performance across different thresholds. The AUC score will provide a single metric summarizing the model's ability to differentiate between defaulters and non-defaulters.\n",
    "\n",
    "### Example Code to Plot the ROC Curve and Calculate AUC"
   ]
  },
  {
   "cell_type": "code",
   "execution_count": null,
   "metadata": {
    "colab": {
     "base_uri": "https://localhost:8080/",
     "height": 581
    },
    "id": "ohO7HFD-b3TM",
    "outputId": "5842bc5e-9e65-4c31-9aa7-8e0102567907"
   },
   "outputs": [
    {
     "name": "stdout",
     "output_type": "stream",
     "text": [
      "AUC-ROC Score: 0.8615035757892899\n"
     ]
    },
    {
     "data": {
      "image/png": "[encoded data removed]",
      "text/plain": [
       "<Figure size 800x600 with 1 Axes>"
      ]
     },
     "metadata": {},
     "output_type": "display_data"
    }
   ],
   "source": [
    "from sklearn.metrics import roc_curve, roc_auc_score\n",
    "import matplotlib.pyplot as plt\n",
    "\n",
    "# Predict probabilities for the positive class\n",
    "probabilities = model.predict_proba(X_test)[:, 1]  # Extract probabilities for class 1 (default)\n",
    "\n",
    "# Calculate the ROC curve\n",
    "fpr, tpr, thresholds = roc_curve(y_test, probabilities)\n",
    "\n",
    "# Calculate the AUC score\n",
    "auc_score = roc_auc_score(y_test, probabilities)\n",
    "print(\"AUC-ROC Score:\", auc_score)\n",
    "\n",
    "# Plot the ROC curve\n",
    "plt.figure(figsize=(8, 6))\n",
    "plt.plot(fpr, tpr, label=f\"ROC Curve (AUC = {auc_score:.2f})\")\n",
    "plt.plot([0, 1], [0, 1], 'k--', label=\"Random Guess (AUC = 0.5)\")\n",
    "plt.xlabel(\"False Positive Rate (FPR)\")\n",
    "plt.ylabel(\"True Positive Rate (TPR)\")\n",
    "plt.title(\"ROC Curve for Loan Default Prediction\")\n",
    "plt.legend(loc=\"lower right\")\n",
    "plt.show()"
   ]
  },
  {
   "cell_type": "markdown",
   "metadata": {
    "id": "b0K8hr0Eb3TM"
   },
   "source": [
    "### Interpreting the ROC Curve and AUC Score\n",
    "\n",
    "In this plot:\n",
    "- The **ROC Curve** helps us see how well the model performs at distinguishing defaulters from non-defaulters across different thresholds.\n",
    "- The **AUC score** gives a single-value summary of the model’s ability to distinguish between classes. A higher AUC indicates better performance.\n",
    "\n",
    "For instance:\n",
    "- An **AUC close to 1** indicates that the model is effective at identifying defaulters and non-defaulters.\n",
    "- If the **AUC is around 0.5**, the model performs no better than random guessing.\n",
    "\n",
    "By using the ROC curve and AUC score, we gain a deeper understanding of how the model performs at varying thresholds, beyond just accuracy. This is especially valuable in loan default prediction, where thresholds for flagging risky applicants can be adjusted based on the bank’s risk tolerance."
   ]
  },
  {
   "cell_type": "markdown",
   "metadata": {
    "id": "5h6ZFm0fJ85g"
   },
   "source": [
    "## Showing the Thresholds"
   ]
  },
  {
   "cell_type": "code",
   "execution_count": null,
   "metadata": {
    "colab": {
     "base_uri": "https://localhost:8080/",
     "height": 824
    },
    "id": "34D4HA-pJ9Bt",
    "outputId": "12a7d6b9-b200-40cb-8b4f-eeb1ab3edb8c"
   },
   "outputs": [
    {
     "name": "stdout",
     "output_type": "stream",
     "text": [
      "AUC-ROC Score: 0.8615035757892899\n",
      "\n",
      "Thresholds, TPR, and FPR:\n",
      "Threshold: inf, TPR: 0.00, FPR: 0.00\n",
      "Threshold: 0.92, TPR: 0.08, FPR: 0.01\n",
      "Threshold: 0.76, TPR: 0.38, FPR: 0.03\n",
      "Threshold: 0.65, TPR: 0.54, FPR: 0.05\n",
      "Threshold: 0.54, TPR: 0.65, FPR: 0.08\n",
      "Threshold: 0.48, TPR: 0.70, FPR: 0.13\n",
      "Threshold: 0.34, TPR: 0.79, FPR: 0.22\n",
      "Threshold: 0.28, TPR: 0.84, FPR: 0.26\n",
      "Threshold: 0.26, TPR: 0.90, FPR: 0.29\n",
      "Threshold: 0.24, TPR: 0.94, FPR: 0.32\n",
      "Threshold: 0.10, TPR: 0.97, FPR: 0.69\n",
      "Threshold: 0.03, TPR: 1.00, FPR: 0.97\n"
     ]
    },
    {
     "data": {
      "image/png": "[encoded data removed]",
      "text/plain": [
       "<Figure size 800x600 with 1 Axes>"
      ]
     },
     "metadata": {},
     "output_type": "display_data"
    }
   ],
   "source": [
    "from sklearn.metrics import roc_curve, roc_auc_score\n",
    "import matplotlib.pyplot as plt\n",
    "import numpy as np\n",
    "\n",
    "# Predict probabilities for the positive class\n",
    "probabilities = model.predict_proba(X_test)[:, 1]  # Extract probabilities for class 1 (default)\n",
    "\n",
    "# Calculate the ROC curve\n",
    "fpr, tpr, thresholds = roc_curve(y_test, probabilities)\n",
    "\n",
    "# Calculate the AUC score\n",
    "auc_score = roc_auc_score(y_test, probabilities)\n",
    "print(\"AUC-ROC Score:\", auc_score)\n",
    "\n",
    "# Print the threshold values, TPR, and FPR\n",
    "print(\"\\nThresholds, TPR, and FPR:\")\n",
    "for i in range(0, len(thresholds), len(thresholds)//10):  # Print every 10th threshold for brevity\n",
    "    print(f\"Threshold: {thresholds[i]:.2f}, TPR: {tpr[i]:.2f}, FPR: {fpr[i]:.2f}\")\n",
    "\n",
    "# Plot the ROC curve with threshold markers\n",
    "plt.figure(figsize=(8, 6))\n",
    "plt.plot(fpr, tpr, label=f\"ROC Curve (AUC = {auc_score:.2f})\")\n",
    "plt.plot([0, 1], [0, 1], 'k--', label=\"Random Guess (AUC = 0.5)\")\n",
    "\n",
    "# Add threshold markers to the curve\n",
    "threshold_markers = np.linspace(0, len(thresholds) - 1, 10, dtype=int)  # Select 10 points along the curve\n",
    "for i in threshold_markers:\n",
    "    plt.plot(fpr[i], tpr[i], 'o', markersize=5)\n",
    "    plt.text(fpr[i], tpr[i], f\"{thresholds[i]:.2f}\", fontsize=9, ha='right')\n",
    "\n",
    "plt.xlabel(\"False Positive Rate (FPR)\")\n",
    "plt.ylabel(\"True Positive Rate (TPR)\")\n",
    "plt.title(\"ROC Curve for Loan Default Prediction\")\n",
    "plt.legend(loc=\"lower right\")\n",
    "plt.show()"
   ]
  }
 ],
 "metadata": {
  "colab": {
   "provenance": []
  },
  "kernelspec": {
   "display_name": "myenv",
   "language": "python",
   "name": "python3"
  },
  "language_info": {
   "codemirror_mode": {
    "name": "ipython",
    "version": 3
   },
   "file_extension": ".py",
   "mimetype": "text/x-python",
   "name": "python",
   "nbconvert_exporter": "python",
   "pygments_lexer": "ipython3",
   "version": "3.12.3"
  }
 },
 "nbformat": 4,
 "nbformat_minor": 0
}
