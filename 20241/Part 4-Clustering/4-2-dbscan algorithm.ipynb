{
 "cells": [
  {
   "cell_type": "markdown",
   "metadata": {},
   "source": [
    "<!-- ![Alt Text](https://raw.githubusercontent.com/msfasha/307304-Data-Mining/main/images/header.png) -->"
   ]
  },
  {
   "cell_type": "markdown",
   "metadata": {},
   "source": [
    "<div style=\"display: flex; justify-content: flex-start; align-items: center;\">\n",
    "    <a href=\"https://colab.research.google.com/github/msfasha/307304-Data-Mining/blob/main/Part%204-Clustering/4-2-dbscan%20algorithm.ipynb\" target=\"_blank\">\n",
    "        <img src=\"https://colab.research.google.com/assets/colab-badge.svg\" alt=\"Open In Colab\" style=\"height: 25px; margin-right: 20px;\">\n",
    "    </a>\n",
    "        <a href=\"https://www.youtube.com/watch?v=RDZUdRSDOok\" target=\"_blank\">\n",
    "        <img src=\"https://raw.githubusercontent.com/msfasha/307304-Data-Mining/main/images/youtube.png\" alt=\"KMeans Youtube Video\" style=\"height: 40px;\">\n",
    "    </a>\n",
    "</div>"
   ]
  },
  {
   "cell_type": "markdown",
   "metadata": {},
   "source": [
    "#### 1. **Introduction to DBSCAN**\n",
    "\n",
    "**DBSCAN (Density-Based Spatial Clustering of Applications with Noise)** is a density-based clustering algorithm used to identify clusters in datasets based on the density of data points. It is particularly useful for discovering clusters of arbitrary shape and handling noise (outliers).\n",
    "\n",
    "Unlike K-Means, DBSCAN does not require specifying the number of clusters in advance and can identify outliers as points that do not belong to any cluster."
   ]
  },
  {
   "cell_type": "markdown",
   "metadata": {},
   "source": [
    "<div style=\"text-align: center;\">\n",
    "    <img src=\"https://raw.githubusercontent.com/msfasha/307304-Data-Mining/main/images/dbscan-1.png\" alt=\"DBSCAN Algorithm\" width=\"600\"/>\n",
    "</div>"
   ]
  },
  {
   "cell_type": "markdown",
   "metadata": {},
   "source": [
    "---"
   ]
  },
  {
   "cell_type": "markdown",
   "metadata": {},
   "source": [
    "#### 2. **How DBSCAN Works**\n",
    "\n",
    "DBSCAN groups points that are closely packed together, marking as outliers points that lie alone in low-density regions. It works based on two key parameters:\n",
    "- **Epsilon ($ \\epsilon $)**: The maximum distance between two points for them to be considered as part of the same neighborhood.\n",
    "- **MinPoints**: The minimum number of points required to form a dense region (i.e., a cluster).\n",
    "\n",
    "Key concepts in DBSCAN:\n",
    "- **Core Point**: A point with at least MinPoints within a radius $ \\epsilon $.\n",
    "- **Border Point**: A point that has fewer than MinPoints within $ \\epsilon $, but is in the neighborhood of a core point.\n",
    "- **Noise Point (Outlier)**: A point that is neither a core nor a border point."
   ]
  },
  {
   "cell_type": "markdown",
   "metadata": {},
   "source": [
    "<div style=\"text-align: center;\">\n",
    "    <img src=\"https://raw.githubusercontent.com/msfasha/307304-Data-Mining/main/images/dbscan-2.png\" alt=\"DBSCAN Algorithm\" width=\"600\"/>\n",
    "</div>"
   ]
  },
  {
   "cell_type": "markdown",
   "metadata": {},
   "source": [
    "**DBSCAN Steps**:<br>\n",
    "i. For each point in the dataset, identify its neighborhood based on $ \\epsilon $ and MinPoints.<br>\n",
    "ii. If a point is a core point, form a cluster around it and recursively expand the cluster by including all density-reachable points.<br>\n",
    "iii. Continue until all points have been visited, and label remaining points that do not belong to any cluster as noise.<br>\n",
    "\n",
    "DBSCAN creates clusters by iteratively adding points that are density-reachable from core points."
   ]
  },
  {
   "cell_type": "markdown",
   "metadata": {},
   "source": [
    " <div style=\"display: flex; justify-content: flex-start; align-items: center;\">\n",
    "   DBSCAN in Action\n",
    "  <a href=\"https://www.youtube.com/watch?v=h53WMIImUuc\" target=\"_blank\">\n",
    "        <img src=\"https://raw.githubusercontent.com/msfasha/307304-Data-Mining/main/images/youtube.png\" alt=\"DBSCAN Youtube Video\" style=\"height: 40px;margin-left: 20px;\">\n",
    "    </a>\n",
    "</div>"
   ]
  },
  {
   "cell_type": "markdown",
   "metadata": {},
   "source": [
    "##### Here is a detailed example showing the calculations performed by the algorithm:"
   ]
  },
  {
   "cell_type": "markdown",
   "metadata": {},
   "source": [
    "**i. Compute the Distance for Each Point**"
   ]
  },
  {
   "cell_type": "markdown",
   "metadata": {},
   "source": [
    "- In this step, we compute the Euclidean distances between all points in the dataset, creating a **lower triangular distance matrix**.\n",
    "- Each cell in the matrix represents the distance between two points, while the diagonal is excluded since it represents the distance of a point to itself.\n",
    "This matrix forms the basis for identifying the neighbors of each point within the epsilon (ε = 1.9) radius. \n",
    "    "
   ]
  },
  {
   "cell_type": "markdown",
   "metadata": {},
   "source": [
    "| Points         | P1   | P2   | P3   | P4   | P5   | P6   | P7   | P8   | P9   | P10  | P11  | P12  |\n",
    "|----------------|-------|-------|-------|-------|-------|-------|-------|-------|-------|-------|-------|-------|\n",
    "| P1: (3,7)     |       |       |       |       |       |       |       |       |       |       |       |       |\n",
    "| P2: (4,6)     | 1.41  |       |       |       |       |       |       |       |       |       |       |       |\n",
    "| P3: (5,5)     | 2.83  | 1.41  |       |       |       |       |       |       |       |       |       |       |\n",
    "| P4: (6,4)     | 4.24  | 2.83  | 1.41  |       |       |       |       |       |       |       |       |       |\n",
    "| P5: (7,3)     | 5.66  | 4.24  | 2.83  | 1.41  |       |       |       |       |       |       |       |       |\n",
    "| P6: (6,2)     | 5.83  | 4.47  | 3.16  | 2.24  | 1.00  |       |       |       |       |       |       |       |\n",
    "| P7: (7,2)     | 6.40  | 5.00  | 3.61  | 2.24  | 1.00  | 1.00  |       |       |       |       |       |       |\n",
    "| P8: (8,4)     | 5.83  | 4.47  | 3.16  | 2.24  | 1.41  | 2.24  | 1.41  |       |       |       |       |       |\n",
    "| P9: (3,3)     | 5.00  | 4.24  | 3.16  | 3.16  | 4.12  | 3.00  | 3.16  | 4.47  |       |       |       |       |\n",
    "| P10: (2,6)    | 1.41  | 2.00  | 3.16  | 4.24  | 5.39  | 5.83  | 6.40  | 6.32  | 3.00  |       |       |       |\n",
    "| P11: (3,5)    | 2.00  | 1.41  | 2.00  | 3.16  | 4.24  | 4.47  | 5.00  | 4.47  | 2.24  | 1.00  |       |       |\n",
    "| P12: (2,4)    | 3.16  | 2.83  | 3.16  | 4.00  | 5.10  | 5.39  | 5.83  | 5.10  | 2.00  | 2.00  | 1.41  |   0   |\n",
    "\n",
    "\n",
    "\n"
   ]
  },
  {
   "cell_type": "markdown",
   "metadata": {},
   "source": [
    "**ii. Count the Number of Neighbors for Each Point**"
   ]
  },
  {
   "cell_type": "markdown",
   "metadata": {},
   "source": [
    "- After computing the distances for each point, we list the neighbors of each point within the ε = 1.9 radius and counting them. \n",
    "- This information will be used to classify points as following:\n",
    "    - a core point requires at least 4 neighbors\n",
    "    - a border point is connected to a core point but has fewer than 4 neighbors\n",
    "    - noise points which are the nodes that has not no neighbors\n",
    "- For example:\n",
    "    - P1 has neighbors P2 and P10, as seen in the the table below. \n",
    "    - P5 has 4 neighbors (P4, P6, P7, P8), while P8 has only 1 neighbor (P5) and P9 has no neighbors."
   ]
  },
  {
   "cell_type": "markdown",
   "metadata": {},
   "source": [
    "| Point        | Neighbors (ε=1.9)       | # Neighbors |\n",
    "|--------------|--------------------------|-------------|\n",
    "| P1: (3,7)    | P2, P10                 | 2           |\n",
    "| P2: (4,6)    | P1, P3, P10, P11        | 4           |\n",
    "| P3: (5,5)    | P2, P4                  | 2           |\n",
    "| P4: (6,4)    | P3, P5                  | 2           |\n",
    "| P5: (7,3)    | P4, P6, P7, P8          | 4           |\n",
    "| P6: (6,2)    | P5, P7                  | 2           |\n",
    "| P7: (7,2)    | P5, P6                  | 2           |\n",
    "| P8: (8,4)    | P5                      | 1           |\n",
    "| P9: (3,3)    | -                       | 0           |\n",
    "| P10: (2,6)   | P1, P2, P11             | 3           |\n",
    "| P11: (3,5)   | P2, P10, P12            | 3           |\n",
    "| P12: (2,4)   | P9, P11                 | 2           |"
   ]
  },
  {
   "cell_type": "markdown",
   "metadata": {},
   "source": [
    "**iii. Classify Points into Core, Border or Noise**"
   ]
  },
  {
   "cell_type": "markdown",
   "metadata": {},
   "source": [
    "In this step, we classify each point in the dataset as either **Core, Border, or Noise based on the number of neighbors within the epsilon (ε = 1.9) radius**:\n",
    "\n",
    "a. **Core Points**: Points that have at least 4 neighbors within the ε radius. For example:\n",
    "   - **P2** is a core point because it has 4 neighbors: P1, P3, P10, and P11.\n",
    "   - **P5** is a core point because it has 4 neighbors: P4, P6, P7, and P8.\n",
    "\n",
    "b. **Border Points**: Points that have fewer than 4 neighbors but are within the ε radius of at least one core point. For example:\n",
    "   - **P1** is a border point because it has only 2 neighbors (P2 and P10) but is connected to the core point P2.\n",
    "   - **P11** is a border point because it has 3 neighbors (P2, P10, and P12) and is connected to the core point P2.\n",
    "\n",
    "c. **Noise Points**: Points that have no neighbors within the ε radius and are not connected to any core point. For example:\n",
    "   - **P9** is classified as noise because it has no neighbors.\n",
    "\n",
    "This step ensures that each point is categorized appropriately, which is essential for defining the clusters in the DBSCAN algorithm. Core points form the dense regions of clusters, border points connect to these dense regions, and noise points are outliers."
   ]
  },
  {
   "cell_type": "markdown",
   "metadata": {},
   "source": [
    "| Point        | Neighbors (ε=1.9)       | Status  |\n",
    "|--------------|--------------------------|---------|\n",
    "| P1: (3,7)    | P2, P10                 | Border  |\n",
    "| P2: (4,6)    | P1, P3, P10, P11        | **Core**    |\n",
    "| P3: (5,5)    | P2, P4                  | Border  |\n",
    "| P4: (6,4)    | P3, P5                  | Border  |\n",
    "| P5: (7,3)    | P4, P6, P7, P8          | **Core**    |\n",
    "| P6: (6,2)    | P5, P7                  | Border  |\n",
    "| P7: (7,2)    | P5, P6                  | Border  |\n",
    "| P8: (8,4)    | P5                      | Border  |\n",
    "| P9: (3,3)    | -                       | Noise   |\n",
    "| P10: (2,6)   | P1, P2, P11             | Border  |\n",
    "| P11: (3,5)   | P2, P10, P12            | Border  |\n",
    "| P12: (2,4)   | P9, P11                 | Border  |\n"
   ]
  },
  {
   "cell_type": "markdown",
   "metadata": {},
   "source": [
    "As demonstrated by the table above, the DBSCAN algorithm identified **two clusters** and **one noise point** based on the parameters `ε = 1.9` and `minPts = 4`:\n",
    "\n",
    "- **Cluster 0**: Includes points P1, P2, P3, P10, P11, and P12. These points form a dense region in the upper-left area of the diagram.\n",
    "- **Cluster 1**: Includes points P4, P5, P6, P7, and P8. This cluster represents another dense region in the lower-right part of the diagram.\n",
    "- **Noise Point**: P9 is classified as noise because it does not have any neighbors within the ε radius and is not connected to any core point. It is treated as an outlier."
   ]
  },
  {
   "cell_type": "markdown",
   "metadata": {},
   "source": [
    "#### Visualize the Clusters using a Scatter Plot"
   ]
  },
  {
   "cell_type": "markdown",
   "metadata": {},
   "source": [
    "<div style=\"text-align: center;\">\n",
    "    <img src=\"https://raw.githubusercontent.com/msfasha/307304-Data-Mining/main/images/dbscan-clusters.png\" alt=\"DBSCAN Algorithm\" width=\"600\"/>\n",
    "</div>"
   ]
  },
  {
   "cell_type": "markdown",
   "metadata": {},
   "source": [
    "The scatter plot visually demonstrates the clustering results:\n",
    "\n",
    "- **Clusters**:\n",
    "  - Cluster 0 is represented by one color (e.g., red) and primarily occupies the upper-left region.\n",
    "  - Cluster 1 is represented by another color (e.g., orange) and spans the lower-right region.\n",
    "- **Noise Point**:\n",
    "  - P9 is marked in black, clearly showing that it is isolated and does not belong to any cluster."
   ]
  },
  {
   "cell_type": "markdown",
   "metadata": {},
   "source": [
    "---"
   ]
  },
  {
   "cell_type": "markdown",
   "metadata": {},
   "source": [
    "#### 3. **DBSCAN in Python**"
   ]
  },
  {
   "cell_type": "markdown",
   "metadata": {},
   "source": [
    "#### Python - Example 1"
   ]
  },
  {
   "cell_type": "code",
   "execution_count": 32,
   "metadata": {},
   "outputs": [
    {
     "data": {
      "text/html": [
       "<div>\n",
       "<style scoped>\n",
       "    .dataframe tbody tr th:only-of-type {\n",
       "        vertical-align: middle;\n",
       "    }\n",
       "\n",
       "    .dataframe tbody tr th {\n",
       "        vertical-align: top;\n",
       "    }\n",
       "\n",
       "    .dataframe thead th {\n",
       "        text-align: right;\n",
       "    }\n",
       "</style>\n",
       "<table border=\"1\" class=\"dataframe\">\n",
       "  <thead>\n",
       "    <tr style=\"text-align: right;\">\n",
       "      <th></th>\n",
       "      <th>X1</th>\n",
       "      <th>X2</th>\n",
       "      <th>Cluster</th>\n",
       "    </tr>\n",
       "  </thead>\n",
       "  <tbody>\n",
       "    <tr>\n",
       "      <th>0</th>\n",
       "      <td>3</td>\n",
       "      <td>7</td>\n",
       "      <td>0</td>\n",
       "    </tr>\n",
       "    <tr>\n",
       "      <th>1</th>\n",
       "      <td>4</td>\n",
       "      <td>6</td>\n",
       "      <td>0</td>\n",
       "    </tr>\n",
       "    <tr>\n",
       "      <th>2</th>\n",
       "      <td>5</td>\n",
       "      <td>5</td>\n",
       "      <td>0</td>\n",
       "    </tr>\n",
       "    <tr>\n",
       "      <th>3</th>\n",
       "      <td>6</td>\n",
       "      <td>4</td>\n",
       "      <td>1</td>\n",
       "    </tr>\n",
       "    <tr>\n",
       "      <th>4</th>\n",
       "      <td>7</td>\n",
       "      <td>3</td>\n",
       "      <td>1</td>\n",
       "    </tr>\n",
       "    <tr>\n",
       "      <th>5</th>\n",
       "      <td>6</td>\n",
       "      <td>2</td>\n",
       "      <td>1</td>\n",
       "    </tr>\n",
       "    <tr>\n",
       "      <th>6</th>\n",
       "      <td>7</td>\n",
       "      <td>2</td>\n",
       "      <td>1</td>\n",
       "    </tr>\n",
       "    <tr>\n",
       "      <th>7</th>\n",
       "      <td>8</td>\n",
       "      <td>4</td>\n",
       "      <td>1</td>\n",
       "    </tr>\n",
       "    <tr>\n",
       "      <th>8</th>\n",
       "      <td>3</td>\n",
       "      <td>3</td>\n",
       "      <td>-1</td>\n",
       "    </tr>\n",
       "    <tr>\n",
       "      <th>9</th>\n",
       "      <td>2</td>\n",
       "      <td>6</td>\n",
       "      <td>0</td>\n",
       "    </tr>\n",
       "    <tr>\n",
       "      <th>10</th>\n",
       "      <td>3</td>\n",
       "      <td>5</td>\n",
       "      <td>0</td>\n",
       "    </tr>\n",
       "    <tr>\n",
       "      <th>11</th>\n",
       "      <td>2</td>\n",
       "      <td>4</td>\n",
       "      <td>0</td>\n",
       "    </tr>\n",
       "  </tbody>\n",
       "</table>\n",
       "</div>"
      ],
      "text/plain": [
       "    X1  X2  Cluster\n",
       "0    3   7        0\n",
       "1    4   6        0\n",
       "2    5   5        0\n",
       "3    6   4        1\n",
       "4    7   3        1\n",
       "5    6   2        1\n",
       "6    7   2        1\n",
       "7    8   4        1\n",
       "8    3   3       -1\n",
       "9    2   6        0\n",
       "10   3   5        0\n",
       "11   2   4        0"
      ]
     },
     "execution_count": 32,
     "metadata": {},
     "output_type": "execute_result"
    }
   ],
   "source": [
    "import numpy as np\n",
    "import pandas as pd\n",
    "import matplotlib.pyplot as plt\n",
    "from sklearn.cluster import DBSCAN\n",
    "\n",
    "# Step 1: Define the dataset\n",
    "points = np.array([\n",
    "    [3, 7],  # P1\n",
    "    [4, 6],  # P2\n",
    "    [5, 5],  # P3\n",
    "    [6, 4],  # P4\n",
    "    [7, 3],  # P5\n",
    "    [6, 2],  # P6\n",
    "    [7, 2],  # P7\n",
    "    [8, 4],  # P8\n",
    "    [3, 3],  # P9\n",
    "    [2, 6],  # P10\n",
    "    [3, 5],  # P11\n",
    "    [2, 4],  # P12\n",
    "])\n",
    "\n",
    "# Step 2: Set DBSCAN parameters\n",
    "epsilon = 1.9\n",
    "min_pts = 4\n",
    "\n",
    "# Step 3: Apply DBSCAN\n",
    "dbscan = DBSCAN(eps=epsilon, min_samples=min_pts)\n",
    "labels = dbscan.fit_predict(points)\n",
    "\n",
    "# Create a DataFrame to hold the points and their cluster labels\n",
    "df = pd.DataFrame(points, columns=['X1', 'X2'])\n",
    "df['Cluster'] = labels  # Add cluster labels to the DataFrame\n",
    "df"
   ]
  },
  {
   "cell_type": "markdown",
   "metadata": {},
   "source": [
    "##### Plot the Clusters"
   ]
  },
  {
   "cell_type": "code",
   "execution_count": 33,
   "metadata": {},
   "outputs": [
    {
     "data": {
      "image/png": "[encoded data removed]",
      "text/plain": [
       "<Figure size 800x600 with 1 Axes>"
      ]
     },
     "metadata": {},
     "output_type": "display_data"
    }
   ],
   "source": [
    "# Plot the clusters\n",
    "plt.figure(figsize=(8, 6))\n",
    "plt.scatter(df['X1'], df['X2'], c=df['Cluster'], cmap='rainbow', marker='o', s=100)\n",
    "plt.title(f'DBSCAN Clustering (ε={epsilon}, minPts={min_pts})')\n",
    "plt.xlabel('X-axis')\n",
    "plt.ylabel('Y-axis')\n",
    "\n",
    "# Annotate points\n",
    "for i, (x, y) in enumerate(zip(df['X1'], df['X2'])):\n",
    "    plt.text(x, y, f'P{i+1}', fontsize=10, ha='right')\n",
    "\n",
    "plt.grid(True)\n",
    "plt.show()\n"
   ]
  },
  {
   "cell_type": "markdown",
   "metadata": {},
   "source": [
    "##### Explanation of the Code:\n",
    "1. **Dataset Creation**: The `points` array defines the dataset with coordinates for each point (e.g., P1 = (3,7), P2 = (4,6)).\n",
    "2. **DBSCAN Implementation**:\n",
    "   - The `DBSCAN` class from `sklearn.cluster` is used with `eps=1.9` (ε) and `min_samples=4` (minPts).\n",
    "   - The `fit_predict()` method clusters the data and assigns labels to each point.\n",
    "3. **Printing Results**:\n",
    "   - Each point's cluster label is printed, with noise points labeled as `Noise`.\n",
    "4. **Visualization**:\n",
    "   - The scatter plot shows the clusters with distinct colors and noise points in black. Annotations (P1, P2, etc.) make it easy to identify each point."
   ]
  },
  {
   "cell_type": "markdown",
   "metadata": {},
   "source": [
    "---"
   ]
  },
  {
   "cell_type": "markdown",
   "metadata": {},
   "source": [
    "#### 4. **Advantages and Disadvantages of DBSCAN**\n",
    "\n",
    "**Advantages**:\n",
    "- Does not require specifying the number of clusters in advance.\n",
    "- Can find arbitrarily shaped clusters.\n",
    "- Identifies outliers as noise points.\n",
    "  \n",
    "**Disadvantages**:\n",
    "- Performance depends on choosing appropriate values for $ \\epsilon $ and MinPoints.\n",
    "- Struggles with varying densities of clusters.\n",
    "- High-dimensional data can make it difficult to choose $ \\epsilon $."
   ]
  }
 ],
 "metadata": {
  "kernelspec": {
   "display_name": "myenv",
   "language": "python",
   "name": "python3"
  },
  "language_info": {
   "codemirror_mode": {
    "name": "ipython",
    "version": 3
   },
   "file_extension": ".py",
   "mimetype": "text/x-python",
   "name": "python",
   "nbconvert_exporter": "python",
   "pygments_lexer": "ipython3",
   "version": "3.9.0"
  }
 },
 "nbformat": 4,
 "nbformat_minor": 2
}
