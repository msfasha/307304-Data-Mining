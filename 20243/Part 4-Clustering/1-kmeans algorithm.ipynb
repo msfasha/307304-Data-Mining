{
  "cells": [
    {
      "cell_type": "markdown",
      "metadata": {
        "id": "4kVHQUDfWoga"
      },
      "source": [
        "<!-- <!-- ![Alt Text](https://raw.githubusercontent.com/msfasha/307304-Data-Mining/main/images/header.png) -->"
      ]
    },
    {
      "cell_type": "markdown",
      "metadata": {
        "id": "UKSCgTj-Wogb"
      },
      "source": [
        "<div style=\"display: flex; justify-content: flex-start; align-items: center;\">\n",
        "    <a href=\"https://colab.research.google.com/github/msfasha/307304-Data-Mining/blob/main/20243/Part%204-Clustering/1-kmeans%20algorithm.ipynb\" target=\"_blank\">    \n",
        "        <img src=\"https://colab.research.google.com/assets/colab-badge.svg\" alt=\"Open In Colab\" style=\"height: 25px; margin-right: 20px;\">\n",
        "    </a>\n",
        "    <a href=\"https://www.youtube.com/watch?v=XyBhEz0WzPo\" target=\"_blank\">\n",
        "        <img src=\"https://raw.githubusercontent.com/msfasha/307304-Data-Mining/main/images/youtube.png\" alt=\"KMeans Youtube Video\" style=\"height: 40px;\">\n",
        "    </a>\n",
        "</div>"
      ]
    },
    {
      "cell_type": "markdown",
      "metadata": {
        "id": "48HEqDVlVR4I"
      },
      "source": [
        "### Introduction to Clustering\n",
        "\n",
        "**Clustering** is an *unsupervised machine learning* technique used to group similar data points together based on their features. Unlike classification, clustering doesn’t rely on predefined labels—instead, it discovers inherent patterns or groupings in the data.\n",
        "\n",
        "Each group formed is called a **cluster**, and the aim is to ensure that:\n",
        "\n",
        "* Data points **within** the same cluster are more similar to each other.\n",
        "* Data points **between** clusters are as different as possible.\n",
        "\n",
        "#### Common Clustering Algorithms\n",
        "\n",
        "* **K-Means**\n",
        "* **Hierarchical Clustering**\n",
        "* **DBSCAN**\n",
        "* **Gaussian Mixture Models (GMM)**\n",
        "\n",
        "### Uses of Clustering in Business\n",
        "\n",
        "Clustering is widely used in various business domains to segment data for strategic decision-making. Here are some key use cases:\n",
        "\n",
        "#### 1. **Customer Segmentation**\n",
        "\n",
        "**Goal:** Group customers based on behavior to target marketing more effectively.\n",
        "**Example Dataset:** E-commerce data with features like purchase frequency, total spend, product categories, etc.\n",
        "\n",
        "> A retail company might use K-Means clustering to segment customers into:\n",
        ">\n",
        "> * High-spenders\n",
        "> * Occasional buyers\n",
        "> * Deal seekers\n",
        "\n",
        "These segments help in tailoring promotions and offers.\n",
        "\n",
        "#### 2. **Market Basket Analysis**\n",
        "\n",
        "**Goal:** Identify patterns in buying behavior.\n",
        "**Example Dataset:** Transaction logs with items bought per customer.\n",
        "\n",
        "> Clustering can group similar purchase patterns, such as customers who frequently buy electronics and accessories together, aiding in **product bundling** strategies.\n",
        "\n",
        "#### 3. **Anomaly Detection**\n",
        "\n",
        "**Goal:** Detect unusual behavior, such as fraud or outlier transactions.\n",
        "**Example Dataset:** Banking transaction data including amount, time, location, and device used.\n",
        "\n",
        "> If most customer behaviors fall into well-defined clusters, outliers can be flagged for investigation.\n",
        "\n",
        "#### 4. **Document or Content Categorization**\n",
        "\n",
        "**Goal:** Automatically organize documents or articles by topic.\n",
        "**Example Dataset:** News articles or customer support tickets with text features.\n",
        "\n",
        "> Companies can cluster customer support requests to identify common complaints or feedback themes.\n",
        "\n",
        "#### 5. **Location-Based Market Analysis**\n",
        "\n",
        "**Goal:** Analyze store performance or customer distribution.\n",
        "**Example Dataset:** Geolocation data of customers or stores.\n",
        "\n",
        "> A supermarket chain might use clustering to group stores by region and performance metrics for regional marketing strategies."
      ]
    },
    {
      "cell_type": "markdown",
      "metadata": {
        "id": "gG3stg0YVR4I"
      },
      "source": [
        "[More Examples](https://github.com/msfasha/307304-Data-Mining/blob/main/20242/Part%203-Clustering/Business%20Examples.md)\n"
      ]
    },
    {
      "cell_type": "markdown",
      "metadata": {
        "id": "3wEJUG9BVR4I"
      },
      "source": [
        "---"
      ]
    },
    {
      "cell_type": "markdown",
      "metadata": {
        "id": "iNMP3GYgWogb"
      },
      "source": [
        "### 1. **Introduction to K-Means Clustering**\n",
        "\n",
        "**K-Means Clustering** is an unsupervised learning algorithm used to group similar data points into a predefined number of clusters, $ K $. The objective is to partition the dataset into $ K $ clusters, where each data point belongs to the cluster with the nearest mean, minimizing the variance within each cluster.\n"
      ]
    },
    {
      "cell_type": "markdown",
      "metadata": {
        "id": "j6O-ufTCWogc"
      },
      "source": [
        "### 2. **How K-Means Works**\n",
        "\n",
        "The K-Means algorithm works iteratively to partition a dataset into $ K $ clusters."
      ]
    },
    {
      "cell_type": "markdown",
      "metadata": {
        "id": "LarP_mOjWogc"
      },
      "source": [
        "<div style=\"text-align: center;\">\n",
        "    <img src=\"https://raw.githubusercontent.com/msfasha/307304-Data-Mining/main/images/kmeans-1.png\" alt=\"KMeans Algorithm\" width=\"600\"/>\n",
        "</div>"
      ]
    },
    {
      "cell_type": "markdown",
      "metadata": {
        "id": "5WOjZUxAWogd"
      },
      "source": [
        "Here's how the algorithm proceeds:\n",
        "\n",
        "- **Step 1**: Define the number K to decide the number of clusters.\n",
        "- **Step 2**: Initialize $ K $ centroids **randomly**.\n",
        "- **Step 3**: Assign each data point to the nearest centroid, forming $ K $ clusters.\n",
        "- **Step 4**: Recalculate the centroids as the mean of all data points assigned to each cluster.\n",
        "- **Step 5**: Repeat steps 2 and 3 until the centroids no longer change, or the algorithm converges."
      ]
    },
    {
      "cell_type": "markdown",
      "metadata": {
        "id": "rlqF0PX0Wogd"
      },
      "source": [
        "<div style=\"text-align: center;\">\n",
        "    <img src=\"https://raw.githubusercontent.com/msfasha/307304-Data-Mining/main/images/kmeans-2.png\" alt=\"KMeans Algorithm\" width=\"1200\"/>\n",
        "</div>"
      ]
    },
    {
      "cell_type": "markdown",
      "metadata": {
        "id": "rwjqvhlqWoge"
      },
      "source": [
        "<div style=\"text-align: center;\">\n",
        "    <img src=\"https://raw.githubusercontent.com/msfasha/307304-Data-Mining/main/images/kmeans-1.png\" alt=\"KMeans Algorithm\" width=\"600\"/>\n",
        "</div>"
      ]
    },
    {
      "cell_type": "markdown",
      "metadata": {
        "id": "faNKRUreWoge"
      },
      "source": [
        "---"
      ]
    },
    {
      "cell_type": "markdown",
      "metadata": {
        "id": "LeJ0VrFOWoge"
      },
      "source": [
        "<div style=\"text-align: center;\">\n",
        "    <img src=\"https://raw.githubusercontent.com/msfasha/307304-Data-Mining/main/images/kmeans-2.png\" alt=\"KMeans Algorithm\" width=\"1200\"/>\n",
        "</div>"
      ]
    },
    {
      "cell_type": "markdown",
      "metadata": {
        "id": "ufdW_nU3Wogf"
      },
      "source": [
        "### 4. **Common Distance measures**"
      ]
    },
    {
      "cell_type": "markdown",
      "metadata": {
        "id": "szkCZDiHWogf"
      },
      "source": [
        "<div style=\"text-align: center;\">\n",
        "    <img src=\"https://raw.githubusercontent.com/msfasha/307304-Data-Mining/main/images/distance_measures.png\" alt=\"Distance Measures\" width=\"1000\"/>\n",
        "</div>"
      ]
    },
    {
      "cell_type": "markdown",
      "metadata": {
        "id": "TCuqb6CyWogf"
      },
      "source": [
        "#### 4.1. Euclidean Distance\n",
        "- Definition: The straight-line distance between two points in Euclidean space.\n",
        "- Formula:  \n",
        "  $$\n",
        "  \\text{Euclidean Distance} = \\sqrt{\\sum_{i=1}^{n} (x_i - y_i)^2}\n",
        "  $$\n",
        "- Use Case: Commonly used in clustering (e.g., K-means) and nearest neighbor algorithms.\n",
        "\n",
        "#### 4.2. Cosine Similarity/Distance\n",
        "- Definition: Measures the cosine of the angle between two vectors. It evaluates orientation rather than magnitude.\n",
        "- Formula:  \n",
        "  $$\n",
        "  \\cos(\\theta) = \\frac{\\mathbf{A} \\cdot \\mathbf{B}}{\\|\\mathbf{A}\\| \\|\\mathbf{B}\\|}\n",
        "  $$\n",
        "- Use Case: Used in text similarity and high-dimensional spaces (e.g., document similarity).\n",
        "\n",
        "#### 4.3. Hamming Distance\n",
        "- Definition: Counts the number of positions at which corresponding symbols differ between two strings of equal length.\n",
        "- Formula:  \n",
        "  Count mismatches between \\(A\\) and \\(B\\).\n",
        "- Use Case: Applied in binary and categorical data, like error detection in coding.\n",
        "\n",
        "#### 4.4. Manhattan Distance\n",
        "- Definition: The sum of absolute differences between the coordinates of two points.\n",
        "- Formula:  \n",
        "  $$\n",
        "  \\text{Manhattan Distance} = \\sum_{i=1}^{n} |x_i - y_i|\n",
        "  $$\n",
        "- Use Case: Used when movement is restricted to horizontal and vertical paths (e.g., grid-based games or city blocks).\n",
        "\n",
        "#### 4.5. Minkowski Distance\n",
        "- Definition: Generalized distance metric, including Euclidean (\\(p=2\\)) and Manhattan (\\(p=1\\)) distances as special cases.\n",
        "- Formula:  \n",
        "  $$\n",
        "  \\text{Minkowski Distance} = \\left( \\sum_{i=1}^{n} |x_i - y_i|^p \\right)^{1/p}\n",
        "  $$\n",
        "- Use Case: Offers flexibility to adjust distance metrics based on parameter \\(p\\).\n",
        "\n",
        "#### 4.6. Chebyshev Distance\n",
        "- Definition: The maximum absolute difference between two coordinates.\n",
        "- Formula:  \n",
        "  $$\n",
        "  \\text{Chebyshev Distance} = \\max_i(|x_i - y_i|)\n",
        "  $$\n",
        "- Use Case: Used in chess for king's moves and grid-based pathfinding.\n",
        "\n",
        "#### 4.7. Jaccard Index/Distance\n",
        "- Definition: Measures similarity or dissimilarity between two sets.\n",
        "- Formula:  \n",
        "  $$\n",
        "  \\text{Jaccard Index} = \\frac{|A \\cap B|}{|A \\cup B|}\n",
        "  $$  \n",
        "  $$\n",
        "  \\text{Jaccard Distance} = 1 - \\text{Jaccard Index}\n",
        "  $$\n",
        "- Use Case: Applied in text analysis, image segmentation, and set comparison.\n",
        "\n",
        "#### 4.8. Haversine Distance\n",
        "- Definition: Calculates the shortest distance between two points on a sphere, considering curvature (e.g., Earth).\n",
        "- Formula:  \n",
        "  $$\n",
        "  d = 2r \\arcsin \\sqrt{\\sin^2\\left(\\frac{\\Delta \\phi}{2}\\right) + \\cos \\phi_1 \\cos \\phi_2 \\sin^2\\left(\\frac{\\Delta \\lambda}{2}\\right)}\n",
        "  $$\n",
        "- Use Case: Used in geographic applications like GPS.\n",
        "\n",
        "#### 4.9. Sørensen-Dice Coefficient\n",
        "- Definition: Measures the similarity between two sets.\n",
        "- Formula:  \n",
        "  $$\n",
        "  \\text{Sørensen-Dice Coefficient} = \\frac{2|A \\cap B|}{|A| + |B|}\n",
        "  $$\n",
        "- Use Case: Common in biology and text analysis."
      ]
    },
    {
      "cell_type": "markdown",
      "metadata": {
        "id": "gnXIkjC3Wogg"
      },
      "source": [
        "### 5. **K-Means Clustering Step by Step Example**\n",
        "\n",
        "#### **Step 1: Euclidean Distance Formula**\n",
        "The Euclidean distance measures the straight-line distance between two points in a 2D space. The formula is:\n",
        "\n",
        "$$\n",
        "d = \\sqrt{(x_2 - x_1)^2 + (y_2 - y_1)^2}\n",
        "$$\n",
        "\n",
        "We will use this formula to compute the distance between each point and the centroids.\n",
        "\n",
        "#### **Problem Setup**\n",
        "- **Data Points**: $(x, y)$\n",
        "    - A1: (2, 10)\n",
        "    - A2: (2, 5)\n",
        "    - A3: (8, 4)\n",
        "    - A4: (5, 8)\n",
        "    - A5: (7, 5)\n",
        "    - A6: (6, 4)\n",
        "    - A7: (1, 2)\n",
        "    - A8: (4, 9)\n",
        "\n",
        "- **Initial Centroids**:\n",
        "    - Mean 1: (2, 10)\n",
        "    - Mean 2: (5, 8)\n",
        "    - Mean 3: (1, 2)"
      ]
    },
    {
      "cell_type": "markdown",
      "metadata": {
        "id": "fIwzgIz9Wogg"
      },
      "source": [
        "\n",
        "We will calculate the distances between each point and the centroids and assign each point to the closest cluster.\n",
        "\n",
        "#### **Iteration 1**\n",
        "##### **Steps:**\n",
        "1. **Compute Distances**: Use the Euclidean distance formula to calculate the distance from each point to all centroids.\n",
        "2. **Assign Clusters**: Each point is assigned to the cluster of the nearest centroid.\n",
        "\n",
        "##### **Results:**\n",
        "- Distances and cluster assignments are shown in the table below.\n"
      ]
    },
    {
      "cell_type": "markdown",
      "metadata": {
        "id": "fHlt4sl2Wogg"
      },
      "source": [
        "| Point | Coordinates | Dist Mean 1 (√((2−x)² + (10−y)²)) | Dist Mean 2 (√((5−x)² + (8−y)²)) | Dist Mean 3 (√((1−x)² + (2−y)²)) | Cluster |\n",
        "|-------|-------------|------------------------------------|------------------------------------|------------------------------------|---------|\n",
        "| A1    | (2, 10)     | √((2−2)² + (10−10)²) = 0.00       | √((5−2)² + (8−10)²) = 3.61        | √((1−2)² + (2−10)²) = 8.25        | 1       |\n",
        "| A2    | (2, 5)      | √((2−2)² + (10−5)²) = 5.00        | √((5−2)² + (8−5)²) = 3.61         | √((1−2)² + (2−5)²) = 3.16         | 3       |\n",
        "| A3    | (8, 4)      | √((2−8)² + (10−4)²) = 9.43        | √((5−8)² + (8−4)²) = 5.00         | √((1−8)² + (2−4)²) = 7.28         | 2       |\n",
        "| A4    | (5, 8)      | √((2−5)² + (10−8)²) = 3.61        | √((5−5)² + (8−8)²) = 0.00         | √((1−5)² + (2−8)²) = 6.71         | 2       |\n",
        "| A5    | (7, 5)      | √((2−7)² + (10−5)²) = 8.06        | √((5−7)² + (8−5)²) = 3.61         | √((1−7)² + (2−5)²) = 6.08         | 2       |\n",
        "| A6    | (6, 4)      | √((2−6)² + (10−4)²) = 8.94        | √((5−6)² + (8−4)²) = 4.47         | √((1−6)² + (2−4)²) = 5.39         | 2       |\n",
        "| A7    | (1, 2)      | √((2−1)² + (10−2)²) = 8.00        | √((5−1)² + (8−2)²) = 7.62         | √((1−1)² + (2−2)²) = 1.00         | 3       |\n",
        "| A8    | (4, 9)      | √((2−4)² + (10−9)²) = 2.24        | √((5−4)² + (8−9)²) = 1.41         | √((1−4)² + (2−9)²) = 7.07         | 2       |"
      ]
    },
    {
      "cell_type": "markdown",
      "metadata": {
        "id": "xdol5gHmWogh"
      },
      "source": [
        "#### **Iteration 2**\n",
        "##### **Steps:**\n",
        "1. **Recalculate Centroids**: For each cluster, compute the new centroid as the mean of all points in that cluster.<br>\n",
        "For each cluster, the new centroid is calculated as the mean of the \\(x\\)- and \\(y\\)-coordinates of all points in the cluster:\n",
        "\n",
        "$\n",
        "\\text{Centroid}_i = \\left( \\frac{\\sum x_{\\text{cluster}}}{\\text{n}}, \\frac{\\sum y_{\\text{cluster}}}{\\text{n}} \\right)\n",
        "$\n",
        "\n",
        "- **New Centroids**: $(2.0, 10.0)$, $(6.0, 6.0)$, $(1.5, 3.5)$\n",
        "\n",
        "2. **Reassign Clusters**: Recompute distances to the updated centroids and assign points to the nearest cluster."
      ]
    },
    {
      "cell_type": "markdown",
      "metadata": {
        "id": "ucjVHcL5Wogh"
      },
      "source": [
        "| Point | Coordinates | Dist Mean 1 (√((x1−x)² + (y1−y)²)) | Dist Mean 2 (√((x2−x)² + (y2−y)²)) | Dist Mean 3 (√((x3−x)² + (y3−y)²)) | Cluster |\n",
        "|-------|-------------|------------------------------------|------------------------------------|------------------------------------|---------|\n",
        "| A1    | (2, 10)     | √((2−2)² + (10−10)²) = 0.00       | √((6−2)² + (6−10)²) = 5.39        | √((1.5−2)² + (3.5−10)²) = 8.83     | 1       |\n",
        "| A2    | (2, 5)      | √((2−2)² + (10−5)²) = 5.00        | √((6−2)² + (6−5)²) = 4.47         | √((1.5−2)² + (3.5−5)²) = 2.50      | 3       |\n",
        "| A3    | (8, 4)      | √((2−8)² + (10−4)²) = 9.22        | √((6−8)² + (6−4)²) = 3.61         | √((1.5−8)² + (3.5−4)²) = 6.86      | 2       |\n",
        "| A4    | (5, 8)      | √((2−5)² + (10−8)²) = 3.61        | √((6−5)² + (6−8)²) = 2.24         | √((1.5−5)² + (3.5−8)²) = 6.92      | 2       |\n",
        "| A5    | (7, 5)      | √((2−7)² + (10−5)²) = 8.06        | √((6−7)² + (6−5)²) = 2.24         | √((1.5−7)² + (3.5−5)²) = 5.92      | 2       |\n",
        "| A6    | (6, 4)      | √((2−6)² + (10−4)²) = 8.94        | √((6−6)² + (6−4)²) = 2.83         | √((1.5−6)² + (3.5−4)²) = 5.22      | 2       |\n",
        "| A7    | (1, 2)      | √((2−1)² + (10−2)²) = 8.06        | √((6−1)² + (6−2)²) = 7.21         | √((1.5−1)² + (3.5−2)²) = 1.80      | 3       |\n",
        "| A8    | (4, 9)      | √((2−4)² + (10−9)²) = 2.24        | √((6−4)² + (6−9)²) = 3.61         | √((1.5−4)² + (3.5−9)²) = 6.80      | 1       |"
      ]
    },
    {
      "cell_type": "markdown",
      "metadata": {
        "id": "L_IkeZVEWogh"
      },
      "source": [
        "#### **Comments:**\n",
        "- Notice how centroids shift toward the center of their clusters.\n",
        "- Some points might change clusters as centroids update."
      ]
    },
    {
      "cell_type": "markdown",
      "metadata": {
        "id": "Z2LMBH6OWogi"
      },
      "source": [
        "#### **Iteration 3**\n",
        "##### **Steps:**\n",
        "1. **Recompute Centroids**: Repeat the process of recalculating centroids.\n",
        "- **New Centroids**: $(3.0, 9.5)$, $(6.5, 5.25)$, $(1.5, 3.5)$\n",
        "2. **Reassign Clusters**: Update cluster assignments based on new centroids.\n"
      ]
    },
    {
      "cell_type": "markdown",
      "metadata": {
        "id": "4KqevJ98Wogi"
      },
      "source": [
        "| Point | Coordinates | Dist Mean 1 | Dist Mean 2 | Dist Mean 3 | Cluster |\n",
        "|-------|-------------|-------------|-------------|-------------|---------|\n",
        "| A1    | (2, 10)     | 1.12        | 5.94        | 8.83        | 1       |\n",
        "| A2    | (2, 5)      | 4.53        | 4.18        | 2.50        | 3       |\n",
        "| A3    | (8, 4)      | 8.86        | 3.00        | 6.86        | 2       |\n",
        "| A4    | (5, 8)      | 2.55        | 2.28        | 6.92        | 2       |\n",
        "| A5    | (7, 5)      | 7.90        | 2.05        | 5.92        | 2       |\n",
        "| A6    | (6, 4)      | 8.55        | 2.65        | 5.22        | 2       |\n",
        "| A7    | (1, 2)      | 7.55        | 7.07        | 1.80        | 3       |\n",
        "| A8    | (4, 9)      | 1.80        | 3.74        | 6.80        | 1       |\n"
      ]
    },
    {
      "cell_type": "markdown",
      "metadata": {
        "id": "JsUuyYmwWogi"
      },
      "source": [
        "#### **Comments:**\n",
        "- Observe how centroids continue to adjust.\n",
        "- Points begin to stabilize in their respective clusters."
      ]
    },
    {
      "cell_type": "markdown",
      "metadata": {
        "id": "xan3XC6rWogi"
      },
      "source": [
        "#### **Iteration 4**\n",
        "##### **Steps:**\n",
        "1. **Recalculate Centroids**: Adjust centroids as the mean of their cluster points.\n",
        "2. **Check for Convergence**: If centroids do not change, the algorithm stops.\n",
        "\n",
        "##### **Results:**\n",
        "- Distances and final cluster assignments are shown in the table below.\n",
        "- **Final Centroids**: $(3.67, 9.0)$, $(7.0, 4.33)$, $(1.5, 3.5)$"
      ]
    },
    {
      "cell_type": "markdown",
      "metadata": {
        "id": "smoFNtPRWogi"
      },
      "source": [
        "| Point | Coordinates | Dist Mean 1 | Dist Mean 2 | Dist Mean 3 | Cluster |\n",
        "|-------|-------------|-------------|-------------|-------------|---------|\n",
        "| A1    | (2, 10)     | 1.60        | 6.12        | 8.83        | 1       |\n",
        "| A2    | (2, 5)      | 4.12        | 4.01        | 2.50        | 3       |\n",
        "| A3    | (8, 4)      | 8.64        | 2.62        | 6.86        | 2       |\n",
        "| A4    | (5, 8)      | 2.36        | 2.03        | 6.92        | 2       |\n",
        "| A5    | (7, 5)      | 7.68        | 1.75        | 5.92        | 2       |\n",
        "| A6    | (6, 4)      | 8.28        | 2.35        | 5.22        | 2       |\n",
        "| A7    | (1, 2)      | 7.23        | 7.07        | 1.80        | 3       |\n",
        "| A8    | (4, 9)      | 1.41        | 3.77        | 6.80        | 1       |"
      ]
    },
    {
      "cell_type": "markdown",
      "metadata": {
        "id": "Di-hM4oGWogi"
      },
      "source": [
        "#### **Comments:**\n",
        "- The algorithm converges as centroids stabilize and no further changes occur."
      ]
    },
    {
      "cell_type": "markdown",
      "metadata": {
        "id": "EnIeSbW3Wogj"
      },
      "source": [
        "#### **Final Results**\n",
        "- Each point has been assigned to its nearest cluster.\n",
        "- The process has converged after 4 iterations.\n",
        "\n",
        "\n",
        "#### **Key Observations**\n",
        "1. **Centroid Movement**: Centroids progressively adjust to the cluster's center during each iteration.\n",
        "2. **Convergence**: K-Means stops when the centroids no longer move.\n",
        "\n",
        "---"
      ]
    },
    {
      "cell_type": "markdown",
      "metadata": {
        "id": "zzD4yQSMWogj"
      },
      "source": [
        "### 6. **Python Code Example**\n",
        "\n",
        "Here's how to implement K-Means clustering in Python using `scikit-learn` and Mall Customers Information<br>\n",
        "We will use a using [Mall Customers Dataset](https://www.kaggle.com/datasets/vjchoudhary7/customer-segmentation-tutorial-in-python) to demonstrate kmeans clustering using scikit Learn Library.<br>"
      ]
    },
    {
      "cell_type": "markdown",
      "metadata": {
        "id": "3BlgGbYfWogj"
      },
      "source": [
        "| Index | CustomerID | Genre   | Age | Annual Income (k$) | Spending Score (1-100) |\n",
        "|-------|------------|---------|-----|---------------------|------------------------|\n",
        "| 0     | 1          | Male    | 19  | 15                  | 39                     |\n",
        "| 1     | 2          | Male    | 21  | 15                  | 81                     |\n",
        "| 2     | 3          | Female  | 20  | 16                  | 6                      |\n",
        "| 3     | 4          | Female  | 23  | 16                  | 77                     |\n",
        "| 4     | 5          | Female  | 31  | 17                  | 40                     |\n",
        "| 5     | 6          | Female  | 22  | 17                  | 76                     |\n",
        "| 6     | 7          | Female  | 35  | 18                  | 6                      |\n",
        "| 7     | 8          | Female  | 23  | 18                  | 94                     |\n",
        "| 8     | 9          | Male    | 64  | 19                  | 3                      |\n",
        "| 9     | 10         | Female  | 30  | 19                  | 72                     |\n",
        "| 10    | 11         | Male    | 67  | 19                  | 14                     |\n",
        "| 11    | 12         | Female  | 35  | 20                  | 99                     |\n",
        "| 12    | 13         | Male    | 58  | 20                  | 15                     |\n",
        "| 13    | 14         | Female  | 24  | 20                  | 77                     |\n",
        "| 14    | 15         | Male    | 22  | 20                  | 79                     |"
      ]
    },
    {
      "cell_type": "markdown",
      "metadata": {
        "id": "ZFBFyL_wWogj"
      },
      "source": [
        "#### Import Libraries and Dataset"
      ]
    },
    {
      "cell_type": "code",
      "execution_count": null,
      "metadata": {
        "colab": {
          "base_uri": "https://localhost:8080/",
          "height": 424
        },
        "id": "L9jfq0EtWogj",
        "outputId": "c1b6f072-1727-4db7-aaf4-50cd6ed7114e"
      },
      "outputs": [
        {
          "data": {
            "application/vnd.microsoft.datawrangler.viewer.v0+json": {
              "columns": [
                {
                  "name": "index",
                  "rawType": "int64",
                  "type": "integer"
                },
                {
                  "name": "CustomerID",
                  "rawType": "int64",
                  "type": "integer"
                },
                {
                  "name": "Gender",
                  "rawType": "object",
                  "type": "string"
                },
                {
                  "name": "Age",
                  "rawType": "int64",
                  "type": "integer"
                },
                {
                  "name": "Annual Income (k$)",
                  "rawType": "int64",
                  "type": "integer"
                },
                {
                  "name": "Spending Score (1-100)",
                  "rawType": "int64",
                  "type": "integer"
                }
              ],
              "conversionMethod": "pd.DataFrame",
              "ref": "3ede8e0f-922e-4b43-9944-18cec43e5662",
              "rows": [
                [
                  "0",
                  "1",
                  "Male",
                  "19",
                  "15",
                  "39"
                ],
                [
                  "1",
                  "2",
                  "Male",
                  "21",
                  "15",
                  "81"
                ],
                [
                  "2",
                  "3",
                  "Female",
                  "20",
                  "16",
                  "6"
                ],
                [
                  "3",
                  "4",
                  "Female",
                  "23",
                  "16",
                  "77"
                ],
                [
                  "4",
                  "5",
                  "Female",
                  "31",
                  "17",
                  "40"
                ],
                [
                  "5",
                  "6",
                  "Female",
                  "22",
                  "17",
                  "76"
                ],
                [
                  "6",
                  "7",
                  "Female",
                  "35",
                  "18",
                  "6"
                ],
                [
                  "7",
                  "8",
                  "Female",
                  "23",
                  "18",
                  "94"
                ],
                [
                  "8",
                  "9",
                  "Male",
                  "64",
                  "19",
                  "3"
                ],
                [
                  "9",
                  "10",
                  "Female",
                  "30",
                  "19",
                  "72"
                ],
                [
                  "10",
                  "11",
                  "Male",
                  "67",
                  "19",
                  "14"
                ],
                [
                  "11",
                  "12",
                  "Female",
                  "35",
                  "19",
                  "99"
                ],
                [
                  "12",
                  "13",
                  "Female",
                  "58",
                  "20",
                  "15"
                ],
                [
                  "13",
                  "14",
                  "Female",
                  "24",
                  "20",
                  "77"
                ],
                [
                  "14",
                  "15",
                  "Male",
                  "37",
                  "20",
                  "13"
                ],
                [
                  "15",
                  "16",
                  "Male",
                  "22",
                  "20",
                  "79"
                ],
                [
                  "16",
                  "17",
                  "Female",
                  "35",
                  "21",
                  "35"
                ],
                [
                  "17",
                  "18",
                  "Male",
                  "20",
                  "21",
                  "66"
                ],
                [
                  "18",
                  "19",
                  "Male",
                  "52",
                  "23",
                  "29"
                ],
                [
                  "19",
                  "20",
                  "Female",
                  "35",
                  "23",
                  "98"
                ],
                [
                  "20",
                  "21",
                  "Male",
                  "35",
                  "24",
                  "35"
                ],
                [
                  "21",
                  "22",
                  "Male",
                  "25",
                  "24",
                  "73"
                ],
                [
                  "22",
                  "23",
                  "Female",
                  "46",
                  "25",
                  "5"
                ],
                [
                  "23",
                  "24",
                  "Male",
                  "31",
                  "25",
                  "73"
                ],
                [
                  "24",
                  "25",
                  "Female",
                  "54",
                  "28",
                  "14"
                ],
                [
                  "25",
                  "26",
                  "Male",
                  "29",
                  "28",
                  "82"
                ],
                [
                  "26",
                  "27",
                  "Female",
                  "45",
                  "28",
                  "32"
                ],
                [
                  "27",
                  "28",
                  "Male",
                  "35",
                  "28",
                  "61"
                ],
                [
                  "28",
                  "29",
                  "Female",
                  "40",
                  "29",
                  "31"
                ],
                [
                  "29",
                  "30",
                  "Female",
                  "23",
                  "29",
                  "87"
                ],
                [
                  "30",
                  "31",
                  "Male",
                  "60",
                  "30",
                  "4"
                ],
                [
                  "31",
                  "32",
                  "Female",
                  "21",
                  "30",
                  "73"
                ],
                [
                  "32",
                  "33",
                  "Male",
                  "53",
                  "33",
                  "4"
                ],
                [
                  "33",
                  "34",
                  "Male",
                  "18",
                  "33",
                  "92"
                ],
                [
                  "34",
                  "35",
                  "Female",
                  "49",
                  "33",
                  "14"
                ],
                [
                  "35",
                  "36",
                  "Female",
                  "21",
                  "33",
                  "81"
                ],
                [
                  "36",
                  "37",
                  "Female",
                  "42",
                  "34",
                  "17"
                ],
                [
                  "37",
                  "38",
                  "Female",
                  "30",
                  "34",
                  "73"
                ],
                [
                  "38",
                  "39",
                  "Female",
                  "36",
                  "37",
                  "26"
                ],
                [
                  "39",
                  "40",
                  "Female",
                  "20",
                  "37",
                  "75"
                ],
                [
                  "40",
                  "41",
                  "Female",
                  "65",
                  "38",
                  "35"
                ],
                [
                  "41",
                  "42",
                  "Male",
                  "24",
                  "38",
                  "92"
                ],
                [
                  "42",
                  "43",
                  "Male",
                  "48",
                  "39",
                  "36"
                ],
                [
                  "43",
                  "44",
                  "Female",
                  "31",
                  "39",
                  "61"
                ],
                [
                  "44",
                  "45",
                  "Female",
                  "49",
                  "39",
                  "28"
                ],
                [
                  "45",
                  "46",
                  "Female",
                  "24",
                  "39",
                  "65"
                ],
                [
                  "46",
                  "47",
                  "Female",
                  "50",
                  "40",
                  "55"
                ],
                [
                  "47",
                  "48",
                  "Female",
                  "27",
                  "40",
                  "47"
                ],
                [
                  "48",
                  "49",
                  "Female",
                  "29",
                  "40",
                  "42"
                ],
                [
                  "49",
                  "50",
                  "Female",
                  "31",
                  "40",
                  "42"
                ]
              ],
              "shape": {
                "columns": 5,
                "rows": 200
              }
            },
            "text/html": [
              "<div>\n",
              "<style scoped>\n",
              "    .dataframe tbody tr th:only-of-type {\n",
              "        vertical-align: middle;\n",
              "    }\n",
              "\n",
              "    .dataframe tbody tr th {\n",
              "        vertical-align: top;\n",
              "    }\n",
              "\n",
              "    .dataframe thead th {\n",
              "        text-align: right;\n",
              "    }\n",
              "</style>\n",
              "<table border=\"1\" class=\"dataframe\">\n",
              "  <thead>\n",
              "    <tr style=\"text-align: right;\">\n",
              "      <th></th>\n",
              "      <th>CustomerID</th>\n",
              "      <th>Gender</th>\n",
              "      <th>Age</th>\n",
              "      <th>Annual Income (k$)</th>\n",
              "      <th>Spending Score (1-100)</th>\n",
              "    </tr>\n",
              "  </thead>\n",
              "  <tbody>\n",
              "    <tr>\n",
              "      <th>0</th>\n",
              "      <td>1</td>\n",
              "      <td>Male</td>\n",
              "      <td>19</td>\n",
              "      <td>15</td>\n",
              "      <td>39</td>\n",
              "    </tr>\n",
              "    <tr>\n",
              "      <th>1</th>\n",
              "      <td>2</td>\n",
              "      <td>Male</td>\n",
              "      <td>21</td>\n",
              "      <td>15</td>\n",
              "      <td>81</td>\n",
              "    </tr>\n",
              "    <tr>\n",
              "      <th>2</th>\n",
              "      <td>3</td>\n",
              "      <td>Female</td>\n",
              "      <td>20</td>\n",
              "      <td>16</td>\n",
              "      <td>6</td>\n",
              "    </tr>\n",
              "    <tr>\n",
              "      <th>3</th>\n",
              "      <td>4</td>\n",
              "      <td>Female</td>\n",
              "      <td>23</td>\n",
              "      <td>16</td>\n",
              "      <td>77</td>\n",
              "    </tr>\n",
              "    <tr>\n",
              "      <th>4</th>\n",
              "      <td>5</td>\n",
              "      <td>Female</td>\n",
              "      <td>31</td>\n",
              "      <td>17</td>\n",
              "      <td>40</td>\n",
              "    </tr>\n",
              "    <tr>\n",
              "      <th>...</th>\n",
              "      <td>...</td>\n",
              "      <td>...</td>\n",
              "      <td>...</td>\n",
              "      <td>...</td>\n",
              "      <td>...</td>\n",
              "    </tr>\n",
              "    <tr>\n",
              "      <th>195</th>\n",
              "      <td>196</td>\n",
              "      <td>Female</td>\n",
              "      <td>35</td>\n",
              "      <td>120</td>\n",
              "      <td>79</td>\n",
              "    </tr>\n",
              "    <tr>\n",
              "      <th>196</th>\n",
              "      <td>197</td>\n",
              "      <td>Female</td>\n",
              "      <td>45</td>\n",
              "      <td>126</td>\n",
              "      <td>28</td>\n",
              "    </tr>\n",
              "    <tr>\n",
              "      <th>197</th>\n",
              "      <td>198</td>\n",
              "      <td>Male</td>\n",
              "      <td>32</td>\n",
              "      <td>126</td>\n",
              "      <td>74</td>\n",
              "    </tr>\n",
              "    <tr>\n",
              "      <th>198</th>\n",
              "      <td>199</td>\n",
              "      <td>Male</td>\n",
              "      <td>32</td>\n",
              "      <td>137</td>\n",
              "      <td>18</td>\n",
              "    </tr>\n",
              "    <tr>\n",
              "      <th>199</th>\n",
              "      <td>200</td>\n",
              "      <td>Male</td>\n",
              "      <td>30</td>\n",
              "      <td>137</td>\n",
              "      <td>83</td>\n",
              "    </tr>\n",
              "  </tbody>\n",
              "</table>\n",
              "<p>200 rows × 5 columns</p>\n",
              "</div>"
            ],
            "text/plain": [
              "     CustomerID  Gender  Age  Annual Income (k$)  Spending Score (1-100)\n",
              "0             1    Male   19                  15                      39\n",
              "1             2    Male   21                  15                      81\n",
              "2             3  Female   20                  16                       6\n",
              "3             4  Female   23                  16                      77\n",
              "4             5  Female   31                  17                      40\n",
              "..          ...     ...  ...                 ...                     ...\n",
              "195         196  Female   35                 120                      79\n",
              "196         197  Female   45                 126                      28\n",
              "197         198    Male   32                 126                      74\n",
              "198         199    Male   32                 137                      18\n",
              "199         200    Male   30                 137                      83\n",
              "\n",
              "[200 rows x 5 columns]"
            ]
          },
          "execution_count": 1,
          "metadata": {},
          "output_type": "execute_result"
        }
      ],
      "source": [
        "# Import necessary libraries\n",
        "import pandas as pd\n",
        "from sklearn.cluster import KMeans\n",
        "import matplotlib.pyplot as plt\n",
        "\n",
        "# Step 1: Get the data\n",
        "df = pd.read_csv('https://raw.githubusercontent.com/msfasha/307304-Data-Mining/refs/heads/main/datasets/mall_customers.csv')\n",
        "df"
      ]
    },
    {
      "cell_type": "markdown",
      "metadata": {
        "id": "Sa4g7v5BWogk"
      },
      "source": [
        "### **Apply K-Means with K = 3**"
      ]
    },
    {
      "cell_type": "code",
      "execution_count": null,
      "metadata": {
        "colab": {
          "base_uri": "https://localhost:8080/",
          "height": 424
        },
        "id": "Ffq65fFbWogk",
        "outputId": "9eddc2f6-1b22-4898-ecd4-2255c3fff104"
      },
      "outputs": [
        {
          "data": {
            "text/html": [
              "<div>\n",
              "<style scoped>\n",
              "    .dataframe tbody tr th:only-of-type {\n",
              "        vertical-align: middle;\n",
              "    }\n",
              "\n",
              "    .dataframe tbody tr th {\n",
              "        vertical-align: top;\n",
              "    }\n",
              "\n",
              "    .dataframe thead th {\n",
              "        text-align: right;\n",
              "    }\n",
              "</style>\n",
              "<table border=\"1\" class=\"dataframe\">\n",
              "  <thead>\n",
              "    <tr style=\"text-align: right;\">\n",
              "      <th></th>\n",
              "      <th>CustomerID</th>\n",
              "      <th>Gender</th>\n",
              "      <th>Age</th>\n",
              "      <th>Annual Income (k$)</th>\n",
              "      <th>Spending Score (1-100)</th>\n",
              "      <th>Cluster</th>\n",
              "    </tr>\n",
              "  </thead>\n",
              "  <tbody>\n",
              "    <tr>\n",
              "      <th>0</th>\n",
              "      <td>1</td>\n",
              "      <td>Male</td>\n",
              "      <td>19</td>\n",
              "      <td>15</td>\n",
              "      <td>39</td>\n",
              "      <td>2</td>\n",
              "    </tr>\n",
              "    <tr>\n",
              "      <th>1</th>\n",
              "      <td>2</td>\n",
              "      <td>Male</td>\n",
              "      <td>21</td>\n",
              "      <td>15</td>\n",
              "      <td>81</td>\n",
              "      <td>2</td>\n",
              "    </tr>\n",
              "    <tr>\n",
              "      <th>2</th>\n",
              "      <td>3</td>\n",
              "      <td>Female</td>\n",
              "      <td>20</td>\n",
              "      <td>16</td>\n",
              "      <td>6</td>\n",
              "      <td>2</td>\n",
              "    </tr>\n",
              "    <tr>\n",
              "      <th>3</th>\n",
              "      <td>4</td>\n",
              "      <td>Female</td>\n",
              "      <td>23</td>\n",
              "      <td>16</td>\n",
              "      <td>77</td>\n",
              "      <td>2</td>\n",
              "    </tr>\n",
              "    <tr>\n",
              "      <th>4</th>\n",
              "      <td>5</td>\n",
              "      <td>Female</td>\n",
              "      <td>31</td>\n",
              "      <td>17</td>\n",
              "      <td>40</td>\n",
              "      <td>2</td>\n",
              "    </tr>\n",
              "    <tr>\n",
              "      <th>...</th>\n",
              "      <td>...</td>\n",
              "      <td>...</td>\n",
              "      <td>...</td>\n",
              "      <td>...</td>\n",
              "      <td>...</td>\n",
              "      <td>...</td>\n",
              "    </tr>\n",
              "    <tr>\n",
              "      <th>195</th>\n",
              "      <td>196</td>\n",
              "      <td>Female</td>\n",
              "      <td>35</td>\n",
              "      <td>120</td>\n",
              "      <td>79</td>\n",
              "      <td>1</td>\n",
              "    </tr>\n",
              "    <tr>\n",
              "      <th>196</th>\n",
              "      <td>197</td>\n",
              "      <td>Female</td>\n",
              "      <td>45</td>\n",
              "      <td>126</td>\n",
              "      <td>28</td>\n",
              "      <td>0</td>\n",
              "    </tr>\n",
              "    <tr>\n",
              "      <th>197</th>\n",
              "      <td>198</td>\n",
              "      <td>Male</td>\n",
              "      <td>32</td>\n",
              "      <td>126</td>\n",
              "      <td>74</td>\n",
              "      <td>1</td>\n",
              "    </tr>\n",
              "    <tr>\n",
              "      <th>198</th>\n",
              "      <td>199</td>\n",
              "      <td>Male</td>\n",
              "      <td>32</td>\n",
              "      <td>137</td>\n",
              "      <td>18</td>\n",
              "      <td>0</td>\n",
              "    </tr>\n",
              "    <tr>\n",
              "      <th>199</th>\n",
              "      <td>200</td>\n",
              "      <td>Male</td>\n",
              "      <td>30</td>\n",
              "      <td>137</td>\n",
              "      <td>83</td>\n",
              "      <td>1</td>\n",
              "    </tr>\n",
              "  </tbody>\n",
              "</table>\n",
              "<p>200 rows × 6 columns</p>\n",
              "</div>"
            ],
            "text/plain": [
              "     CustomerID  Gender  Age  Annual Income (k$)  Spending Score (1-100)  \\\n",
              "0             1    Male   19                  15                      39   \n",
              "1             2    Male   21                  15                      81   \n",
              "2             3  Female   20                  16                       6   \n",
              "3             4  Female   23                  16                      77   \n",
              "4             5  Female   31                  17                      40   \n",
              "..          ...     ...  ...                 ...                     ...   \n",
              "195         196  Female   35                 120                      79   \n",
              "196         197  Female   45                 126                      28   \n",
              "197         198    Male   32                 126                      74   \n",
              "198         199    Male   32                 137                      18   \n",
              "199         200    Male   30                 137                      83   \n",
              "\n",
              "     Cluster  \n",
              "0          2  \n",
              "1          2  \n",
              "2          2  \n",
              "3          2  \n",
              "4          2  \n",
              "..       ...  \n",
              "195        1  \n",
              "196        0  \n",
              "197        1  \n",
              "198        0  \n",
              "199        1  \n",
              "\n",
              "[200 rows x 6 columns]"
            ]
          },
          "execution_count": 2,
          "metadata": {},
          "output_type": "execute_result"
        }
      ],
      "source": [
        "# Step 2: Select relevant features (Annual Income and Spending Score) for clustering\n",
        "features = df[[\"Annual Income (k$)\", \"Spending Score (1-100)\"]]\n",
        "\n",
        "# Step 3: Apply K-Means with K=3\n",
        "kmeans = KMeans(n_clusters=3, random_state=42)\n",
        "kmeans.fit(features)\n",
        "\n",
        "# Step 4: Add the cluster labels to the DataFrame\n",
        "df[\"Cluster\"] = kmeans.labels_"
      ]
    },
    {
      "cell_type": "markdown",
      "metadata": {
        "id": "WMO1mpXcWogk"
      },
      "source": [
        "#### Print the updated dataframe showing the assigned cluster for each record"
      ]
    },
    {
      "cell_type": "code",
      "execution_count": null,
      "metadata": {
        "colab": {
          "base_uri": "https://localhost:8080/",
          "height": 424
        },
        "id": "GDZOhFndWogk",
        "outputId": "36de140f-5783-432e-fab2-bab5ca07ceb8"
      },
      "outputs": [
        {
          "data": {
            "text/html": [
              "<div>\n",
              "<style scoped>\n",
              "    .dataframe tbody tr th:only-of-type {\n",
              "        vertical-align: middle;\n",
              "    }\n",
              "\n",
              "    .dataframe tbody tr th {\n",
              "        vertical-align: top;\n",
              "    }\n",
              "\n",
              "    .dataframe thead th {\n",
              "        text-align: right;\n",
              "    }\n",
              "</style>\n",
              "<table border=\"1\" class=\"dataframe\">\n",
              "  <thead>\n",
              "    <tr style=\"text-align: right;\">\n",
              "      <th></th>\n",
              "      <th>CustomerID</th>\n",
              "      <th>Gender</th>\n",
              "      <th>Age</th>\n",
              "      <th>Annual Income (k$)</th>\n",
              "      <th>Spending Score (1-100)</th>\n",
              "      <th>Cluster</th>\n",
              "    </tr>\n",
              "  </thead>\n",
              "  <tbody>\n",
              "    <tr>\n",
              "      <th>0</th>\n",
              "      <td>1</td>\n",
              "      <td>Male</td>\n",
              "      <td>19</td>\n",
              "      <td>15</td>\n",
              "      <td>39</td>\n",
              "      <td>2</td>\n",
              "    </tr>\n",
              "    <tr>\n",
              "      <th>1</th>\n",
              "      <td>2</td>\n",
              "      <td>Male</td>\n",
              "      <td>21</td>\n",
              "      <td>15</td>\n",
              "      <td>81</td>\n",
              "      <td>2</td>\n",
              "    </tr>\n",
              "    <tr>\n",
              "      <th>2</th>\n",
              "      <td>3</td>\n",
              "      <td>Female</td>\n",
              "      <td>20</td>\n",
              "      <td>16</td>\n",
              "      <td>6</td>\n",
              "      <td>2</td>\n",
              "    </tr>\n",
              "    <tr>\n",
              "      <th>3</th>\n",
              "      <td>4</td>\n",
              "      <td>Female</td>\n",
              "      <td>23</td>\n",
              "      <td>16</td>\n",
              "      <td>77</td>\n",
              "      <td>2</td>\n",
              "    </tr>\n",
              "    <tr>\n",
              "      <th>4</th>\n",
              "      <td>5</td>\n",
              "      <td>Female</td>\n",
              "      <td>31</td>\n",
              "      <td>17</td>\n",
              "      <td>40</td>\n",
              "      <td>2</td>\n",
              "    </tr>\n",
              "    <tr>\n",
              "      <th>...</th>\n",
              "      <td>...</td>\n",
              "      <td>...</td>\n",
              "      <td>...</td>\n",
              "      <td>...</td>\n",
              "      <td>...</td>\n",
              "      <td>...</td>\n",
              "    </tr>\n",
              "    <tr>\n",
              "      <th>195</th>\n",
              "      <td>196</td>\n",
              "      <td>Female</td>\n",
              "      <td>35</td>\n",
              "      <td>120</td>\n",
              "      <td>79</td>\n",
              "      <td>1</td>\n",
              "    </tr>\n",
              "    <tr>\n",
              "      <th>196</th>\n",
              "      <td>197</td>\n",
              "      <td>Female</td>\n",
              "      <td>45</td>\n",
              "      <td>126</td>\n",
              "      <td>28</td>\n",
              "      <td>0</td>\n",
              "    </tr>\n",
              "    <tr>\n",
              "      <th>197</th>\n",
              "      <td>198</td>\n",
              "      <td>Male</td>\n",
              "      <td>32</td>\n",
              "      <td>126</td>\n",
              "      <td>74</td>\n",
              "      <td>1</td>\n",
              "    </tr>\n",
              "    <tr>\n",
              "      <th>198</th>\n",
              "      <td>199</td>\n",
              "      <td>Male</td>\n",
              "      <td>32</td>\n",
              "      <td>137</td>\n",
              "      <td>18</td>\n",
              "      <td>0</td>\n",
              "    </tr>\n",
              "    <tr>\n",
              "      <th>199</th>\n",
              "      <td>200</td>\n",
              "      <td>Male</td>\n",
              "      <td>30</td>\n",
              "      <td>137</td>\n",
              "      <td>83</td>\n",
              "      <td>1</td>\n",
              "    </tr>\n",
              "  </tbody>\n",
              "</table>\n",
              "<p>200 rows × 6 columns</p>\n",
              "</div>"
            ],
            "text/plain": [
              "     CustomerID  Gender  Age  Annual Income (k$)  Spending Score (1-100)  \\\n",
              "0             1    Male   19                  15                      39   \n",
              "1             2    Male   21                  15                      81   \n",
              "2             3  Female   20                  16                       6   \n",
              "3             4  Female   23                  16                      77   \n",
              "4             5  Female   31                  17                      40   \n",
              "..          ...     ...  ...                 ...                     ...   \n",
              "195         196  Female   35                 120                      79   \n",
              "196         197  Female   45                 126                      28   \n",
              "197         198    Male   32                 126                      74   \n",
              "198         199    Male   32                 137                      18   \n",
              "199         200    Male   30                 137                      83   \n",
              "\n",
              "     Cluster  \n",
              "0          2  \n",
              "1          2  \n",
              "2          2  \n",
              "3          2  \n",
              "4          2  \n",
              "..       ...  \n",
              "195        1  \n",
              "196        0  \n",
              "197        1  \n",
              "198        0  \n",
              "199        1  \n",
              "\n",
              "[200 rows x 6 columns]"
            ]
          },
          "execution_count": 3,
          "metadata": {},
          "output_type": "execute_result"
        }
      ],
      "source": [
        "df"
      ]
    },
    {
      "cell_type": "markdown",
      "metadata": {
        "id": "mrmErxP4Wogl"
      },
      "source": [
        "#### Print out the centroids of the clusters"
      ]
    },
    {
      "cell_type": "code",
      "execution_count": null,
      "metadata": {
        "colab": {
          "base_uri": "https://localhost:8080/"
        },
        "id": "0Cu1OdnGWogl",
        "outputId": "db806952-0f28-4e2e-caf5-811f42579228"
      },
      "outputs": [
        {
          "data": {
            "text/plain": [
              "array([[87.        , 18.63157895],\n",
              "       [86.53846154, 82.12820513],\n",
              "       [44.15447154, 49.82926829]])"
            ]
          },
          "execution_count": 4,
          "metadata": {},
          "output_type": "execute_result"
        }
      ],
      "source": [
        "kmeans.cluster_centers_"
      ]
    },
    {
      "cell_type": "markdown",
      "metadata": {
        "id": "_a3IXIcLWogp"
      },
      "source": [
        "Format centroids in a dataframe for better visualization"
      ]
    },
    {
      "cell_type": "code",
      "execution_count": null,
      "metadata": {
        "colab": {
          "base_uri": "https://localhost:8080/"
        },
        "id": "asqTfnRKWogp",
        "outputId": "bb86c2d0-9245-417f-d98c-124e581c3722"
      },
      "outputs": [
        {
          "name": "stdout",
          "output_type": "stream",
          "text": [
            "Centroids for each cluster:\n",
            "   Annual Income (k$)  Spending Score (1-100)\n",
            "0           87.000000               18.631579\n",
            "1           86.538462               82.128205\n",
            "2           44.154472               49.829268\n"
          ]
        }
      ],
      "source": [
        "# Assuming features and KMeans object already defined\n",
        "centroids = pd.DataFrame(kmeans.cluster_centers_, columns=features.columns)\n",
        "\n",
        "# Display centroids for interpretation\n",
        "print(\"Centroids for each cluster:\")\n",
        "print(centroids)"
      ]
    },
    {
      "cell_type": "markdown",
      "metadata": {
        "id": "AFTjrwkhWogq"
      },
      "source": [
        "#### Display The Scatter Plot and the DataFrame"
      ]
    },
    {
      "cell_type": "code",
      "execution_count": null,
      "metadata": {
        "colab": {
          "base_uri": "https://localhost:8080/",
          "height": 472
        },
        "id": "wKVEoj3bWogq",
        "outputId": "ab253c0a-bb98-4c04-b785-fd1c7fc2976d"
      },
      "outputs": [
        {
          "data": {
            "image/png": "[encoded data removed]",
            "text/plain": [
              "<Figure size 640x480 with 1 Axes>"
            ]
          },
          "metadata": {},
          "output_type": "display_data"
        }
      ],
      "source": [
        "# Step 5: Plot the clusters and centroids\n",
        "plt.scatter(features[\"Annual Income (k$)\"], features[\"Spending Score (1-100)\"], c=df[\"Cluster\"], cmap=\"rainbow\")\n",
        "plt.scatter(kmeans.cluster_centers_[:, 0], kmeans.cluster_centers_[:, 1], color=\"black\", marker=\"x\", label=\"Centroids\")\n",
        "plt.title(\"K-Means Clustering (K=3)\")\n",
        "plt.xlabel(\"Annual Income (k$)\")\n",
        "plt.ylabel(\"Spending Score (1-100)\")\n",
        "plt.legend()\n",
        "plt.show()"
      ]
    },
    {
      "cell_type": "markdown",
      "metadata": {
        "id": "0PCBprFNWogq"
      },
      "source": [
        "**Explanation**:\n",
        "- **Step 1**: We create a simple 2D dataset.\n",
        "- **Step 2**: We apply K-Means clustering with $ K = 3 $.\n",
        "- **Step 3**: We assign each data point to a cluster and store the result in the DataFrame.\n",
        "- **Step 4**: We plot the clusters with different colors and mark the centroids with black 'x's."
      ]
    },
    {
      "cell_type": "markdown",
      "metadata": {
        "id": "WLv-Grf2Wogq"
      },
      "source": [
        "#### **Observations for \\(k=3\\):**\n",
        "\n",
        "1. **Cluster Formation**:\n",
        "   - The data points are divided into **three distinct clusters**, differentiated by their spending scores and annual incomes.\n",
        "   - The clusters reflect distinct patterns in customer behavior.\n",
        "\n",
        "2. **Cluster Characteristics**:\n",
        "   - **Cluster 1 (e.g., Red)**:\n",
        "     - Represents customers with **low to moderate income** and a **wide range of spending scores**.\n",
        "     - Includes customers who might be more price-conscious or have varied spending behaviors.\n",
        "   - **Cluster 2 (e.g., Purple)**:\n",
        "     - Comprises customers with **high income** but **low spending scores**.\n",
        "     - Indicates potentially frugal or savings-oriented individuals, despite higher incomes.\n",
        "   - **Cluster 3 (e.g., Green)**:\n",
        "     - Includes customers with **high income** and **high spending scores**.\n",
        "     - Likely represents high-value customers who are ideal for premium marketing campaigns.\n",
        "\n",
        "3. **Centroid Placement**:\n",
        "   - The centroids (black \"X\" markers) represent the mean position of each cluster.\n",
        "   - The distance between centroids suggests clear separation between the groups.\n",
        "\n",
        "4. **Insights**:\n",
        "   - This segmentation aligns well with typical customer segmentation strategies in marketing:\n",
        "     - **Cluster 1**: Target with discounts or budget-friendly options.\n",
        "     - **Cluster 2**: Upsell higher-end products or encourage spending.\n",
        "     - **Cluster 3**: Retain as loyal high-value customers with exclusive offers.\n",
        "\n",
        "5. **Potential Next Steps**:\n",
        "   - Validate the clusters with real-world customer behavior (e.g., demographic or shopping preferences).\n",
        "   - Experiment with **k=4** to check for further sub-clusters.\n",
        "   - Perform **3D clustering** by adding another feature (e.g., Age or Gender)."
      ]
    },
    {
      "cell_type": "markdown",
      "metadata": {
        "id": "hCMfDvjPWogs"
      },
      "source": [
        "### **Apply K-Means with K = 4**"
      ]
    },
    {
      "cell_type": "code",
      "execution_count": null,
      "metadata": {
        "colab": {
          "base_uri": "https://localhost:8080/",
          "height": 472
        },
        "id": "ztqvcfffWogs",
        "outputId": "83a8e67b-dc37-4513-84b2-97773ace55dc"
      },
      "outputs": [
        {
          "data": {
            "image/png": "[encoded data removed]",
            "text/plain": [
              "<Figure size 640x480 with 1 Axes>"
            ]
          },
          "metadata": {},
          "output_type": "display_data"
        }
      ],
      "source": [
        "# Select relevant features (Annual Income and Spending Score) for clustering\n",
        "features = df[[\"Annual Income (k$)\", \"Spending Score (1-100)\"]]\n",
        "\n",
        "# Apply K-Means with K=4\n",
        "kmeans = KMeans(n_clusters=4, random_state=42)\n",
        "kmeans.fit(features)\n",
        "\n",
        "# Add assigned clusters to each row\n",
        "df[\"Cluster\"] = kmeans.labels_\n",
        "\n",
        "# Plot the clusters and centroids\n",
        "plt.scatter(features[\"Annual Income (k$)\"], features[\"Spending Score (1-100)\"], c=df[\"Cluster\"], cmap=\"rainbow\")\n",
        "plt.scatter(kmeans.cluster_centers_[:, 0], kmeans.cluster_centers_[:, 1], color=\"black\", marker=\"x\", label=\"Centroids\")\n",
        "plt.title(\"K-Means Clustering (K=4)\")\n",
        "plt.xlabel(\"Annual Income (k$)\")\n",
        "plt.ylabel(\"Spending Score (1-100)\")\n",
        "plt.legend()\n",
        "plt.show()"
      ]
    },
    {
      "cell_type": "markdown",
      "metadata": {
        "id": "Ucla1WXnWogs"
      },
      "source": [
        "With \\(k=4\\) clusters, the customer segmentation becomes more refined. Here are the observations and insights:\n",
        "\n",
        "#### **Observations**\n",
        "1. **Cluster Formation**:\n",
        "   - The data is divided into four distinct clusters, with clear separation along **Annual Income (k$)** and **Spending Score (1-100)**.\n",
        "\n",
        "2. **Cluster Characteristics**:\n",
        "   - **Cluster 1 (Light Green)**:\n",
        "     - **Low Annual Income**, **High Spending Score**.\n",
        "     - Represents customers who spend a large proportion of their income, possibly impulsive spenders or younger customers.\n",
        "   - **Cluster 2 (Purple)**:\n",
        "     - **Moderate Annual Income**, **Moderate Spending Score**.\n",
        "     - Likely represents the \"average\" customer with balanced income and spending behavior.\n",
        "   - **Cluster 3 (Light Blue)**:\n",
        "     - **High Annual Income**, **High Spending Score**.\n",
        "     - Represents premium, high-value customers with significant purchasing power.\n",
        "   - **Cluster 4 (Purple)**:\n",
        "     - **High Annual Income**, **Low Spending Score**.\n",
        "     - Likely represents frugal or savings-oriented individuals who may prioritize saving over spending despite their high income.\n",
        "\n",
        "3. **Centroids**:\n",
        "   - The centroids (black \"X\" markers) represent the average characteristics of each cluster.\n",
        "   - Clear separation of centroids confirms meaningful clusters."
      ]
    },
    {
      "cell_type": "markdown",
      "metadata": {
        "id": "3ww9NcvSVR4O"
      },
      "source": [
        "#### **Insights**\n",
        "1. **Marketing Strategies**:\n",
        "   - **Cluster 1 (Light Green)**:\n",
        "     - Target with discounts, promotions, or budget-friendly offers to maximize spending potential.\n",
        "   - **Cluster 2 (Purple)**:\n",
        "     - Maintain regular engagement, as they represent a balanced customer segment.\n",
        "   - **Cluster 3 (Light Blue)**:\n",
        "     - Focus on premium products and services. These customers are ideal for exclusive campaigns.\n",
        "   - **Cluster 4 (Purple)**:\n",
        "     - Consider introducing tailored promotions or incentivizing spending for this segment.\n",
        "\n",
        "2. **Segmentation Insights**:\n",
        "   - Including \\(k=4\\) provides finer segmentation, highlighting distinct behavioral groups like \"impulsive spenders\" and \"savings-oriented high-income customers.\"\n",
        "   - This segmentation can inform personalized marketing and product offerings.\n",
        "\n",
        "3. **Potential for Further Analysis**:\n",
        "   - **3D Clustering**: Add a third feature like **Age** to see if it further refines the clusters.\n",
        "   - **Exploring Gender**: Overlay gender information to analyze behavioral patterns by gender."
      ]
    },
    {
      "cell_type": "markdown",
      "metadata": {
        "id": "0DkbNd0PWogs"
      },
      "source": [
        "---"
      ]
    },
    {
      "cell_type": "markdown",
      "metadata": {
        "id": "Bei571N2Wogs"
      },
      "source": [
        "#### 8. **Cluster Data Using 3 Features**"
      ]
    },
    {
      "cell_type": "code",
      "execution_count": null,
      "metadata": {
        "colab": {
          "base_uri": "https://localhost:8080/",
          "height": 424
        },
        "id": "3Wmu2VLDWogt",
        "outputId": "c54bde39-8c95-485c-ee1d-1798923c73d3"
      },
      "outputs": [
        {
          "data": {
            "text/html": [
              "<div>\n",
              "<style scoped>\n",
              "    .dataframe tbody tr th:only-of-type {\n",
              "        vertical-align: middle;\n",
              "    }\n",
              "\n",
              "    .dataframe tbody tr th {\n",
              "        vertical-align: top;\n",
              "    }\n",
              "\n",
              "    .dataframe thead th {\n",
              "        text-align: right;\n",
              "    }\n",
              "</style>\n",
              "<table border=\"1\" class=\"dataframe\">\n",
              "  <thead>\n",
              "    <tr style=\"text-align: right;\">\n",
              "      <th></th>\n",
              "      <th>CustomerID</th>\n",
              "      <th>Gender</th>\n",
              "      <th>Age</th>\n",
              "      <th>Annual Income (k$)</th>\n",
              "      <th>Spending Score (1-100)</th>\n",
              "      <th>Cluster</th>\n",
              "    </tr>\n",
              "  </thead>\n",
              "  <tbody>\n",
              "    <tr>\n",
              "      <th>0</th>\n",
              "      <td>1</td>\n",
              "      <td>Male</td>\n",
              "      <td>19</td>\n",
              "      <td>15</td>\n",
              "      <td>39</td>\n",
              "      <td>2</td>\n",
              "    </tr>\n",
              "    <tr>\n",
              "      <th>1</th>\n",
              "      <td>2</td>\n",
              "      <td>Male</td>\n",
              "      <td>21</td>\n",
              "      <td>15</td>\n",
              "      <td>81</td>\n",
              "      <td>2</td>\n",
              "    </tr>\n",
              "    <tr>\n",
              "      <th>2</th>\n",
              "      <td>3</td>\n",
              "      <td>Female</td>\n",
              "      <td>20</td>\n",
              "      <td>16</td>\n",
              "      <td>6</td>\n",
              "      <td>0</td>\n",
              "    </tr>\n",
              "    <tr>\n",
              "      <th>3</th>\n",
              "      <td>4</td>\n",
              "      <td>Female</td>\n",
              "      <td>23</td>\n",
              "      <td>16</td>\n",
              "      <td>77</td>\n",
              "      <td>2</td>\n",
              "    </tr>\n",
              "    <tr>\n",
              "      <th>4</th>\n",
              "      <td>5</td>\n",
              "      <td>Female</td>\n",
              "      <td>31</td>\n",
              "      <td>17</td>\n",
              "      <td>40</td>\n",
              "      <td>2</td>\n",
              "    </tr>\n",
              "    <tr>\n",
              "      <th>...</th>\n",
              "      <td>...</td>\n",
              "      <td>...</td>\n",
              "      <td>...</td>\n",
              "      <td>...</td>\n",
              "      <td>...</td>\n",
              "      <td>...</td>\n",
              "    </tr>\n",
              "    <tr>\n",
              "      <th>195</th>\n",
              "      <td>196</td>\n",
              "      <td>Female</td>\n",
              "      <td>35</td>\n",
              "      <td>120</td>\n",
              "      <td>79</td>\n",
              "      <td>1</td>\n",
              "    </tr>\n",
              "    <tr>\n",
              "      <th>196</th>\n",
              "      <td>197</td>\n",
              "      <td>Female</td>\n",
              "      <td>45</td>\n",
              "      <td>126</td>\n",
              "      <td>28</td>\n",
              "      <td>1</td>\n",
              "    </tr>\n",
              "    <tr>\n",
              "      <th>197</th>\n",
              "      <td>198</td>\n",
              "      <td>Male</td>\n",
              "      <td>32</td>\n",
              "      <td>126</td>\n",
              "      <td>74</td>\n",
              "      <td>1</td>\n",
              "    </tr>\n",
              "    <tr>\n",
              "      <th>198</th>\n",
              "      <td>199</td>\n",
              "      <td>Male</td>\n",
              "      <td>32</td>\n",
              "      <td>137</td>\n",
              "      <td>18</td>\n",
              "      <td>1</td>\n",
              "    </tr>\n",
              "    <tr>\n",
              "      <th>199</th>\n",
              "      <td>200</td>\n",
              "      <td>Male</td>\n",
              "      <td>30</td>\n",
              "      <td>137</td>\n",
              "      <td>83</td>\n",
              "      <td>1</td>\n",
              "    </tr>\n",
              "  </tbody>\n",
              "</table>\n",
              "<p>200 rows × 6 columns</p>\n",
              "</div>"
            ],
            "text/plain": [
              "     CustomerID  Gender  Age  Annual Income (k$)  Spending Score (1-100)  \\\n",
              "0             1    Male   19                  15                      39   \n",
              "1             2    Male   21                  15                      81   \n",
              "2             3  Female   20                  16                       6   \n",
              "3             4  Female   23                  16                      77   \n",
              "4             5  Female   31                  17                      40   \n",
              "..          ...     ...  ...                 ...                     ...   \n",
              "195         196  Female   35                 120                      79   \n",
              "196         197  Female   45                 126                      28   \n",
              "197         198    Male   32                 126                      74   \n",
              "198         199    Male   32                 137                      18   \n",
              "199         200    Male   30                 137                      83   \n",
              "\n",
              "     Cluster  \n",
              "0          2  \n",
              "1          2  \n",
              "2          0  \n",
              "3          2  \n",
              "4          2  \n",
              "..       ...  \n",
              "195        1  \n",
              "196        1  \n",
              "197        1  \n",
              "198        1  \n",
              "199        1  \n",
              "\n",
              "[200 rows x 6 columns]"
            ]
          },
          "execution_count": 9,
          "metadata": {},
          "output_type": "execute_result"
        }
      ],
      "source": [
        "# Step 2: Select relevant features (Annual Income and Spending Score) for clustering\n",
        "features = df[[\"Annual Income (k$)\", \"Spending Score (1-100)\", \"Age\"]]\n",
        "\n",
        "# Step 3: Apply K-Means with K=3\n",
        "kmeans = KMeans(n_clusters=3, random_state=42)\n",
        "kmeans.fit(features)\n",
        "\n",
        "# Step 4: Add the cluster labels to the DataFrame\n",
        "df[\"Cluster\"] = kmeans.labels_\n",
        "\n",
        "df"
      ]
    },
    {
      "cell_type": "markdown",
      "metadata": {
        "id": "7ZRlv6DiWogt"
      },
      "source": [
        "##### Display Centroids"
      ]
    },
    {
      "cell_type": "code",
      "execution_count": null,
      "metadata": {
        "colab": {
          "base_uri": "https://localhost:8080/"
        },
        "id": "OhPUstCvWogt",
        "outputId": "2cb73714-a771-4723-cbd4-12b23adc0c06"
      },
      "outputs": [
        {
          "name": "stdout",
          "output_type": "stream",
          "text": [
            "Centroids for each cluster:\n",
            "   Annual Income (k$)  Spending Score (1-100)        Age\n",
            "0           59.879032               35.427419  44.483871\n",
            "1           88.731707               79.243902  32.975610\n",
            "2           29.971429               68.514286  25.771429\n"
          ]
        }
      ],
      "source": [
        "centroids = pd.DataFrame(kmeans.cluster_centers_, columns=features.columns)\n",
        "\n",
        "# Display centroids for interpretation\n",
        "print(\"Centroids for each cluster:\")\n",
        "print(centroids)"
      ]
    },
    {
      "cell_type": "markdown",
      "metadata": {
        "id": "g4KsgrAhWogt"
      },
      "source": [
        "##### 3D Scatter Plot\n",
        "We can use a 3D scatter plot to visualize three features together."
      ]
    },
    {
      "cell_type": "code",
      "execution_count": null,
      "metadata": {
        "colab": {
          "base_uri": "https://localhost:8080/",
          "height": 439
        },
        "id": "ykXd__A_Wogu",
        "outputId": "33d7f27b-8a4b-4857-b877-2043560990be"
      },
      "outputs": [
        {
          "data": {
            "image/png": "[encoded data removed]",
            "text/plain": [
              "<Figure size 640x480 with 1 Axes>"
            ]
          },
          "metadata": {},
          "output_type": "display_data"
        }
      ],
      "source": [
        "from mpl_toolkits.mplot3d import Axes3D\n",
        "\n",
        "fig = plt.figure()\n",
        "ax = fig.add_subplot(111, projection='3d')\n",
        "\n",
        "# Plotting points\n",
        "ax.scatter(\n",
        "    df[\"Annual Income (k$)\"],\n",
        "    df[\"Spending Score (1-100)\"],\n",
        "    df[\"Age\"],\n",
        "    c=df[\"Cluster\"], cmap=\"rainbow\"\n",
        ")\n",
        "\n",
        "# Label axes\n",
        "ax.set_title(\"K-Means Clustering (3 Features)\")\n",
        "ax.set_xlabel(\"Annual Income (k$)\")\n",
        "ax.set_ylabel(\"Spending Score (1-100)\")\n",
        "ax.set_zlabel(\"Age\")\n",
        "plt.show()"
      ]
    },
    {
      "cell_type": "markdown",
      "metadata": {
        "id": "rIiltuEAWogu"
      },
      "source": [
        "##### Use Plotly Package to Create Dynamic Plots"
      ]
    },
    {
      "cell_type": "code",
      "execution_count": null,
      "metadata": {
        "colab": {
          "base_uri": "https://localhost:8080/",
          "height": 817
        },
        "id": "oHWKfR0tWogu",
        "outputId": "44117223-9a0a-410a-d42c-d3dafb900aac"
      },
      "outputs": [
        {
          "data": {
            "application/vnd.plotly.v1+json": {
              "config": {
                "plotlyServerURL": "https://plot.ly"
              },
              "data": [
                {
                  "hovertemplate": "Annual Income (k$)=%{x}<br>Spending Score (1-100)=%{y}<br>Age=%{z}<br>Cluster=%{marker.color}<extra></extra>",
                  "legendgroup": "",
                  "marker": {
                    "color": [
                      2,
                      2,
                      0,
                      2,
                      2,
                      2,
                      0,
                      2,
                      0,
                      2,
                      0,
                      2,
                      0,
                      2,
                      0,
                      2,
                      2,
                      2,
                      0,
                      2,
                      2,
                      2,
                      0,
                      2,
                      0,
                      2,
                      0,
                      2,
                      0,
                      2,
                      0,
                      2,
                      0,
                      2,
                      0,
                      2,
                      0,
                      2,
                      0,
                      2,
                      0,
                      2,
                      0,
                      2,
                      0,
                      2,
                      0,
                      2,
                      0,
                      0,
                      0,
                      2,
                      2,
                      0,
                      0,
                      0,
                      0,
                      0,
                      2,
                      0,
                      0,
                      2,
                      0,
                      0,
                      0,
                      2,
                      0,
                      0,
                      2,
                      0,
                      0,
                      0,
                      0,
                      0,
                      0,
                      0,
                      0,
                      0,
                      0,
                      0,
                      0,
                      0,
                      0,
                      0,
                      2,
                      0,
                      0,
                      0,
                      0,
                      0,
                      0,
                      0,
                      0,
                      0,
                      0,
                      0,
                      0,
                      0,
                      0,
                      0,
                      0,
                      0,
                      0,
                      0,
                      0,
                      0,
                      0,
                      0,
                      0,
                      0,
                      0,
                      0,
                      0,
                      0,
                      0,
                      0,
                      0,
                      0,
                      0,
                      0,
                      0,
                      0,
                      0,
                      1,
                      0,
                      1,
                      0,
                      1,
                      0,
                      1,
                      0,
                      1,
                      0,
                      1,
                      0,
                      1,
                      0,
                      1,
                      0,
                      1,
                      0,
                      1,
                      0,
                      1,
                      0,
                      1,
                      0,
                      1,
                      0,
                      1,
                      0,
                      1,
                      0,
                      1,
                      0,
                      1,
                      0,
                      1,
                      0,
                      1,
                      0,
                      1,
                      0,
                      1,
                      0,
                      1,
                      0,
                      1,
                      0,
                      1,
                      0,
                      1,
                      0,
                      1,
                      0,
                      1,
                      0,
                      1,
                      0,
                      1,
                      0,
                      1,
                      0,
                      1,
                      0,
                      1,
                      0,
                      1,
                      0,
                      1,
                      0,
                      1,
                      0,
                      1,
                      0,
                      1,
                      1,
                      1,
                      1,
                      1
                    ],
                    "coloraxis": "coloraxis",
                    "symbol": "circle"
                  },
                  "mode": "markers",
                  "name": "",
                  "scene": "scene",
                  "showlegend": false,
                  "type": "scatter3d",
                  "x": [
                    15,
                    15,
                    16,
                    16,
                    17,
                    17,
                    18,
                    18,
                    19,
                    19,
                    19,
                    19,
                    20,
                    20,
                    20,
                    20,
                    21,
                    21,
                    23,
                    23,
                    24,
                    24,
                    25,
                    25,
                    28,
                    28,
                    28,
                    28,
                    29,
                    29,
                    30,
                    30,
                    33,
                    33,
                    33,
                    33,
                    34,
                    34,
                    37,
                    37,
                    38,
                    38,
                    39,
                    39,
                    39,
                    39,
                    40,
                    40,
                    40,
                    40,
                    42,
                    42,
                    43,
                    43,
                    43,
                    43,
                    44,
                    44,
                    46,
                    46,
                    46,
                    46,
                    47,
                    47,
                    48,
                    48,
                    48,
                    48,
                    48,
                    48,
                    49,
                    49,
                    50,
                    50,
                    54,
                    54,
                    54,
                    54,
                    54,
                    54,
                    54,
                    54,
                    54,
                    54,
                    54,
                    54,
                    57,
                    57,
                    58,
                    58,
                    59,
                    59,
                    60,
                    60,
                    60,
                    60,
                    60,
                    60,
                    61,
                    61,
                    62,
                    62,
                    62,
                    62,
                    62,
                    62,
                    63,
                    63,
                    63,
                    63,
                    63,
                    63,
                    64,
                    64,
                    65,
                    65,
                    65,
                    65,
                    67,
                    67,
                    67,
                    67,
                    69,
                    69,
                    70,
                    70,
                    71,
                    71,
                    71,
                    71,
                    71,
                    71,
                    72,
                    72,
                    73,
                    73,
                    73,
                    73,
                    74,
                    74,
                    75,
                    75,
                    76,
                    76,
                    77,
                    77,
                    77,
                    77,
                    78,
                    78,
                    78,
                    78,
                    78,
                    78,
                    78,
                    78,
                    78,
                    78,
                    78,
                    78,
                    79,
                    79,
                    81,
                    81,
                    85,
                    85,
                    86,
                    86,
                    87,
                    87,
                    87,
                    87,
                    87,
                    87,
                    88,
                    88,
                    88,
                    88,
                    93,
                    93,
                    97,
                    97,
                    98,
                    98,
                    99,
                    99,
                    101,
                    101,
                    103,
                    103,
                    103,
                    103,
                    113,
                    113,
                    120,
                    120,
                    126,
                    126,
                    137,
                    137
                  ],
                  "y": [
                    39,
                    81,
                    6,
                    77,
                    40,
                    76,
                    6,
                    94,
                    3,
                    72,
                    14,
                    99,
                    15,
                    77,
                    13,
                    79,
                    35,
                    66,
                    29,
                    98,
                    35,
                    73,
                    5,
                    73,
                    14,
                    82,
                    32,
                    61,
                    31,
                    87,
                    4,
                    73,
                    4,
                    92,
                    14,
                    81,
                    17,
                    73,
                    26,
                    75,
                    35,
                    92,
                    36,
                    61,
                    28,
                    65,
                    55,
                    47,
                    42,
                    42,
                    52,
                    60,
                    54,
                    60,
                    45,
                    41,
                    50,
                    46,
                    51,
                    46,
                    56,
                    55,
                    52,
                    59,
                    51,
                    59,
                    50,
                    48,
                    59,
                    47,
                    55,
                    42,
                    49,
                    56,
                    47,
                    54,
                    53,
                    48,
                    52,
                    42,
                    51,
                    55,
                    41,
                    44,
                    57,
                    46,
                    58,
                    55,
                    60,
                    46,
                    55,
                    41,
                    49,
                    40,
                    42,
                    52,
                    47,
                    50,
                    42,
                    49,
                    41,
                    48,
                    59,
                    55,
                    56,
                    42,
                    50,
                    46,
                    43,
                    48,
                    52,
                    54,
                    42,
                    46,
                    48,
                    50,
                    43,
                    59,
                    43,
                    57,
                    56,
                    40,
                    58,
                    91,
                    29,
                    77,
                    35,
                    95,
                    11,
                    75,
                    9,
                    75,
                    34,
                    71,
                    5,
                    88,
                    7,
                    73,
                    10,
                    72,
                    5,
                    93,
                    40,
                    87,
                    12,
                    97,
                    36,
                    74,
                    22,
                    90,
                    17,
                    88,
                    20,
                    76,
                    16,
                    89,
                    1,
                    78,
                    1,
                    73,
                    35,
                    83,
                    5,
                    93,
                    26,
                    75,
                    20,
                    95,
                    27,
                    63,
                    13,
                    75,
                    10,
                    92,
                    13,
                    86,
                    15,
                    69,
                    14,
                    90,
                    32,
                    86,
                    15,
                    88,
                    39,
                    97,
                    24,
                    68,
                    17,
                    85,
                    23,
                    69,
                    8,
                    91,
                    16,
                    79,
                    28,
                    74,
                    18,
                    83
                  ],
                  "z": [
                    19,
                    21,
                    20,
                    23,
                    31,
                    22,
                    35,
                    23,
                    64,
                    30,
                    67,
                    35,
                    58,
                    24,
                    37,
                    22,
                    35,
                    20,
                    52,
                    35,
                    35,
                    25,
                    46,
                    31,
                    54,
                    29,
                    45,
                    35,
                    40,
                    23,
                    60,
                    21,
                    53,
                    18,
                    49,
                    21,
                    42,
                    30,
                    36,
                    20,
                    65,
                    24,
                    48,
                    31,
                    49,
                    24,
                    50,
                    27,
                    29,
                    31,
                    49,
                    33,
                    31,
                    59,
                    50,
                    47,
                    51,
                    69,
                    27,
                    53,
                    70,
                    19,
                    67,
                    54,
                    63,
                    18,
                    43,
                    68,
                    19,
                    32,
                    70,
                    47,
                    60,
                    60,
                    59,
                    26,
                    45,
                    40,
                    23,
                    49,
                    57,
                    38,
                    67,
                    46,
                    21,
                    48,
                    55,
                    22,
                    34,
                    50,
                    68,
                    18,
                    48,
                    40,
                    32,
                    24,
                    47,
                    27,
                    48,
                    20,
                    23,
                    49,
                    67,
                    26,
                    49,
                    21,
                    66,
                    54,
                    68,
                    66,
                    65,
                    19,
                    38,
                    19,
                    18,
                    19,
                    63,
                    49,
                    51,
                    50,
                    27,
                    38,
                    40,
                    39,
                    23,
                    31,
                    43,
                    40,
                    59,
                    38,
                    47,
                    39,
                    25,
                    31,
                    20,
                    29,
                    44,
                    32,
                    19,
                    35,
                    57,
                    32,
                    28,
                    32,
                    25,
                    28,
                    48,
                    32,
                    34,
                    34,
                    43,
                    39,
                    44,
                    38,
                    47,
                    27,
                    37,
                    30,
                    34,
                    30,
                    56,
                    29,
                    19,
                    31,
                    50,
                    36,
                    42,
                    33,
                    36,
                    32,
                    40,
                    28,
                    36,
                    36,
                    52,
                    30,
                    58,
                    27,
                    59,
                    35,
                    37,
                    32,
                    46,
                    29,
                    41,
                    30,
                    54,
                    28,
                    41,
                    36,
                    34,
                    32,
                    33,
                    38,
                    47,
                    35,
                    45,
                    32,
                    32,
                    30
                  ]
                }
              ],
              "layout": {
                "coloraxis": {
                  "colorbar": {
                    "title": {
                      "text": "Cluster"
                    }
                  },
                  "colorscale": [
                    [
                      0,
                      "#0d0887"
                    ],
                    [
                      0.1111111111111111,
                      "#46039f"
                    ],
                    [
                      0.2222222222222222,
                      "#7201a8"
                    ],
                    [
                      0.3333333333333333,
                      "#9c179e"
                    ],
                    [
                      0.4444444444444444,
                      "#bd3786"
                    ],
                    [
                      0.5555555555555556,
                      "#d8576b"
                    ],
                    [
                      0.6666666666666666,
                      "#ed7953"
                    ],
                    [
                      0.7777777777777778,
                      "#fb9f3a"
                    ],
                    [
                      0.8888888888888888,
                      "#fdca26"
                    ],
                    [
                      1,
                      "#f0f921"
                    ]
                  ]
                },
                "height": 800,
                "legend": {
                  "tracegroupgap": 0
                },
                "scene": {
                  "domain": {
                    "x": [
                      0,
                      1
                    ],
                    "y": [
                      0,
                      1
                    ]
                  },
                  "xaxis": {
                    "title": {
                      "text": "Annual Income (k$)"
                    }
                  },
                  "yaxis": {
                    "title": {
                      "text": "Spending Score (1-100)"
                    }
                  },
                  "zaxis": {
                    "title": {
                      "text": "Age"
                    }
                  }
                },
                "template": {
                  "data": {
                    "bar": [
                      {
                        "error_x": {
                          "color": "#2a3f5f"
                        },
                        "error_y": {
                          "color": "#2a3f5f"
                        },
                        "marker": {
                          "line": {
                            "color": "#E5ECF6",
                            "width": 0.5
                          },
                          "pattern": {
                            "fillmode": "overlay",
                            "size": 10,
                            "solidity": 0.2
                          }
                        },
                        "type": "bar"
                      }
                    ],
                    "barpolar": [
                      {
                        "marker": {
                          "line": {
                            "color": "#E5ECF6",
                            "width": 0.5
                          },
                          "pattern": {
                            "fillmode": "overlay",
                            "size": 10,
                            "solidity": 0.2
                          }
                        },
                        "type": "barpolar"
                      }
                    ],
                    "carpet": [
                      {
                        "aaxis": {
                          "endlinecolor": "#2a3f5f",
                          "gridcolor": "white",
                          "linecolor": "white",
                          "minorgridcolor": "white",
                          "startlinecolor": "#2a3f5f"
                        },
                        "baxis": {
                          "endlinecolor": "#2a3f5f",
                          "gridcolor": "white",
                          "linecolor": "white",
                          "minorgridcolor": "white",
                          "startlinecolor": "#2a3f5f"
                        },
                        "type": "carpet"
                      }
                    ],
                    "choropleth": [
                      {
                        "colorbar": {
                          "outlinewidth": 0,
                          "ticks": ""
                        },
                        "type": "choropleth"
                      }
                    ],
                    "contour": [
                      {
                        "colorbar": {
                          "outlinewidth": 0,
                          "ticks": ""
                        },
                        "colorscale": [
                          [
                            0,
                            "#0d0887"
                          ],
                          [
                            0.1111111111111111,
                            "#46039f"
                          ],
                          [
                            0.2222222222222222,
                            "#7201a8"
                          ],
                          [
                            0.3333333333333333,
                            "#9c179e"
                          ],
                          [
                            0.4444444444444444,
                            "#bd3786"
                          ],
                          [
                            0.5555555555555556,
                            "#d8576b"
                          ],
                          [
                            0.6666666666666666,
                            "#ed7953"
                          ],
                          [
                            0.7777777777777778,
                            "#fb9f3a"
                          ],
                          [
                            0.8888888888888888,
                            "#fdca26"
                          ],
                          [
                            1,
                            "#f0f921"
                          ]
                        ],
                        "type": "contour"
                      }
                    ],
                    "contourcarpet": [
                      {
                        "colorbar": {
                          "outlinewidth": 0,
                          "ticks": ""
                        },
                        "type": "contourcarpet"
                      }
                    ],
                    "heatmap": [
                      {
                        "colorbar": {
                          "outlinewidth": 0,
                          "ticks": ""
                        },
                        "colorscale": [
                          [
                            0,
                            "#0d0887"
                          ],
                          [
                            0.1111111111111111,
                            "#46039f"
                          ],
                          [
                            0.2222222222222222,
                            "#7201a8"
                          ],
                          [
                            0.3333333333333333,
                            "#9c179e"
                          ],
                          [
                            0.4444444444444444,
                            "#bd3786"
                          ],
                          [
                            0.5555555555555556,
                            "#d8576b"
                          ],
                          [
                            0.6666666666666666,
                            "#ed7953"
                          ],
                          [
                            0.7777777777777778,
                            "#fb9f3a"
                          ],
                          [
                            0.8888888888888888,
                            "#fdca26"
                          ],
                          [
                            1,
                            "#f0f921"
                          ]
                        ],
                        "type": "heatmap"
                      }
                    ],
                    "heatmapgl": [
                      {
                        "colorbar": {
                          "outlinewidth": 0,
                          "ticks": ""
                        },
                        "colorscale": [
                          [
                            0,
                            "#0d0887"
                          ],
                          [
                            0.1111111111111111,
                            "#46039f"
                          ],
                          [
                            0.2222222222222222,
                            "#7201a8"
                          ],
                          [
                            0.3333333333333333,
                            "#9c179e"
                          ],
                          [
                            0.4444444444444444,
                            "#bd3786"
                          ],
                          [
                            0.5555555555555556,
                            "#d8576b"
                          ],
                          [
                            0.6666666666666666,
                            "#ed7953"
                          ],
                          [
                            0.7777777777777778,
                            "#fb9f3a"
                          ],
                          [
                            0.8888888888888888,
                            "#fdca26"
                          ],
                          [
                            1,
                            "#f0f921"
                          ]
                        ],
                        "type": "heatmapgl"
                      }
                    ],
                    "histogram": [
                      {
                        "marker": {
                          "pattern": {
                            "fillmode": "overlay",
                            "size": 10,
                            "solidity": 0.2
                          }
                        },
                        "type": "histogram"
                      }
                    ],
                    "histogram2d": [
                      {
                        "colorbar": {
                          "outlinewidth": 0,
                          "ticks": ""
                        },
                        "colorscale": [
                          [
                            0,
                            "#0d0887"
                          ],
                          [
                            0.1111111111111111,
                            "#46039f"
                          ],
                          [
                            0.2222222222222222,
                            "#7201a8"
                          ],
                          [
                            0.3333333333333333,
                            "#9c179e"
                          ],
                          [
                            0.4444444444444444,
                            "#bd3786"
                          ],
                          [
                            0.5555555555555556,
                            "#d8576b"
                          ],
                          [
                            0.6666666666666666,
                            "#ed7953"
                          ],
                          [
                            0.7777777777777778,
                            "#fb9f3a"
                          ],
                          [
                            0.8888888888888888,
                            "#fdca26"
                          ],
                          [
                            1,
                            "#f0f921"
                          ]
                        ],
                        "type": "histogram2d"
                      }
                    ],
                    "histogram2dcontour": [
                      {
                        "colorbar": {
                          "outlinewidth": 0,
                          "ticks": ""
                        },
                        "colorscale": [
                          [
                            0,
                            "#0d0887"
                          ],
                          [
                            0.1111111111111111,
                            "#46039f"
                          ],
                          [
                            0.2222222222222222,
                            "#7201a8"
                          ],
                          [
                            0.3333333333333333,
                            "#9c179e"
                          ],
                          [
                            0.4444444444444444,
                            "#bd3786"
                          ],
                          [
                            0.5555555555555556,
                            "#d8576b"
                          ],
                          [
                            0.6666666666666666,
                            "#ed7953"
                          ],
                          [
                            0.7777777777777778,
                            "#fb9f3a"
                          ],
                          [
                            0.8888888888888888,
                            "#fdca26"
                          ],
                          [
                            1,
                            "#f0f921"
                          ]
                        ],
                        "type": "histogram2dcontour"
                      }
                    ],
                    "mesh3d": [
                      {
                        "colorbar": {
                          "outlinewidth": 0,
                          "ticks": ""
                        },
                        "type": "mesh3d"
                      }
                    ],
                    "parcoords": [
                      {
                        "line": {
                          "colorbar": {
                            "outlinewidth": 0,
                            "ticks": ""
                          }
                        },
                        "type": "parcoords"
                      }
                    ],
                    "pie": [
                      {
                        "automargin": true,
                        "type": "pie"
                      }
                    ],
                    "scatter": [
                      {
                        "fillpattern": {
                          "fillmode": "overlay",
                          "size": 10,
                          "solidity": 0.2
                        },
                        "type": "scatter"
                      }
                    ],
                    "scatter3d": [
                      {
                        "line": {
                          "colorbar": {
                            "outlinewidth": 0,
                            "ticks": ""
                          }
                        },
                        "marker": {
                          "colorbar": {
                            "outlinewidth": 0,
                            "ticks": ""
                          }
                        },
                        "type": "scatter3d"
                      }
                    ],
                    "scattercarpet": [
                      {
                        "marker": {
                          "colorbar": {
                            "outlinewidth": 0,
                            "ticks": ""
                          }
                        },
                        "type": "scattercarpet"
                      }
                    ],
                    "scattergeo": [
                      {
                        "marker": {
                          "colorbar": {
                            "outlinewidth": 0,
                            "ticks": ""
                          }
                        },
                        "type": "scattergeo"
                      }
                    ],
                    "scattergl": [
                      {
                        "marker": {
                          "colorbar": {
                            "outlinewidth": 0,
                            "ticks": ""
                          }
                        },
                        "type": "scattergl"
                      }
                    ],
                    "scattermapbox": [
                      {
                        "marker": {
                          "colorbar": {
                            "outlinewidth": 0,
                            "ticks": ""
                          }
                        },
                        "type": "scattermapbox"
                      }
                    ],
                    "scatterpolar": [
                      {
                        "marker": {
                          "colorbar": {
                            "outlinewidth": 0,
                            "ticks": ""
                          }
                        },
                        "type": "scatterpolar"
                      }
                    ],
                    "scatterpolargl": [
                      {
                        "marker": {
                          "colorbar": {
                            "outlinewidth": 0,
                            "ticks": ""
                          }
                        },
                        "type": "scatterpolargl"
                      }
                    ],
                    "scatterternary": [
                      {
                        "marker": {
                          "colorbar": {
                            "outlinewidth": 0,
                            "ticks": ""
                          }
                        },
                        "type": "scatterternary"
                      }
                    ],
                    "surface": [
                      {
                        "colorbar": {
                          "outlinewidth": 0,
                          "ticks": ""
                        },
                        "colorscale": [
                          [
                            0,
                            "#0d0887"
                          ],
                          [
                            0.1111111111111111,
                            "#46039f"
                          ],
                          [
                            0.2222222222222222,
                            "#7201a8"
                          ],
                          [
                            0.3333333333333333,
                            "#9c179e"
                          ],
                          [
                            0.4444444444444444,
                            "#bd3786"
                          ],
                          [
                            0.5555555555555556,
                            "#d8576b"
                          ],
                          [
                            0.6666666666666666,
                            "#ed7953"
                          ],
                          [
                            0.7777777777777778,
                            "#fb9f3a"
                          ],
                          [
                            0.8888888888888888,
                            "#fdca26"
                          ],
                          [
                            1,
                            "#f0f921"
                          ]
                        ],
                        "type": "surface"
                      }
                    ],
                    "table": [
                      {
                        "cells": {
                          "fill": {
                            "color": "#EBF0F8"
                          },
                          "line": {
                            "color": "white"
                          }
                        },
                        "header": {
                          "fill": {
                            "color": "#C8D4E3"
                          },
                          "line": {
                            "color": "white"
                          }
                        },
                        "type": "table"
                      }
                    ]
                  },
                  "layout": {
                    "annotationdefaults": {
                      "arrowcolor": "#2a3f5f",
                      "arrowhead": 0,
                      "arrowwidth": 1
                    },
                    "autotypenumbers": "strict",
                    "coloraxis": {
                      "colorbar": {
                        "outlinewidth": 0,
                        "ticks": ""
                      }
                    },
                    "colorscale": {
                      "diverging": [
                        [
                          0,
                          "#8e0152"
                        ],
                        [
                          0.1,
                          "#c51b7d"
                        ],
                        [
                          0.2,
                          "#de77ae"
                        ],
                        [
                          0.3,
                          "#f1b6da"
                        ],
                        [
                          0.4,
                          "#fde0ef"
                        ],
                        [
                          0.5,
                          "#f7f7f7"
                        ],
                        [
                          0.6,
                          "#e6f5d0"
                        ],
                        [
                          0.7,
                          "#b8e186"
                        ],
                        [
                          0.8,
                          "#7fbc41"
                        ],
                        [
                          0.9,
                          "#4d9221"
                        ],
                        [
                          1,
                          "#276419"
                        ]
                      ],
                      "sequential": [
                        [
                          0,
                          "#0d0887"
                        ],
                        [
                          0.1111111111111111,
                          "#46039f"
                        ],
                        [
                          0.2222222222222222,
                          "#7201a8"
                        ],
                        [
                          0.3333333333333333,
                          "#9c179e"
                        ],
                        [
                          0.4444444444444444,
                          "#bd3786"
                        ],
                        [
                          0.5555555555555556,
                          "#d8576b"
                        ],
                        [
                          0.6666666666666666,
                          "#ed7953"
                        ],
                        [
                          0.7777777777777778,
                          "#fb9f3a"
                        ],
                        [
                          0.8888888888888888,
                          "#fdca26"
                        ],
                        [
                          1,
                          "#f0f921"
                        ]
                      ],
                      "sequentialminus": [
                        [
                          0,
                          "#0d0887"
                        ],
                        [
                          0.1111111111111111,
                          "#46039f"
                        ],
                        [
                          0.2222222222222222,
                          "#7201a8"
                        ],
                        [
                          0.3333333333333333,
                          "#9c179e"
                        ],
                        [
                          0.4444444444444444,
                          "#bd3786"
                        ],
                        [
                          0.5555555555555556,
                          "#d8576b"
                        ],
                        [
                          0.6666666666666666,
                          "#ed7953"
                        ],
                        [
                          0.7777777777777778,
                          "#fb9f3a"
                        ],
                        [
                          0.8888888888888888,
                          "#fdca26"
                        ],
                        [
                          1,
                          "#f0f921"
                        ]
                      ]
                    },
                    "colorway": [
                      "#636efa",
                      "#EF553B",
                      "#00cc96",
                      "#ab63fa",
                      "#FFA15A",
                      "#19d3f3",
                      "#FF6692",
                      "#B6E880",
                      "#FF97FF",
                      "#FECB52"
                    ],
                    "font": {
                      "color": "#2a3f5f"
                    },
                    "geo": {
                      "bgcolor": "white",
                      "lakecolor": "white",
                      "landcolor": "#E5ECF6",
                      "showlakes": true,
                      "showland": true,
                      "subunitcolor": "white"
                    },
                    "hoverlabel": {
                      "align": "left"
                    },
                    "hovermode": "closest",
                    "mapbox": {
                      "style": "light"
                    },
                    "paper_bgcolor": "white",
                    "plot_bgcolor": "#E5ECF6",
                    "polar": {
                      "angularaxis": {
                        "gridcolor": "white",
                        "linecolor": "white",
                        "ticks": ""
                      },
                      "bgcolor": "#E5ECF6",
                      "radialaxis": {
                        "gridcolor": "white",
                        "linecolor": "white",
                        "ticks": ""
                      }
                    },
                    "scene": {
                      "xaxis": {
                        "backgroundcolor": "#E5ECF6",
                        "gridcolor": "white",
                        "gridwidth": 2,
                        "linecolor": "white",
                        "showbackground": true,
                        "ticks": "",
                        "zerolinecolor": "white"
                      },
                      "yaxis": {
                        "backgroundcolor": "#E5ECF6",
                        "gridcolor": "white",
                        "gridwidth": 2,
                        "linecolor": "white",
                        "showbackground": true,
                        "ticks": "",
                        "zerolinecolor": "white"
                      },
                      "zaxis": {
                        "backgroundcolor": "#E5ECF6",
                        "gridcolor": "white",
                        "gridwidth": 2,
                        "linecolor": "white",
                        "showbackground": true,
                        "ticks": "",
                        "zerolinecolor": "white"
                      }
                    },
                    "shapedefaults": {
                      "line": {
                        "color": "#2a3f5f"
                      }
                    },
                    "ternary": {
                      "aaxis": {
                        "gridcolor": "white",
                        "linecolor": "white",
                        "ticks": ""
                      },
                      "baxis": {
                        "gridcolor": "white",
                        "linecolor": "white",
                        "ticks": ""
                      },
                      "bgcolor": "#E5ECF6",
                      "caxis": {
                        "gridcolor": "white",
                        "linecolor": "white",
                        "ticks": ""
                      }
                    },
                    "title": {
                      "x": 0.05
                    },
                    "xaxis": {
                      "automargin": true,
                      "gridcolor": "white",
                      "linecolor": "white",
                      "ticks": "",
                      "title": {
                        "standoff": 15
                      },
                      "zerolinecolor": "white",
                      "zerolinewidth": 2
                    },
                    "yaxis": {
                      "automargin": true,
                      "gridcolor": "white",
                      "linecolor": "white",
                      "ticks": "",
                      "title": {
                        "standoff": 15
                      },
                      "zerolinecolor": "white",
                      "zerolinewidth": 2
                    }
                  }
                },
                "title": {
                  "text": "K-Means Clustering (3 Features)"
                },
                "width": 1000
              }
            }
          },
          "metadata": {},
          "output_type": "display_data"
        }
      ],
      "source": [
        "import plotly.express as px\n",
        "\n",
        "# Create an interactive 3D scatter plot\n",
        "fig = px.scatter_3d(\n",
        "    df,\n",
        "    x=\"Annual Income (k$)\",\n",
        "    y=\"Spending Score (1-100)\",\n",
        "    z=\"Age\",\n",
        "    color=\"Cluster\",  # Color points by cluster\n",
        "    title=\"K-Means Clustering (3 Features)\",\n",
        "    labels={\n",
        "        \"Annual Income (k$)\": \"Annual Income (k$)\",\n",
        "        \"Spending Score (1-100)\": \"Spending Score (1-100)\",\n",
        "        \"Age\": \"Age\"\n",
        "    },\n",
        "    width=1000,  # Set the width of the plot\n",
        "    height=800   # Set the height of the plot\n",
        ")\n",
        "\n",
        "# Show the interactive plot\n",
        "fig.show()\n"
      ]
    },
    {
      "cell_type": "markdown",
      "metadata": {
        "id": "rdTgRxYHWogu"
      },
      "source": [
        "##### Pairwise Scatter Plots\n",
        "We can create scatter plots for each pair of the three features, highlighting clusters using different colors."
      ]
    },
    {
      "cell_type": "code",
      "execution_count": null,
      "metadata": {
        "colab": {
          "base_uri": "https://localhost:8080/",
          "height": 757
        },
        "id": "qPpONbbeWogu",
        "outputId": "c7667cc3-5ebe-4b1e-d637-9343a254a6c4"
      },
      "outputs": [
        {
          "data": {
            "image/png": "[encoded data removed]",
            "text/plain": [
              "<Figure size 810.361x750 with 12 Axes>"
            ]
          },
          "metadata": {},
          "output_type": "display_data"
        }
      ],
      "source": [
        "import seaborn as sns\n",
        "\n",
        "# Add Cluster information to the dataframe\n",
        "sns.pairplot(df, vars=[\"Annual Income (k$)\", \"Spending Score (1-100)\", \"Age\"], hue=\"Cluster\", palette=\"rainbow\")\n",
        "plt.show()\n"
      ]
    },
    {
      "cell_type": "markdown",
      "metadata": {
        "id": "Ut5fO52cWogv"
      },
      "source": [
        "This pair plot visualizes the relationships between **Annual Income (k$)**, **Spending Score (1-100)**, and **Age** across the identified customer clusters.\n",
        "\n",
        "### **Observations**\n",
        "1. **Cluster Separation**:\n",
        "   - **Cluster 0 (Purple)**:\n",
        "     - Spreads across a wide range of **Annual Income** but tends to have **low Spending Scores**.\n",
        "     - Includes a mix of ages, but younger individuals dominate.\n",
        "   - **Cluster 1 (Green)**:\n",
        "     - Consists of customers with **high Spending Scores** and moderate to high **Annual Income**.\n",
        "     - Likely includes customers who spend consistently regardless of age.\n",
        "   - **Cluster 2 (Red)**:\n",
        "     - Concentrated among customers with **low Annual Income** and **high Spending Scores**.\n",
        "     - Mostly young customers, indicating impulsive or budget-focused spenders.\n",
        "\n",
        "2. **Feature Interactions**:\n",
        "   - **Annual Income vs. Spending Score**:\n",
        "     - Cluster 0 includes customers with higher income but lower spending.\n",
        "     - Cluster 1 indicates high-spending customers across various income levels.\n",
        "     - Cluster 2 reflects high spending at lower income levels, highlighting a younger demographic.\n",
        "   - **Age**:\n",
        "     - Younger customers dominate **Cluster 2**, while **Cluster 1** has a broader age range.\n",
        "     - Older customers tend to appear in **Cluster 0**, indicating cautious spending habits.\n",
        "\n",
        "---\n",
        "\n",
        "### **Recommendations**\n",
        "1. **Targeted Marketing**:\n",
        "   - **Cluster 0 (Low Spending, Higher Income)**:\n",
        "     - Encourage spending with tailored promotions or loyalty programs.\n",
        "     - Highlight premium products to appeal to their income level.\n",
        "   - **Cluster 1 (High Spending, Various Income)**:\n",
        "     - Retain these high-value customers through exclusive rewards or VIP experiences.\n",
        "     - Offer premium and mid-tier products.\n",
        "   - **Cluster 2 (Low Income, High Spending)**:\n",
        "     - Focus on budget-friendly offers and promotions.\n",
        "     - Use engaging campaigns to maintain loyalty among younger customers.\n",
        "\n",
        "2. **Product Offerings**:\n",
        "   - **Cluster 1**:\n",
        "     - Expand premium offerings or subscription services for consistent high spenders.\n",
        "   - **Cluster 2**:\n",
        "     - Focus on affordability and discounts to cater to their financial constraints.\n",
        "\n",
        "3. **Explore Subclusters**:\n",
        "   - Analyze **Cluster 0** further to identify why some high-income customers spend less.\n",
        "   - Investigate potential subsegments in **Cluster 1** to tailor campaigns further.\n",
        "\n",
        "4. **Use Age Segmentation**:\n",
        "   - Younger customers (in **Cluster 2**) might respond to digital campaigns.\n",
        "   - Older customers (in **Cluster 0**) may value traditional marketing and personalized service."
      ]
    },
    {
      "cell_type": "markdown",
      "metadata": {
        "id": "L4N_9OIcWogv"
      },
      "source": [
        "---\n",
        "\n",
        "#### 9. **Conclusion**\n",
        "\n",
        "K-Means is a simple and efficient clustering algorithm, widely used for partitioning datasets into clusters. It’s easy to implement, but it has some limitations, such as the need to specify the number of clusters in advance and sensitivity to the initial choice of centroids."
      ]
    }
  ],
  "metadata": {
    "colab": {
      "provenance": []
    },
    "kernelspec": {
      "display_name": "myenv",
      "language": "python",
      "name": "python3"
    },
    "language_info": {
      "codemirror_mode": {
        "name": "ipython",
        "version": 3
      },
      "file_extension": ".py",
      "mimetype": "text/x-python",
      "name": "python",
      "nbconvert_exporter": "python",
      "pygments_lexer": "ipython3",
      "version": "3.12.3"
    }
  },
  "nbformat": 4,
  "nbformat_minor": 0
}